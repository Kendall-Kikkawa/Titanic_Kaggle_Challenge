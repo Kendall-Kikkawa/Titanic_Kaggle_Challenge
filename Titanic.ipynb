{
 "cells": [
  {
   "cell_type": "code",
   "execution_count": 1,
   "metadata": {},
   "outputs": [],
   "source": [
    "import pandas as pd\n",
    "import numpy as np\n",
    "import matplotlib.pyplot as plt\n",
    "import seaborn as sns\n",
    "\n",
    "\n",
    "from sklearn.preprocessing import StandardScaler\n",
    "from sklearn.feature_selection import SelectFromModel\n",
    "from sklearn.linear_model import LogisticRegression\n",
    "from sklearn.ensemble import RandomForestClassifier\n",
    "from sklearn.neighbors import KNeighborsClassifier\n",
    "from sklearn.naive_bayes import GaussianNB\n",
    "from sklearn.svm import LinearSVC\n",
    "from sklearn.svm import SVC\n",
    "from sklearn.model_selection import KFold\n",
    "from sklearn.model_selection import GridSearchCV\n",
    "from sklearn.pipeline import Pipeline, make_pipeline\n",
    "from sklearn import metrics\n",
    "from sklearn.metrics import confusion_matrix\n",
    "from sklearn.ensemble import VotingClassifier"
   ]
  },
  {
   "cell_type": "markdown",
   "metadata": {},
   "source": [
    "# Titanic Competition\n",
    "\n",
    "0. Loading in the data\n",
    "1. EDA\n",
    "2. Preprocessing and Feature Engineering\n",
    "3. Modeling\n",
    "4. Final Model Diagnostics and Predictions"
   ]
  },
  {
   "cell_type": "markdown",
   "metadata": {},
   "source": [
    "## 0: Loading in the data"
   ]
  },
  {
   "cell_type": "code",
   "execution_count": 2,
   "metadata": {},
   "outputs": [
    {
     "data": {
      "text/html": [
       "<div>\n",
       "<style scoped>\n",
       "    .dataframe tbody tr th:only-of-type {\n",
       "        vertical-align: middle;\n",
       "    }\n",
       "\n",
       "    .dataframe tbody tr th {\n",
       "        vertical-align: top;\n",
       "    }\n",
       "\n",
       "    .dataframe thead th {\n",
       "        text-align: right;\n",
       "    }\n",
       "</style>\n",
       "<table border=\"1\" class=\"dataframe\">\n",
       "  <thead>\n",
       "    <tr style=\"text-align: right;\">\n",
       "      <th></th>\n",
       "      <th>PassengerId</th>\n",
       "      <th>Survived</th>\n",
       "      <th>Pclass</th>\n",
       "      <th>Name</th>\n",
       "      <th>Sex</th>\n",
       "      <th>Age</th>\n",
       "      <th>SibSp</th>\n",
       "      <th>Parch</th>\n",
       "      <th>Ticket</th>\n",
       "      <th>Fare</th>\n",
       "      <th>Cabin</th>\n",
       "      <th>Embarked</th>\n",
       "    </tr>\n",
       "  </thead>\n",
       "  <tbody>\n",
       "    <tr>\n",
       "      <th>0</th>\n",
       "      <td>1</td>\n",
       "      <td>0</td>\n",
       "      <td>3</td>\n",
       "      <td>Braund, Mr. Owen Harris</td>\n",
       "      <td>male</td>\n",
       "      <td>22.0</td>\n",
       "      <td>1</td>\n",
       "      <td>0</td>\n",
       "      <td>A/5 21171</td>\n",
       "      <td>7.2500</td>\n",
       "      <td>NaN</td>\n",
       "      <td>S</td>\n",
       "    </tr>\n",
       "    <tr>\n",
       "      <th>1</th>\n",
       "      <td>2</td>\n",
       "      <td>1</td>\n",
       "      <td>1</td>\n",
       "      <td>Cumings, Mrs. John Bradley (Florence Briggs Th...</td>\n",
       "      <td>female</td>\n",
       "      <td>38.0</td>\n",
       "      <td>1</td>\n",
       "      <td>0</td>\n",
       "      <td>PC 17599</td>\n",
       "      <td>71.2833</td>\n",
       "      <td>C85</td>\n",
       "      <td>C</td>\n",
       "    </tr>\n",
       "    <tr>\n",
       "      <th>2</th>\n",
       "      <td>3</td>\n",
       "      <td>1</td>\n",
       "      <td>3</td>\n",
       "      <td>Heikkinen, Miss. Laina</td>\n",
       "      <td>female</td>\n",
       "      <td>26.0</td>\n",
       "      <td>0</td>\n",
       "      <td>0</td>\n",
       "      <td>STON/O2. 3101282</td>\n",
       "      <td>7.9250</td>\n",
       "      <td>NaN</td>\n",
       "      <td>S</td>\n",
       "    </tr>\n",
       "    <tr>\n",
       "      <th>3</th>\n",
       "      <td>4</td>\n",
       "      <td>1</td>\n",
       "      <td>1</td>\n",
       "      <td>Futrelle, Mrs. Jacques Heath (Lily May Peel)</td>\n",
       "      <td>female</td>\n",
       "      <td>35.0</td>\n",
       "      <td>1</td>\n",
       "      <td>0</td>\n",
       "      <td>113803</td>\n",
       "      <td>53.1000</td>\n",
       "      <td>C123</td>\n",
       "      <td>S</td>\n",
       "    </tr>\n",
       "    <tr>\n",
       "      <th>4</th>\n",
       "      <td>5</td>\n",
       "      <td>0</td>\n",
       "      <td>3</td>\n",
       "      <td>Allen, Mr. William Henry</td>\n",
       "      <td>male</td>\n",
       "      <td>35.0</td>\n",
       "      <td>0</td>\n",
       "      <td>0</td>\n",
       "      <td>373450</td>\n",
       "      <td>8.0500</td>\n",
       "      <td>NaN</td>\n",
       "      <td>S</td>\n",
       "    </tr>\n",
       "  </tbody>\n",
       "</table>\n",
       "</div>"
      ],
      "text/plain": [
       "   PassengerId  Survived  Pclass  \\\n",
       "0            1         0       3   \n",
       "1            2         1       1   \n",
       "2            3         1       3   \n",
       "3            4         1       1   \n",
       "4            5         0       3   \n",
       "\n",
       "                                                Name     Sex   Age  SibSp  \\\n",
       "0                            Braund, Mr. Owen Harris    male  22.0      1   \n",
       "1  Cumings, Mrs. John Bradley (Florence Briggs Th...  female  38.0      1   \n",
       "2                             Heikkinen, Miss. Laina  female  26.0      0   \n",
       "3       Futrelle, Mrs. Jacques Heath (Lily May Peel)  female  35.0      1   \n",
       "4                           Allen, Mr. William Henry    male  35.0      0   \n",
       "\n",
       "   Parch            Ticket     Fare Cabin Embarked  \n",
       "0      0         A/5 21171   7.2500   NaN        S  \n",
       "1      0          PC 17599  71.2833   C85        C  \n",
       "2      0  STON/O2. 3101282   7.9250   NaN        S  \n",
       "3      0            113803  53.1000  C123        S  \n",
       "4      0            373450   8.0500   NaN        S  "
      ]
     },
     "execution_count": 2,
     "metadata": {},
     "output_type": "execute_result"
    }
   ],
   "source": [
    "train = pd.read_csv('data/train.csv')\n",
    "test = pd.read_csv('data/test.csv')\n",
    "train.head()"
   ]
  },
  {
   "cell_type": "code",
   "execution_count": 3,
   "metadata": {},
   "outputs": [
    {
     "name": "stdout",
     "output_type": "stream",
     "text": [
      "<class 'pandas.core.frame.DataFrame'>\n",
      "RangeIndex: 891 entries, 0 to 890\n",
      "Data columns (total 12 columns):\n",
      " #   Column       Non-Null Count  Dtype  \n",
      "---  ------       --------------  -----  \n",
      " 0   PassengerId  891 non-null    int64  \n",
      " 1   Survived     891 non-null    int64  \n",
      " 2   Pclass       891 non-null    int64  \n",
      " 3   Name         891 non-null    object \n",
      " 4   Sex          891 non-null    object \n",
      " 5   Age          714 non-null    float64\n",
      " 6   SibSp        891 non-null    int64  \n",
      " 7   Parch        891 non-null    int64  \n",
      " 8   Ticket       891 non-null    object \n",
      " 9   Fare         891 non-null    float64\n",
      " 10  Cabin        204 non-null    object \n",
      " 11  Embarked     889 non-null    object \n",
      "dtypes: float64(2), int64(5), object(5)\n",
      "memory usage: 83.7+ KB\n"
     ]
    }
   ],
   "source": [
    "train.info()"
   ]
  },
  {
   "cell_type": "code",
   "execution_count": 4,
   "metadata": {},
   "outputs": [
    {
     "name": "stdout",
     "output_type": "stream",
     "text": [
      "<class 'pandas.core.frame.DataFrame'>\n",
      "RangeIndex: 418 entries, 0 to 417\n",
      "Data columns (total 11 columns):\n",
      " #   Column       Non-Null Count  Dtype  \n",
      "---  ------       --------------  -----  \n",
      " 0   PassengerId  418 non-null    int64  \n",
      " 1   Pclass       418 non-null    int64  \n",
      " 2   Name         418 non-null    object \n",
      " 3   Sex          418 non-null    object \n",
      " 4   Age          332 non-null    float64\n",
      " 5   SibSp        418 non-null    int64  \n",
      " 6   Parch        418 non-null    int64  \n",
      " 7   Ticket       418 non-null    object \n",
      " 8   Fare         417 non-null    float64\n",
      " 9   Cabin        91 non-null     object \n",
      " 10  Embarked     418 non-null    object \n",
      "dtypes: float64(2), int64(4), object(5)\n",
      "memory usage: 36.0+ KB\n"
     ]
    }
   ],
   "source": [
    "test.info()"
   ]
  },
  {
   "cell_type": "markdown",
   "metadata": {},
   "source": [
    "## 1. EDA"
   ]
  },
  {
   "cell_type": "code",
   "execution_count": 5,
   "metadata": {},
   "outputs": [
    {
     "data": {
      "image/png": "[encoded data removed]",
      "text/plain": [
       "<Figure size 432x288 with 1 Axes>"
      ]
     },
     "metadata": {
      "needs_background": "light"
     },
     "output_type": "display_data"
    }
   ],
   "source": [
    "# Some class imbalance, but not extreme\n",
    "sns.countplot(x='Survived', data=train);"
   ]
  },
  {
   "cell_type": "markdown",
   "metadata": {},
   "source": [
    "### 1.2 Categorical Features\n",
    "\n",
    "Relationship between categorical features and the binary response variable"
   ]
  },
  {
   "cell_type": "code",
   "execution_count": 6,
   "metadata": {},
   "outputs": [
    {
     "data": {
      "image/png": "[encoded data removed]",
      "text/plain": [
       "<Figure size 864x720 with 6 Axes>"
      ]
     },
     "metadata": {
      "needs_background": "light"
     },
     "output_type": "display_data"
    }
   ],
   "source": [
    "fig, ax = plt.subplots(3, 2, figsize=(12, 10), sharex=False)\n",
    "sns.barplot(x='Pclass', y='Survived', data=train, ax=ax[0, 0]);\n",
    "sns.barplot(x='Sex', y='Survived', data=train, ax=ax[0, 1]);\n",
    "sns.barplot(x='SibSp', y='Survived', data=train, ax=ax[1, 0]);\n",
    "sns.barplot(x='Parch', y='Survived', data=train, ax=ax[1, 1]);\n",
    "sns.barplot(x='Embarked', y='Survived', data=train, ax=ax[2, 0]);\n",
    "fig.tight_layout()"
   ]
  },
  {
   "cell_type": "markdown",
   "metadata": {},
   "source": [
    "1. Higher classes more likely to survive\n",
    "2. Females much more likely to survive\n",
    "3. Passengers with 1 or 2 siblings or spouses more likely to survive\n",
    "4. Passengers with 1 2 or 3 parents or children more likely to survive\n",
    "5. Passengers from Cherbourg more likely to survive"
   ]
  },
  {
   "cell_type": "code",
   "execution_count": 7,
   "metadata": {
    "scrolled": false
   },
   "outputs": [
    {
     "name": "stdout",
     "output_type": "stream",
     "text": [
      "681\n"
     ]
    },
    {
     "data": {
      "text/plain": [
       "1601        7\n",
       "347082      7\n",
       "CA. 2343    7\n",
       "3101295     6\n",
       "CA 2144     6\n",
       "           ..\n",
       "250643      1\n",
       "3101265     1\n",
       "226593      1\n",
       "36209       1\n",
       "111240      1\n",
       "Name: Ticket, Length: 681, dtype: int64"
      ]
     },
     "execution_count": 7,
     "metadata": {},
     "output_type": "execute_result"
    }
   ],
   "source": [
    "# Repeat tickets for same family\n",
    "print(len(train['Ticket'].unique()))\n",
    "train['Ticket'].value_counts()"
   ]
  },
  {
   "cell_type": "code",
   "execution_count": 8,
   "metadata": {},
   "outputs": [
    {
     "name": "stdout",
     "output_type": "stream",
     "text": [
      "148\n"
     ]
    },
    {
     "data": {
      "text/plain": [
       "array([nan, 'C85', 'C123', 'E46', 'G6', 'C103', 'D56', 'A6',\n",
       "       'C23 C25 C27', 'B78'], dtype=object)"
      ]
     },
     "execution_count": 8,
     "metadata": {},
     "output_type": "execute_result"
    }
   ],
   "source": [
    "# First letter may give an indication of survival?\n",
    "print(len(train['Cabin'].unique()))\n",
    "train['Cabin'].unique()[:10]"
   ]
  },
  {
   "cell_type": "markdown",
   "metadata": {},
   "source": [
    "### 1.2 Continuous Features\n",
    "\n",
    "Relationship between continuous features and the binary response variable"
   ]
  },
  {
   "cell_type": "code",
   "execution_count": 9,
   "metadata": {},
   "outputs": [
    {
     "data": {
      "image/png": "[encoded data removed]",
      "text/plain": [
       "<Figure size 864x432 with 2 Axes>"
      ]
     },
     "metadata": {
      "needs_background": "light"
     },
     "output_type": "display_data"
    }
   ],
   "source": [
    "fig, ax = plt.subplots(1, 2, figsize=(12, 6), sharex=False)\n",
    "sns.boxplot(x='Survived', y='Age', data=train, ax=ax[0]);\n",
    "sns.boxplot(x='Survived', y='Fare', data=train, ax=ax[1]);\n",
    "plt.tight_layout();"
   ]
  },
  {
   "cell_type": "markdown",
   "metadata": {},
   "source": [
    "1. Not much differentiation, but appears that non-survivors were slightly older\n",
    "2. A good amount of outliers, but survivors had a higher fare"
   ]
  },
  {
   "cell_type": "markdown",
   "metadata": {},
   "source": [
    "### 1.3 Name"
   ]
  },
  {
   "cell_type": "code",
   "execution_count": 10,
   "metadata": {},
   "outputs": [
    {
     "data": {
      "text/plain": [
       "array(['Braund, Mr. Owen Harris',\n",
       "       'Cumings, Mrs. John Bradley (Florence Briggs Thayer)',\n",
       "       'Heikkinen, Miss. Laina',\n",
       "       'Futrelle, Mrs. Jacques Heath (Lily May Peel)',\n",
       "       'Allen, Mr. William Henry', 'Moran, Mr. James',\n",
       "       'McCarthy, Mr. Timothy J', 'Palsson, Master. Gosta Leonard',\n",
       "       'Johnson, Mrs. Oscar W (Elisabeth Vilhelmina Berg)',\n",
       "       'Nasser, Mrs. Nicholas (Adele Achem)',\n",
       "       'Sandstrom, Miss. Marguerite Rut', 'Bonnell, Miss. Elizabeth',\n",
       "       'Saundercock, Mr. William Henry', 'Andersson, Mr. Anders Johan',\n",
       "       'Vestrom, Miss. Hulda Amanda Adolfina',\n",
       "       'Hewlett, Mrs. (Mary D Kingcome) ', 'Rice, Master. Eugene',\n",
       "       'Williams, Mr. Charles Eugene',\n",
       "       'Vander Planke, Mrs. Julius (Emelia Maria Vandemoortele)',\n",
       "       'Masselmani, Mrs. Fatima'], dtype=object)"
      ]
     },
     "execution_count": 10,
     "metadata": {},
     "output_type": "execute_result"
    }
   ],
   "source": [
    "train['Name'].unique()[:20]"
   ]
  },
  {
   "cell_type": "markdown",
   "metadata": {},
   "source": [
    "## 2. Preproccessing and Feature Engineering"
   ]
  },
  {
   "cell_type": "markdown",
   "metadata": {},
   "source": [
    "### 2.1 Replacing Missing Data"
   ]
  },
  {
   "cell_type": "code",
   "execution_count": 11,
   "metadata": {},
   "outputs": [],
   "source": [
    "def replace_age(df):\n",
    "    \"\"\"\n",
    "    Replace missing ages with the Median amongst all passengers with the same title\n",
    "    - if subdf is empty, then replace with overall Median\n",
    "    \"\"\"\n",
    "    replaced = df.copy()\n",
    "    \n",
    "    replaced['Title'] = replaced['Name'].str.extract(' ([A-Za-z]+)\\.', expand=False)\n",
    "    for i in np.arange(len(replaced)):\n",
    "        age = replaced.loc[i, 'Age']\n",
    "        if pd.isnull(age):\n",
    "            title = replaced.loc[i, 'Title']\n",
    "            sub_df = replaced[replaced['Title'] == title]\n",
    "            if sum(~sub_df['Age'].isna()) == 0:\n",
    "                replaced.loc[i, 'Age'] = np.nanmedian(replaced['Age'])\n",
    "            else:\n",
    "                replaced.loc[i, 'Age'] = np.nanmedian(sub_df['Age'])\n",
    "    replaced = replaced.drop(['Title'], axis=1)\n",
    "    \n",
    "    return replaced"
   ]
  },
  {
   "cell_type": "code",
   "execution_count": 12,
   "metadata": {},
   "outputs": [],
   "source": [
    "def replace_fare(df):\n",
    "    \"\"\"\n",
    "    Replace missing fare with the Median amongst all passengers from the same class\n",
    "    \"\"\"\n",
    "    replaced = df.copy()\n",
    "\n",
    "    for i in np.arange(len(replaced)):\n",
    "        fare = replaced.loc[i, 'Fare']\n",
    "        if pd.isnull(fare):\n",
    "            pclass = replaced.loc[i, 'Pclass']\n",
    "            sub_df = replaced[replaced['Pclass'] == pclass]\n",
    "            replaced.loc[i, 'Fare'] = np.nanmedian(sub_df['Fare'])\n",
    "\n",
    "    return replaced"
   ]
  },
  {
   "cell_type": "markdown",
   "metadata": {},
   "source": [
    "### 2.2 New Features\n",
    "\n",
    "1. Title\n",
    "2. Cabin\n",
    "3. Alone\n",
    "4. Age Group\n",
    "5. Fare Group"
   ]
  },
  {
   "cell_type": "code",
   "execution_count": 13,
   "metadata": {},
   "outputs": [
    {
     "data": {
      "text/plain": [
       "Mr          517\n",
       "Miss        182\n",
       "Mrs         125\n",
       "Master       40\n",
       "Dr            7\n",
       "Rev           6\n",
       "Major         2\n",
       "Mlle          2\n",
       "Col           2\n",
       "Countess      1\n",
       "Capt          1\n",
       "Don           1\n",
       "Ms            1\n",
       "Jonkheer      1\n",
       "Mme           1\n",
       "Sir           1\n",
       "Lady          1\n",
       "Name: Name, dtype: int64"
      ]
     },
     "execution_count": 13,
     "metadata": {},
     "output_type": "execute_result"
    }
   ],
   "source": [
    "train_titles = train['Name'].str.extract(' ([A-Za-z]+)\\.', expand=False)\n",
    "train_titles.value_counts()"
   ]
  },
  {
   "cell_type": "code",
   "execution_count": 14,
   "metadata": {},
   "outputs": [],
   "source": [
    "# Noticed several titles in name column\n",
    "def add_title(df):\n",
    "    \"\"\"\n",
    "    Take in dataframe with Name column, extract titles as features\n",
    "    - OHE titles according to context of the title (see dictionary)\n",
    "    - some titles are encoding errors of other titles\n",
    "    Return cleaned dataframe\n",
    "    \"\"\"\n",
    "    cleaned = df.copy()\n",
    "    cleaned['Title'] = cleaned['Name'].str.extract(' ([A-Za-z]+)\\.', expand=False)    \n",
    "    \n",
    "    Title_Dictionary = {\n",
    "        \"Capt\": \"Officer\",\n",
    "        \"Col\": \"Officer\",\n",
    "        \"Major\": \"Officer\",\n",
    "        \"Jonkheer\": \"Royalty\",\n",
    "        \"Don\": \"Royalty\",\n",
    "        \"Sir\" : \"Royalty\",\n",
    "        \"Dr\": \"Officer\",\n",
    "        \"Rev\": \"Officer\",\n",
    "        \"the Countess\":\"Royalty\",\n",
    "        \"Mme\": \"Mrs\",\n",
    "        \"Mlle\": \"Miss\",\n",
    "        \"Ms\": \"Mrs\",\n",
    "        \"Mr\" : \"Mr\",\n",
    "        \"Mrs\" : \"Mrs\",\n",
    "        \"Miss\" : \"Miss\",\n",
    "        \"Master\" : \"Master\",\n",
    "        \"Lady\" : \"Royalty\"\n",
    "    }\n",
    "    cleaned['Title'] = cleaned['Title'].map(Title_Dictionary)\n",
    "    \n",
    "    return cleaned"
   ]
  },
  {
   "cell_type": "code",
   "execution_count": 15,
   "metadata": {},
   "outputs": [
    {
     "data": {
      "image/png": "[encoded data removed]",
      "text/plain": [
       "<Figure size 432x288 with 1 Axes>"
      ]
     },
     "metadata": {
      "needs_background": "light"
     },
     "output_type": "display_data"
    }
   ],
   "source": [
    "# Evidence that survival probability differs with title\n",
    "train_withName = add_title(train)\n",
    "sns.barplot(x='Title', y='Survived', data=train_withName);"
   ]
  },
  {
   "cell_type": "code",
   "execution_count": 16,
   "metadata": {},
   "outputs": [],
   "source": [
    "# Cabin letters may be some indication, so we extract first letter\n",
    "def add_cabin(df):\n",
    "    \"\"\"\n",
    "    Add feature denoting Cabins A-G, T\n",
    "    - Use \"U\" to denote Unknown cabin\n",
    "    \n",
    "    Use ordinal encoding to take advantage of the order of cabins\n",
    "    \n",
    "    Return cleaned dataframe\n",
    "    \"\"\"\n",
    "    cleaned = df.copy()   \n",
    "    cleaned['Cabin'] = cleaned['Cabin'].str[0]\n",
    "    cleaned['Cabin'] = cleaned['Cabin'].fillna(\"U\")\n",
    "    \n",
    "    cabin_map = {'T': 0, 'A': 1, 'B': 2, 'C': 3, 'D': 4, \n",
    "                 'E': 5, 'F': 6, 'G': 7, 'U': 8}\n",
    "    \n",
    "    cleaned['Cabin'] = cleaned['Cabin'].map(cabin_map)\n",
    "    \n",
    "    return cleaned"
   ]
  },
  {
   "cell_type": "code",
   "execution_count": 17,
   "metadata": {},
   "outputs": [
    {
     "data": {
      "image/png": "[encoded data removed]",
      "text/plain": [
       "<Figure size 432x288 with 1 Axes>"
      ]
     },
     "metadata": {
      "needs_background": "light"
     },
     "output_type": "display_data"
    }
   ],
   "source": [
    "# Evidence that survival probability differs with Cabin\n",
    "train_withCabin = add_cabin(train)\n",
    "sns.barplot(x='Cabin', y='Survived', data=train_withCabin);"
   ]
  },
  {
   "cell_type": "code",
   "execution_count": 18,
   "metadata": {},
   "outputs": [],
   "source": [
    "def add_alone(df):\n",
    "    \"\"\"\n",
    "    Researched that passengers who traveled alone were less likely to survive\n",
    "    Create binary variable that denotes \"Alone\"\n",
    "    \"\"\"\n",
    "    cleaned = df.copy()\n",
    "    cleaned['familySize'] = cleaned['SibSp'] + cleaned['Parch']\n",
    "    # Alone Column - no sibsp and no parch\n",
    "    cleaned['Alone'] = [1 if x == 0 else 0 for x in cleaned['familySize']]\n",
    "    \n",
    "    return cleaned"
   ]
  },
  {
   "cell_type": "code",
   "execution_count": 19,
   "metadata": {},
   "outputs": [
    {
     "data": {
      "image/png": "[encoded data removed]",
      "text/plain": [
       "<Figure size 432x288 with 1 Axes>"
      ]
     },
     "metadata": {
      "needs_background": "light"
     },
     "output_type": "display_data"
    }
   ],
   "source": [
    "# Evidence that survival probability differs by Alone\n",
    "train_withAlone = add_alone(train)\n",
    "sns.barplot(x='Alone', y='Survived', data=train_withAlone);"
   ]
  },
  {
   "cell_type": "code",
   "execution_count": 20,
   "metadata": {},
   "outputs": [],
   "source": [
    "def age_groups(df):\n",
    "    \"\"\"\n",
    "    Bin passengers into different age groups \n",
    "    \"\"\"\n",
    "    cleaned = df.copy()\n",
    "    \n",
    "    cleaned['AgeGroup'] = pd.cut(df['Age'], 6, labels = [\"Children\", \"Adolescents\", \n",
    "                            \"Young Adults\",\"Adults\", \"Seniors\", \"Elders\"])\n",
    "    \n",
    "    return cleaned"
   ]
  },
  {
   "cell_type": "code",
   "execution_count": 21,
   "metadata": {},
   "outputs": [
    {
     "data": {
      "image/png": "[encoded data removed]",
      "text/plain": [
       "<Figure size 864x360 with 1 Axes>"
      ]
     },
     "metadata": {
      "needs_background": "light"
     },
     "output_type": "display_data"
    }
   ],
   "source": [
    "# Evidence that survival probability differs by Age group\n",
    "train_withAge = replace_age(train)\n",
    "train_withAge = age_groups(train_withAge)\n",
    "fig, ax = plt.subplots(figsize=(12, 5))\n",
    "sns.barplot(x='AgeGroup', y='Survived', data=train_withAge, ax=ax);\n",
    "fig.tight_layout()"
   ]
  },
  {
   "cell_type": "code",
   "execution_count": 22,
   "metadata": {},
   "outputs": [],
   "source": [
    "def fare_groups(df):\n",
    "    \"\"\"\n",
    "    Bin passengers into different fare groups \n",
    "    \"\"\"\n",
    "    cleaned = df.copy()\n",
    "    \n",
    "    cut_points = train['Fare'].quantile([0, 0.2, 0.4, 0.6, 0.8, 1]).values\n",
    "    cleaned['fareGroup'] = pd.cut(df['Fare'], bins=cut_points, labels = [\"Low\", \"LowerMiddle\", \n",
    "                            \"Middle\",\"Upper\", \"Wealthy\"])\n",
    "    \n",
    "    return cleaned"
   ]
  },
  {
   "cell_type": "code",
   "execution_count": 23,
   "metadata": {},
   "outputs": [
    {
     "data": {
      "image/png": "[encoded data removed]",
      "text/plain": [
       "<Figure size 864x360 with 1 Axes>"
      ]
     },
     "metadata": {
      "needs_background": "light"
     },
     "output_type": "display_data"
    }
   ],
   "source": [
    "# Evidence that survival probability differs by Fare group\n",
    "train_withFare = fare_groups(train)\n",
    "fig, ax = plt.subplots(figsize=(12, 5))\n",
    "sns.barplot(x='fareGroup', y='Survived', data=train_withFare, ax=ax);\n",
    "fig.tight_layout()"
   ]
  },
  {
   "cell_type": "markdown",
   "metadata": {},
   "source": [
    "### 2.3 Preprocessing"
   ]
  },
  {
   "cell_type": "code",
   "execution_count": 24,
   "metadata": {},
   "outputs": [],
   "source": [
    "def preProcess(train, test):\n",
    "    \"\"\"\n",
    "    Preprocess Raw Dataframe into design matrix (w/ response column)\n",
    "    - concatenate train and test as joint dataframe to maximize signal in all data for standardization\n",
    "    \"\"\"\n",
    "    y_train = train['Survived']\n",
    "    train = train.drop(['Survived'], axis=1)\n",
    "    train_ids = train['PassengerId']\n",
    "    \n",
    "    processed = pd.concat([train, test])\n",
    "    processed = processed.reset_index()\n",
    "    processed = processed.drop(['index'], axis=1)\n",
    "\n",
    "    processed = replace_age(processed)\n",
    "    processed = replace_fare(processed)\n",
    "    # Fill embarked with majority class (only two NA)\n",
    "    processed['Embarked'] = processed['Embarked'].fillna('S')\n",
    "    \n",
    "    # New Features\n",
    "    processed = add_title(processed)\n",
    "    processed = add_cabin(processed)\n",
    "    processed = add_alone(processed)\n",
    "    processed = age_groups(processed)\n",
    "    processed = fare_groups(processed)\n",
    "    \n",
    "    # OHE\n",
    "    features = ['Embarked', 'Sex', 'AgeGroup', 'Title', 'fareGroup']\n",
    "    for feature in features:\n",
    "        dummies = pd.get_dummies(processed[feature], prefix=feature, prefix_sep='_')\n",
    "        processed = processed.join(dummies)\n",
    "    \n",
    "    # Scale Fare by family size to get cost per ticket\n",
    "    processed['Fare_per_person'] = processed['Fare'] / (processed['familySize'] + 1)\n",
    "    \n",
    "    # Drop Unecessary columns\n",
    "    # Drop Ticket to avoid overfitting\n",
    "    processed = processed.drop(['Ticket', 'Name', 'Title', 'Embarked', \n",
    "                                'Sex', 'AgeGroup', 'fareGroup'], axis=1)\n",
    "        \n",
    "    # Standardize Continuous Features\n",
    "    standard_scaler = StandardScaler()\n",
    "    numerical_features = ['SibSp', 'Parch', 'Fare', 'Fare_per_person', 'Age', \n",
    "                          'Cabin', 'Pclass', 'familySize']\n",
    "    processed[numerical_features] = standard_scaler.fit_transform(\n",
    "                                            processed[numerical_features])\n",
    "    \n",
    "    # Separate back into train and test\n",
    "    train_df = processed[processed['PassengerId'].isin(train_ids)]\n",
    "    train_df = train_df.drop(['PassengerId'], axis=1)\n",
    "    train_df['Survived'] = y_train\n",
    "    \n",
    "    test_df = processed[~processed['PassengerId'].isin(train_ids)]\n",
    "    test_df = test_df.drop(['PassengerId'], axis=1)\n",
    "    \n",
    "    return train_df, test_df"
   ]
  },
  {
   "cell_type": "code",
   "execution_count": 25,
   "metadata": {
    "scrolled": false
   },
   "outputs": [
    {
     "data": {
      "text/html": [
       "<div>\n",
       "<style scoped>\n",
       "    .dataframe tbody tr th:only-of-type {\n",
       "        vertical-align: middle;\n",
       "    }\n",
       "\n",
       "    .dataframe tbody tr th {\n",
       "        vertical-align: top;\n",
       "    }\n",
       "\n",
       "    .dataframe thead th {\n",
       "        text-align: right;\n",
       "    }\n",
       "</style>\n",
       "<table border=\"1\" class=\"dataframe\">\n",
       "  <thead>\n",
       "    <tr style=\"text-align: right;\">\n",
       "      <th></th>\n",
       "      <th>Pclass</th>\n",
       "      <th>Age</th>\n",
       "      <th>SibSp</th>\n",
       "      <th>Parch</th>\n",
       "      <th>Fare</th>\n",
       "      <th>Cabin</th>\n",
       "      <th>familySize</th>\n",
       "      <th>Alone</th>\n",
       "      <th>Embarked_C</th>\n",
       "      <th>Embarked_Q</th>\n",
       "      <th>...</th>\n",
       "      <th>Title_Mrs</th>\n",
       "      <th>Title_Officer</th>\n",
       "      <th>Title_Royalty</th>\n",
       "      <th>fareGroup_Low</th>\n",
       "      <th>fareGroup_LowerMiddle</th>\n",
       "      <th>fareGroup_Middle</th>\n",
       "      <th>fareGroup_Upper</th>\n",
       "      <th>fareGroup_Wealthy</th>\n",
       "      <th>Fare_per_person</th>\n",
       "      <th>Survived</th>\n",
       "    </tr>\n",
       "  </thead>\n",
       "  <tbody>\n",
       "    <tr>\n",
       "      <th>0</th>\n",
       "      <td>0.841916</td>\n",
       "      <td>-0.564835</td>\n",
       "      <td>0.481288</td>\n",
       "      <td>-0.445</td>\n",
       "      <td>-0.503176</td>\n",
       "      <td>0.509153</td>\n",
       "      <td>0.073352</td>\n",
       "      <td>0</td>\n",
       "      <td>0</td>\n",
       "      <td>0</td>\n",
       "      <td>...</td>\n",
       "      <td>0</td>\n",
       "      <td>0</td>\n",
       "      <td>0</td>\n",
       "      <td>1</td>\n",
       "      <td>0</td>\n",
       "      <td>0</td>\n",
       "      <td>0</td>\n",
       "      <td>0</td>\n",
       "      <td>-0.472289</td>\n",
       "      <td>0</td>\n",
       "    </tr>\n",
       "    <tr>\n",
       "      <th>1</th>\n",
       "      <td>-1.546098</td>\n",
       "      <td>0.651087</td>\n",
       "      <td>0.481288</td>\n",
       "      <td>-0.445</td>\n",
       "      <td>0.734809</td>\n",
       "      <td>-1.912654</td>\n",
       "      <td>0.073352</td>\n",
       "      <td>0</td>\n",
       "      <td>1</td>\n",
       "      <td>0</td>\n",
       "      <td>...</td>\n",
       "      <td>1</td>\n",
       "      <td>0</td>\n",
       "      <td>0</td>\n",
       "      <td>0</td>\n",
       "      <td>0</td>\n",
       "      <td>0</td>\n",
       "      <td>0</td>\n",
       "      <td>1</td>\n",
       "      <td>0.423315</td>\n",
       "      <td>1</td>\n",
       "    </tr>\n",
       "    <tr>\n",
       "      <th>2</th>\n",
       "      <td>0.841916</td>\n",
       "      <td>-0.260855</td>\n",
       "      <td>-0.479087</td>\n",
       "      <td>-0.445</td>\n",
       "      <td>-0.490126</td>\n",
       "      <td>0.509153</td>\n",
       "      <td>-0.558346</td>\n",
       "      <td>1</td>\n",
       "      <td>0</td>\n",
       "      <td>0</td>\n",
       "      <td>...</td>\n",
       "      <td>0</td>\n",
       "      <td>0</td>\n",
       "      <td>0</td>\n",
       "      <td>0</td>\n",
       "      <td>1</td>\n",
       "      <td>0</td>\n",
       "      <td>0</td>\n",
       "      <td>0</td>\n",
       "      <td>-0.352005</td>\n",
       "      <td>1</td>\n",
       "    </tr>\n",
       "    <tr>\n",
       "      <th>3</th>\n",
       "      <td>-1.546098</td>\n",
       "      <td>0.423101</td>\n",
       "      <td>0.481288</td>\n",
       "      <td>-0.445</td>\n",
       "      <td>0.383263</td>\n",
       "      <td>-1.912654</td>\n",
       "      <td>0.073352</td>\n",
       "      <td>0</td>\n",
       "      <td>0</td>\n",
       "      <td>0</td>\n",
       "      <td>...</td>\n",
       "      <td>1</td>\n",
       "      <td>0</td>\n",
       "      <td>0</td>\n",
       "      <td>0</td>\n",
       "      <td>0</td>\n",
       "      <td>0</td>\n",
       "      <td>0</td>\n",
       "      <td>1</td>\n",
       "      <td>0.168994</td>\n",
       "      <td>1</td>\n",
       "    </tr>\n",
       "    <tr>\n",
       "      <th>4</th>\n",
       "      <td>0.841916</td>\n",
       "      <td>0.423101</td>\n",
       "      <td>-0.479087</td>\n",
       "      <td>-0.445</td>\n",
       "      <td>-0.487709</td>\n",
       "      <td>0.509153</td>\n",
       "      <td>-0.558346</td>\n",
       "      <td>1</td>\n",
       "      <td>0</td>\n",
       "      <td>0</td>\n",
       "      <td>...</td>\n",
       "      <td>0</td>\n",
       "      <td>0</td>\n",
       "      <td>0</td>\n",
       "      <td>0</td>\n",
       "      <td>1</td>\n",
       "      <td>0</td>\n",
       "      <td>0</td>\n",
       "      <td>0</td>\n",
       "      <td>-0.348508</td>\n",
       "      <td>0</td>\n",
       "    </tr>\n",
       "  </tbody>\n",
       "</table>\n",
       "<p>5 rows × 32 columns</p>\n",
       "</div>"
      ],
      "text/plain": [
       "     Pclass       Age     SibSp  Parch      Fare     Cabin  familySize  Alone  \\\n",
       "0  0.841916 -0.564835  0.481288 -0.445 -0.503176  0.509153    0.073352      0   \n",
       "1 -1.546098  0.651087  0.481288 -0.445  0.734809 -1.912654    0.073352      0   \n",
       "2  0.841916 -0.260855 -0.479087 -0.445 -0.490126  0.509153   -0.558346      1   \n",
       "3 -1.546098  0.423101  0.481288 -0.445  0.383263 -1.912654    0.073352      0   \n",
       "4  0.841916  0.423101 -0.479087 -0.445 -0.487709  0.509153   -0.558346      1   \n",
       "\n",
       "   Embarked_C  Embarked_Q  ...  Title_Mrs  Title_Officer  Title_Royalty  \\\n",
       "0           0           0  ...          0              0              0   \n",
       "1           1           0  ...          1              0              0   \n",
       "2           0           0  ...          0              0              0   \n",
       "3           0           0  ...          1              0              0   \n",
       "4           0           0  ...          0              0              0   \n",
       "\n",
       "   fareGroup_Low  fareGroup_LowerMiddle  fareGroup_Middle  fareGroup_Upper  \\\n",
       "0              1                      0                 0                0   \n",
       "1              0                      0                 0                0   \n",
       "2              0                      1                 0                0   \n",
       "3              0                      0                 0                0   \n",
       "4              0                      1                 0                0   \n",
       "\n",
       "   fareGroup_Wealthy  Fare_per_person  Survived  \n",
       "0                  0        -0.472289         0  \n",
       "1                  1         0.423315         1  \n",
       "2                  0        -0.352005         1  \n",
       "3                  1         0.168994         1  \n",
       "4                  0        -0.348508         0  \n",
       "\n",
       "[5 rows x 32 columns]"
      ]
     },
     "execution_count": 25,
     "metadata": {},
     "output_type": "execute_result"
    }
   ],
   "source": [
    "trainClean, testClean = preProcess(train, test)\n",
    "trainClean.head()"
   ]
  },
  {
   "cell_type": "code",
   "execution_count": 26,
   "metadata": {
    "scrolled": true
   },
   "outputs": [
    {
     "name": "stdout",
     "output_type": "stream",
     "text": [
      "Features: ['Pclass' 'Age' 'SibSp' 'Parch' 'Fare' 'Cabin' 'familySize' 'Alone'\n",
      " 'Embarked_C' 'Embarked_Q' 'Embarked_S' 'Sex_female' 'Sex_male'\n",
      " 'AgeGroup_Children' 'AgeGroup_Adolescents' 'AgeGroup_Young Adults'\n",
      " 'AgeGroup_Adults' 'AgeGroup_Seniors' 'AgeGroup_Elders' 'Title_Master'\n",
      " 'Title_Miss' 'Title_Mr' 'Title_Mrs' 'Title_Officer' 'Title_Royalty'\n",
      " 'fareGroup_Low' 'fareGroup_LowerMiddle' 'fareGroup_Middle'\n",
      " 'fareGroup_Upper' 'fareGroup_Wealthy' 'Fare_per_person' 'Survived']\n"
     ]
    }
   ],
   "source": [
    "print(f'Features: {trainClean.columns.values}')"
   ]
  },
  {
   "cell_type": "markdown",
   "metadata": {},
   "source": [
    "## 3. Feature Selection Modeling\n",
    "\n",
    "Because the training data contains only 891 rows, I decided to avoid more complex models, such as neural networks. Without extensive tuning, they would be very prone to overfitting on a small dataset. Simpler models, such as Logistic Regression, Random Forest, and K Nearest Neighbor models can be more easily optimized, and are less prone to overfitting.\n",
    "\n",
    "Still, the above dataframe contains a sizeable amount of features, relative to the size of the dataset (<1000 data points). Thus, we will use feature selection methods to reduce the feature space for each model."
   ]
  },
  {
   "cell_type": "code",
   "execution_count": 27,
   "metadata": {},
   "outputs": [],
   "source": [
    "Y_train = trainClean['Survived']\n",
    "X_train = trainClean.drop(['Survived'], axis=1)"
   ]
  },
  {
   "cell_type": "code",
   "execution_count": 28,
   "metadata": {},
   "outputs": [],
   "source": [
    "def cross_val_acc(model, X_train, Y_train, k):\n",
    "    '''\n",
    "    Compute k-fold Cross Validation accuracy\n",
    "\n",
    "    Inputs:\n",
    "        model: an sklearn model with fit and predict functions \n",
    "        X_train: Design Matrix\n",
    "        Y_train: Response Vector\n",
    "    Outputs:\n",
    "        the average validation Accuracy for the k splits.\n",
    "    '''\n",
    "    kf = KFold(n_splits=k, shuffle=True, random_state=0)\n",
    "    validation_accuracies = []\n",
    "    \n",
    "    for train_idx, valid_idx in kf.split(X_train):\n",
    "        # split data\n",
    "        split_X_train, split_X_valid = X_train.iloc[train_idx], X_train.iloc[valid_idx]\n",
    "        split_Y_train, split_Y_valid = Y_train.iloc[train_idx], Y_train.iloc[valid_idx]\n",
    "\n",
    "        # Fit model\n",
    "        model.fit(split_X_train, split_Y_train)\n",
    "        \n",
    "        # Compute Accuracy on the validation split\n",
    "        acc = model.score(split_X_valid, split_Y_valid)\n",
    "        validation_accuracies.append(acc)\n",
    "        \n",
    "    return np.mean(validation_accuracies)"
   ]
  },
  {
   "cell_type": "markdown",
   "metadata": {},
   "source": [
    "**For each model below, we will preprocess the design matrix with feature selection (when applicable), then investigate the baseline model (without tuning)**"
   ]
  },
  {
   "cell_type": "code",
   "execution_count": 29,
   "metadata": {},
   "outputs": [],
   "source": [
    "# Initialize\n",
    "K = 5\n",
    "RANDOM_STATE = 0"
   ]
  },
  {
   "cell_type": "markdown",
   "metadata": {},
   "source": [
    "### 3.1 Logistic Regression"
   ]
  },
  {
   "cell_type": "code",
   "execution_count": 30,
   "metadata": {},
   "outputs": [],
   "source": [
    "selector = SelectFromModel(estimator=LogisticRegression()).fit(X_train, Y_train)\n",
    "X_train_lr = X_train.loc[:, selector.get_support()]"
   ]
  },
  {
   "cell_type": "code",
   "execution_count": 31,
   "metadata": {
    "scrolled": true
   },
   "outputs": [
    {
     "name": "stdout",
     "output_type": "stream",
     "text": [
      "Logistic Regression 5 Fold CV Accuracy = 0.8170673529596385\n",
      "Logistic Regression Training Accuracy = 0.819304152637486\n"
     ]
    }
   ],
   "source": [
    "logreg = LogisticRegression(random_state=RANDOM_STATE)\n",
    "\n",
    "cv_acc = cross_val_acc(logreg, X_train_lr, Y_train, K)\n",
    "print(f'Logistic Regression {K} Fold CV Accuracy = {cv_acc}')\n",
    "\n",
    "logreg.fit(X_train_lr, Y_train)\n",
    "print(f'Logistic Regression Training Accuracy = {logreg.score(X_train_lr, Y_train)}')"
   ]
  },
  {
   "cell_type": "markdown",
   "metadata": {},
   "source": [
    "### 3.2 Random Forest"
   ]
  },
  {
   "cell_type": "code",
   "execution_count": 32,
   "metadata": {},
   "outputs": [],
   "source": [
    "selector = SelectFromModel(estimator=RandomForestClassifier(random_state=RANDOM_STATE)).fit(X_train, Y_train)\n",
    "X_train_rf = X_train.loc[:, selector.get_support()]"
   ]
  },
  {
   "cell_type": "code",
   "execution_count": 33,
   "metadata": {},
   "outputs": [
    {
     "name": "stdout",
     "output_type": "stream",
     "text": [
      "Random Forest 5 Fold CV Accuracy = 0.8181783943255289\n",
      "Random Forest Training Accuracy = 0.9831649831649831\n"
     ]
    }
   ],
   "source": [
    "rf = RandomForestClassifier(random_state=RANDOM_STATE)\n",
    "\n",
    "cv_acc = cross_val_acc(rf, X_train_rf, Y_train, K)\n",
    "print(f'Random Forest {K} Fold CV Accuracy = {cv_acc}')\n",
    "\n",
    "rf.fit(X_train_rf, Y_train)\n",
    "print(f'Random Forest Training Accuracy = {rf.score(X_train_rf, Y_train)}')"
   ]
  },
  {
   "cell_type": "markdown",
   "metadata": {},
   "source": [
    "### 3.3 K Nearest Neighbors"
   ]
  },
  {
   "cell_type": "code",
   "execution_count": 34,
   "metadata": {},
   "outputs": [
    {
     "name": "stdout",
     "output_type": "stream",
     "text": [
      "K-Nearest Neighbors 5 Fold CV Accuracy = 0.8103320569957944\n",
      "K-Nearest Neighbors Training Accuracy = 0.8574635241301908\n"
     ]
    }
   ],
   "source": [
    "knn = KNeighborsClassifier(n_neighbors=5)\n",
    "cv_acc = cross_val_acc(knn, X_train, Y_train, K)\n",
    "print(f'K-Nearest Neighbors {K} Fold CV Accuracy = {cv_acc}')\n",
    "\n",
    "knn.fit(X_train, Y_train)\n",
    "print(f'K-Nearest Neighbors Training Accuracy = {knn.score(X_train, Y_train)}')"
   ]
  },
  {
   "cell_type": "markdown",
   "metadata": {},
   "source": [
    "### 3.4 Support Vector Classifier\n",
    "\n",
    "Used LinearSVC for feature selection, then used SVC as classifier."
   ]
  },
  {
   "cell_type": "code",
   "execution_count": 35,
   "metadata": {},
   "outputs": [],
   "source": [
    "selector = SelectFromModel(estimator=LinearSVC(random_state=RANDOM_STATE, \n",
    "                                               max_iter=50000)).fit(X_train, Y_train)\n",
    "X_train_svc = X_train.loc[:, selector.get_support()]"
   ]
  },
  {
   "cell_type": "code",
   "execution_count": 36,
   "metadata": {},
   "outputs": [
    {
     "name": "stdout",
     "output_type": "stream",
     "text": [
      "Support Vector Classifier 5 Fold CV Accuracy = 0.7901198920343984\n",
      "Support Vector Classifier Training Accuracy = 0.8002244668911336\n"
     ]
    }
   ],
   "source": [
    "svc = SVC(random_state=RANDOM_STATE)\n",
    "\n",
    "cv_acc = cross_val_acc(svc, X_train_svc, Y_train, K)\n",
    "print(f'Support Vector Classifier {K} Fold CV Accuracy = {cv_acc}')\n",
    "\n",
    "svc.fit(X_train_svc, Y_train)\n",
    "print(f'Support Vector Classifier Training Accuracy = {svc.score(X_train_svc, Y_train)}')"
   ]
  },
  {
   "cell_type": "markdown",
   "metadata": {},
   "source": [
    "### 3.5 Gaussian Naive Bayes"
   ]
  },
  {
   "cell_type": "code",
   "execution_count": 37,
   "metadata": {},
   "outputs": [
    {
     "name": "stdout",
     "output_type": "stream",
     "text": [
      "Gaussian Naive Bayes 5 Fold CV Accuracy = 0.7766241918272551\n",
      "Gaussian Naive Bayes Training Accuracy = 0.7934904601571269\n"
     ]
    }
   ],
   "source": [
    "gnb = GaussianNB()\n",
    "\n",
    "cv_acc = cross_val_acc(gnb, X_train, Y_train, K)\n",
    "print(f'Gaussian Naive Bayes {K} Fold CV Accuracy = {cv_acc}')\n",
    "\n",
    "gnb.fit(X_train, Y_train)\n",
    "print(f'Gaussian Naive Bayes Training Accuracy = {gnb.score(X_train, Y_train)}')"
   ]
  },
  {
   "cell_type": "markdown",
   "metadata": {},
   "source": [
    "### 3.6 Hyperparameter Tuning"
   ]
  },
  {
   "cell_type": "markdown",
   "metadata": {},
   "source": [
    "There is overfitting in all cases with the baseline models, so we will perform hyperparameter tuning"
   ]
  },
  {
   "cell_type": "code",
   "execution_count": 38,
   "metadata": {},
   "outputs": [],
   "source": [
    "def gridSearch(pipe, param_grid, X_train, Y_train, K):\n",
    "    \"\"\"\n",
    "    Returns best hyperparameters for a particular model based on training data\n",
    "    \"\"\"\n",
    "    # Create grid search object\n",
    "    clf = GridSearchCV(pipe, param_grid=param_grid, cv=K, \n",
    "                       scoring='accuracy', verbose=True, n_jobs=-1)\n",
    "    # Fit on data\n",
    "    best_model = clf.fit(X_train, Y_train)\n",
    "    \n",
    "    return best_model"
   ]
  },
  {
   "cell_type": "code",
   "execution_count": 39,
   "metadata": {},
   "outputs": [],
   "source": [
    "def display_results(model, name, X):\n",
    "    \"\"\"\n",
    "    Show confusion matrix for model with tuned hyperparameters for given design matrix\n",
    "    \"\"\"\n",
    "    # Confusion Matrix for Logistic Regression on Training Data\n",
    "    print(f'Best {name} CV Accuracy = ', model.best_score_)\n",
    "    ## Have more False Positives that False Negatives\n",
    "    y_pred = model.predict(X)\n",
    "    sns.heatmap(confusion_matrix(Y_train, y_pred), annot=True);\n",
    "    plt.ylabel('Actual');\n",
    "    plt.xlabel('Predicted');\n",
    "    plt.title(f'{name} Confusion Matrix on Training Data')"
   ]
  },
  {
   "cell_type": "code",
   "execution_count": 40,
   "metadata": {
    "scrolled": false
   },
   "outputs": [
    {
     "name": "stdout",
     "output_type": "stream",
     "text": [
      "Fitting 5 folds for each of 60 candidates, totalling 300 fits\n"
     ]
    },
    {
     "name": "stderr",
     "output_type": "stream",
     "text": [
      "[Parallel(n_jobs=-1)]: Using backend LokyBackend with 4 concurrent workers.\n",
      "[Parallel(n_jobs=-1)]: Done  48 tasks      | elapsed:    2.8s\n",
      "[Parallel(n_jobs=-1)]: Done 300 out of 300 | elapsed:   11.5s finished\n"
     ]
    }
   ],
   "source": [
    "# Find Best Logistic Regression\n",
    "pipe = Pipeline([('classifier' , LogisticRegression(random_state=RANDOM_STATE, \n",
    "                                                    max_iter=1500))])\n",
    "\n",
    "# Create param grid.\n",
    "param_grid = [\n",
    "    {'classifier' : [LogisticRegression(random_state=RANDOM_STATE, max_iter=1500)],\n",
    "     'classifier__penalty' : ['l1', 'l2', 'elasticnet'],\n",
    "    'classifier__C' : np.logspace(-4, 4, 20),\n",
    "    'classifier__solver' : ['saga']}\n",
    "]\n",
    "\n",
    "# Fit on data\n",
    "best_logreg = gridSearch(pipe, param_grid, X_train_lr, Y_train, K)"
   ]
  },
  {
   "cell_type": "code",
   "execution_count": 41,
   "metadata": {},
   "outputs": [
    {
     "data": {
      "text/plain": [
       "LogisticRegression(C=0.23357214690901212, class_weight=None, dual=False,\n",
       "                   fit_intercept=True, intercept_scaling=1, l1_ratio=None,\n",
       "                   max_iter=1500, multi_class='auto', n_jobs=None, penalty='l2',\n",
       "                   random_state=0, solver='saga', tol=0.0001, verbose=0,\n",
       "                   warm_start=False)"
      ]
     },
     "execution_count": 41,
     "metadata": {},
     "output_type": "execute_result"
    }
   ],
   "source": [
    "best_logreg.best_estimator_.get_params()['classifier']"
   ]
  },
  {
   "cell_type": "code",
   "execution_count": 42,
   "metadata": {},
   "outputs": [
    {
     "name": "stdout",
     "output_type": "stream",
     "text": [
      "Best Logistic Regression CV Accuracy =  0.8170610758897746\n"
     ]
    },
    {
     "data": {
      "image/png": "[encoded data removed]",
      "text/plain": [
       "<Figure size 432x288 with 2 Axes>"
      ]
     },
     "metadata": {
      "needs_background": "light"
     },
     "output_type": "display_data"
    }
   ],
   "source": [
    "display_results(best_logreg, \"Logistic Regression\", X_train_lr)"
   ]
  },
  {
   "cell_type": "code",
   "execution_count": 43,
   "metadata": {},
   "outputs": [
    {
     "name": "stdout",
     "output_type": "stream",
     "text": [
      "Fitting 5 folds for each of 990 candidates, totalling 4950 fits\n"
     ]
    },
    {
     "name": "stderr",
     "output_type": "stream",
     "text": [
      "[Parallel(n_jobs=-1)]: Using backend LokyBackend with 4 concurrent workers.\n",
      "[Parallel(n_jobs=-1)]: Done  76 tasks      | elapsed:    3.2s\n",
      "[Parallel(n_jobs=-1)]: Done 260 tasks      | elapsed:   45.5s\n",
      "[Parallel(n_jobs=-1)]: Done 510 tasks      | elapsed:  1.3min\n",
      "[Parallel(n_jobs=-1)]: Done 860 tasks      | elapsed:  2.1min\n",
      "[Parallel(n_jobs=-1)]: Done 1310 tasks      | elapsed:  3.4min\n",
      "[Parallel(n_jobs=-1)]: Done 1860 tasks      | elapsed:  4.6min\n",
      "[Parallel(n_jobs=-1)]: Done 2510 tasks      | elapsed:  6.2min\n",
      "[Parallel(n_jobs=-1)]: Done 3260 tasks      | elapsed:  8.1min\n",
      "[Parallel(n_jobs=-1)]: Done 4110 tasks      | elapsed:  9.9min\n",
      "[Parallel(n_jobs=-1)]: Done 4950 out of 4950 | elapsed: 12.1min finished\n"
     ]
    }
   ],
   "source": [
    "# Find Best Random Forest\n",
    "pipe = Pipeline([('classifier' , RandomForestClassifier(random_state=RANDOM_STATE))])\n",
    "\n",
    "num_features = len(X_train.columns.values)\n",
    "\n",
    "# Create param grid.\n",
    "param_grid = [\n",
    "    {'classifier' : [RandomForestClassifier(random_state=RANDOM_STATE)],\n",
    "    'classifier__n_estimators' : np.arange(100, 201, 10),\n",
    "    'classifier__max_features' : [None], # chose none since we already did feature selection\n",
    "    'classifier__max_depth' : np.arange(7, 12),\n",
    "    'classifier__min_samples_leaf' : np.arange(1, 4),\n",
    "    'classifier__min_samples_split' : np.arange(1, 4),\n",
    "    'classifier__oob_score' : [True, False]}\n",
    "]\n",
    "\n",
    "# Fit on data\n",
    "best_rf = gridSearch(pipe, param_grid, X_train_rf, Y_train, K)"
   ]
  },
  {
   "cell_type": "code",
   "execution_count": 44,
   "metadata": {},
   "outputs": [
    {
     "data": {
      "text/plain": [
       "RandomForestClassifier(bootstrap=True, ccp_alpha=0.0, class_weight=None,\n",
       "                       criterion='gini', max_depth=8, max_features=None,\n",
       "                       max_leaf_nodes=None, max_samples=None,\n",
       "                       min_impurity_decrease=0.0, min_impurity_split=None,\n",
       "                       min_samples_leaf=2, min_samples_split=2,\n",
       "                       min_weight_fraction_leaf=0.0, n_estimators=150,\n",
       "                       n_jobs=None, oob_score=True, random_state=0, verbose=0,\n",
       "                       warm_start=False)"
      ]
     },
     "execution_count": 44,
     "metadata": {},
     "output_type": "execute_result"
    }
   ],
   "source": [
    "best_rf.best_estimator_.get_params()['classifier']"
   ]
  },
  {
   "cell_type": "code",
   "execution_count": 45,
   "metadata": {},
   "outputs": [
    {
     "name": "stdout",
     "output_type": "stream",
     "text": [
      "Best Random Forest CV Accuracy =  0.8484840876278954\n"
     ]
    },
    {
     "data": {
      "image/png": "[encoded data removed]",
      "text/plain": [
       "<Figure size 432x288 with 2 Axes>"
      ]
     },
     "metadata": {
      "needs_background": "light"
     },
     "output_type": "display_data"
    }
   ],
   "source": [
    "display_results(best_rf, \"Random Forest\", X_train_rf)"
   ]
  },
  {
   "cell_type": "code",
   "execution_count": 46,
   "metadata": {},
   "outputs": [
    {
     "data": {
      "image/png": "[encoded data removed]",
      "text/plain": [
       "<Figure size 1152x864 with 1 Axes>"
      ]
     },
     "metadata": {
      "needs_background": "light"
     },
     "output_type": "display_data"
    }
   ],
   "source": [
    "# Analyze Feature Importances\n",
    "random_forest = best_rf.best_estimator_.get_params()['classifier']\n",
    "features = X_train_rf.columns.values\n",
    "importances = random_forest.feature_importances_\n",
    "indices = np.argsort(importances)\n",
    "\n",
    "plt.figure(figsize=(16, 12))\n",
    "plt.title('Feature Importances')\n",
    "plt.barh(range(len(indices)), importances[indices], color='b', align='center')\n",
    "plt.yticks(range(len(indices)), [features[i] for i in indices])\n",
    "plt.xlabel('Relative Importance')\n",
    "plt.show()"
   ]
  },
  {
   "cell_type": "code",
   "execution_count": 47,
   "metadata": {},
   "outputs": [
    {
     "name": "stdout",
     "output_type": "stream",
     "text": [
      "Fitting 5 folds for each of 1960 candidates, totalling 9800 fits\n"
     ]
    },
    {
     "name": "stderr",
     "output_type": "stream",
     "text": [
      "[Parallel(n_jobs=-1)]: Using backend LokyBackend with 4 concurrent workers.\n",
      "[Parallel(n_jobs=-1)]: Done 128 tasks      | elapsed:    2.8s\n",
      "[Parallel(n_jobs=-1)]: Done 728 tasks      | elapsed:   11.0s\n",
      "[Parallel(n_jobs=-1)]: Done 1896 tasks      | elapsed:   22.2s\n",
      "[Parallel(n_jobs=-1)]: Done 4696 tasks      | elapsed:   43.4s\n",
      "[Parallel(n_jobs=-1)]: Done 8296 tasks      | elapsed:  1.2min\n",
      "[Parallel(n_jobs=-1)]: Done 9800 out of 9800 | elapsed:  1.3min finished\n"
     ]
    }
   ],
   "source": [
    "# Find Best KNN\n",
    "pipe = Pipeline([('classifier' , KNeighborsClassifier())])\n",
    "\n",
    "# Create param grid.\n",
    "param_grid = [\n",
    "    {'classifier' : [KNeighborsClassifier()],\n",
    "    'classifier__n_neighbors' : np.arange(3, 100, 2),\n",
    "    'classifier__weights' : ['uniform', 'distance'],\n",
    "    'classifier__algorithm' : ['auto', 'ball_tree', 'kd_tree', 'brute'],\n",
    "    'classifier__leaf_size' : np.arange(10, 51, 10)}\n",
    "]\n",
    "\n",
    "# Fit on data\n",
    "best_knn = gridSearch(pipe, param_grid, X_train, Y_train, K)"
   ]
  },
  {
   "cell_type": "code",
   "execution_count": 48,
   "metadata": {},
   "outputs": [
    {
     "data": {
      "text/plain": [
       "KNeighborsClassifier(algorithm='auto', leaf_size=10, metric='minkowski',\n",
       "                     metric_params=None, n_jobs=None, n_neighbors=25, p=2,\n",
       "                     weights='uniform')"
      ]
     },
     "execution_count": 48,
     "metadata": {},
     "output_type": "execute_result"
    }
   ],
   "source": [
    "best_knn.best_estimator_.get_params()['classifier']"
   ]
  },
  {
   "cell_type": "code",
   "execution_count": 49,
   "metadata": {},
   "outputs": [
    {
     "name": "stdout",
     "output_type": "stream",
     "text": [
      "Best K Nearest Neighbors CV Accuracy =  0.8215742891218378\n"
     ]
    },
    {
     "data": {
      "image/png": "[encoded data removed]",
      "text/plain": [
       "<Figure size 432x288 with 2 Axes>"
      ]
     },
     "metadata": {
      "needs_background": "light"
     },
     "output_type": "display_data"
    }
   ],
   "source": [
    "display_results(best_knn, \"K Nearest Neighbors\", X_train)"
   ]
  },
  {
   "cell_type": "code",
   "execution_count": 50,
   "metadata": {
    "scrolled": false
   },
   "outputs": [
    {
     "name": "stdout",
     "output_type": "stream",
     "text": [
      "Fitting 5 folds for each of 320 candidates, totalling 1600 fits\n"
     ]
    },
    {
     "name": "stderr",
     "output_type": "stream",
     "text": [
      "[Parallel(n_jobs=-1)]: Using backend LokyBackend with 4 concurrent workers.\n",
      "[Parallel(n_jobs=-1)]: Done 128 tasks      | elapsed:    1.3s\n",
      "[Parallel(n_jobs=-1)]: Done 728 tasks      | elapsed:    6.8s\n",
      "[Parallel(n_jobs=-1)]: Done 1600 out of 1600 | elapsed:   13.0s finished\n"
     ]
    }
   ],
   "source": [
    "# Find Best Support Vector Machine Regression\n",
    "pipe = Pipeline([('classifier' , SVC(random_state=RANDOM_STATE, \n",
    "                                                    max_iter=1500))])\n",
    "\n",
    "# Create param grid.\n",
    "param_grid = [{\n",
    "    'classifier' : [SVC(random_state=RANDOM_STATE, max_iter=1500)],\n",
    "    'classifier__kernel' : ['linear', 'poly', 'rbf', 'sigmoid'],\n",
    "    'classifier__C' : np.logspace(-4, 4, 20),\n",
    "    'classifier__gamma' : ['scale', 'auto'],\n",
    "    'classifier__class_weight' : ['balanced', None]\n",
    "}]\n",
    "\n",
    "# Fit on data\n",
    "best_svc = gridSearch(pipe, param_grid, X_train_svc, Y_train, K)"
   ]
  },
  {
   "cell_type": "code",
   "execution_count": 51,
   "metadata": {},
   "outputs": [
    {
     "data": {
      "text/plain": [
       "SVC(C=0.03359818286283781, break_ties=False, cache_size=200, class_weight=None,\n",
       "    coef0=0.0, decision_function_shape='ovr', degree=3, gamma='scale',\n",
       "    kernel='rbf', max_iter=1500, probability=False, random_state=0,\n",
       "    shrinking=True, tol=0.001, verbose=False)"
      ]
     },
     "execution_count": 51,
     "metadata": {},
     "output_type": "execute_result"
    }
   ],
   "source": [
    "best_svc.best_estimator_.get_params()['classifier']"
   ]
  },
  {
   "cell_type": "code",
   "execution_count": 52,
   "metadata": {},
   "outputs": [
    {
     "name": "stdout",
     "output_type": "stream",
     "text": [
      "Best Support Vector Classifier CV Accuracy =  0.7968489109283786\n"
     ]
    },
    {
     "data": {
      "image/png": "[encoded data removed]",
      "text/plain": [
       "<Figure size 432x288 with 2 Axes>"
      ]
     },
     "metadata": {
      "needs_background": "light"
     },
     "output_type": "display_data"
    }
   ],
   "source": [
    "display_results(best_svc, \"Support Vector Classifier\", X_train_svc)"
   ]
  },
  {
   "cell_type": "code",
   "execution_count": 53,
   "metadata": {},
   "outputs": [
    {
     "name": "stdout",
     "output_type": "stream",
     "text": [
      "Best Naive Bayes Accuracy =  0.7934904601571269\n"
     ]
    },
    {
     "data": {
      "image/png": "[encoded data removed]",
      "text/plain": [
       "<Figure size 432x288 with 2 Axes>"
      ]
     },
     "metadata": {
      "needs_background": "light"
     },
     "output_type": "display_data"
    }
   ],
   "source": [
    "# Confusion Matrix for Naive Bayes Training Data\n",
    "## No tuning to do - difficult to set priors\n",
    "\n",
    "print('Best Naive Bayes Accuracy = ', gnb.score(X_train, Y_train))\n",
    "## Have more False Positives that False Negatives\n",
    "y_pred = gnb.predict(X_train)\n",
    "sns.heatmap(confusion_matrix(Y_train, y_pred), annot=True);\n",
    "plt.ylabel('Actual');\n",
    "plt.xlabel('Predicted');"
   ]
  },
  {
   "cell_type": "markdown",
   "metadata": {},
   "source": [
    "## 4. Final Model Diagnostics and Predictions\n",
    "\n",
    "All models have a few more false negatives, except for Naive Bayes which yields more false positives. However, the optimally tuned models were trained on slightly different design matrices (due to variable selection), and they each capture different characteristics of the passengers. \n",
    "\n",
    "Because all tuned models are slightly different but all perform decently well, I decided to use a voting ensemble with each of the five models to yield my final predictions."
   ]
  },
  {
   "cell_type": "code",
   "execution_count": 54,
   "metadata": {
    "scrolled": false
   },
   "outputs": [],
   "source": [
    "lr = best_logreg.best_estimator_.get_params()['classifier']\n",
    "rf = best_rf.best_estimator_.get_params()['classifier']\n",
    "knn = best_knn.best_estimator_.get_params()['classifier']\n",
    "svc = best_svc.best_estimator_.get_params()['classifier']\n",
    "gnb = gnb"
   ]
  },
  {
   "cell_type": "code",
   "execution_count": 55,
   "metadata": {},
   "outputs": [],
   "source": [
    "lr_predictions = lr.predict(X_train_lr)\n",
    "rf_predictions = rf.predict(X_train_rf)\n",
    "knn_predictions = knn.predict(X_train)\n",
    "svc_predictions = svc.predict(X_train_svc)\n",
    "gnb_predictions = gnb.predict(X_train)\n",
    "\n",
    "train_predictions_df = pd.DataFrame({'Logistic Regression': lr_predictions,\n",
    "                              'Random Forest': rf_predictions,\n",
    "                              'K Nearest Neighbors': knn_predictions,\n",
    "                              'Support Vector Classifier': svc_predictions,\n",
    "                              'Gaussian Naive Bayes': gnb_predictions})"
   ]
  },
  {
   "cell_type": "code",
   "execution_count": 56,
   "metadata": {},
   "outputs": [
    {
     "name": "stdout",
     "output_type": "stream",
     "text": [
      "Training Accuracy of Voting Classifier = 0.8484848484848485\n"
     ]
    },
    {
     "data": {
      "image/png": "[encoded data removed]",
      "text/plain": [
       "<Figure size 432x288 with 2 Axes>"
      ]
     },
     "metadata": {
      "needs_background": "light"
     },
     "output_type": "display_data"
    }
   ],
   "source": [
    "# Confusion Matrix for Voting model on Training Data\n",
    "y_pred = train_predictions_df.mode(axis=1).iloc[:, 0]\n",
    "sns.heatmap(confusion_matrix(Y_train, y_pred), annot=True);\n",
    "acc = np.mean(Y_train==y_pred)\n",
    "print(f'Training Accuracy of Voting Classifier = {acc}')\n",
    "plt.ylabel('Predicted');\n",
    "plt.xlabel('Actual');\n",
    "plt.title('Confusion Matrix for Voting Classifier');"
   ]
  },
  {
   "cell_type": "code",
   "execution_count": 57,
   "metadata": {},
   "outputs": [],
   "source": [
    "# Make Final Predictions\n",
    "X_test_lr = testClean.loc[:, X_train_lr.columns]\n",
    "X_test_rf = testClean.loc[:, X_train_rf.columns]\n",
    "X_test_svc = testClean.loc[:, X_train_svc.columns]\n",
    "\n",
    "lr_predictions = lr.predict(X_test_lr)\n",
    "rf_predictions = rf.predict(X_test_rf)\n",
    "knn_predictions = knn.predict(testClean)\n",
    "svc_predictions = svc.predict(X_test_svc)\n",
    "gnb_predictions = gnb.predict(testClean)\n",
    "\n",
    "test_predictions_df = pd.DataFrame({'Logistic Regression': lr_predictions,\n",
    "                              'Random Forest': rf_predictions,\n",
    "                              'K Nearest Neighbors': knn_predictions,\n",
    "                              'Support Vector Classifier': svc_predictions,\n",
    "                              'Gaussian Naive Bayes': gnb_predictions})\n",
    "\n",
    "\n",
    "test_preds = test_predictions_df.mode(axis=1).iloc[:, 0]\n",
    "submission = pd.DataFrame({'PassengerId': test['PassengerId'],\n",
    "                          'Survived': test_preds})\n",
    "submission.to_csv('data/submission.csv', index=False)"
   ]
  },
  {
   "cell_type": "markdown",
   "metadata": {},
   "source": [
    "**Final Results**\n",
    "\n",
    "78.468% Accuracy on Kaggle Public Leaderboard"
   ]
  }
 ],
 "metadata": {
  "kernelspec": {
   "display_name": "Python 3",
   "language": "python",
   "name": "python3"
  },
  "language_info": {
   "codemirror_mode": {
    "name": "ipython",
    "version": 3
   },
   "file_extension": ".py",
   "mimetype": "text/x-python",
   "name": "python",
   "nbconvert_exporter": "python",
   "pygments_lexer": "ipython3",
   "version": "3.8.3"
  }
 },
 "nbformat": 4,
 "nbformat_minor": 4
}
