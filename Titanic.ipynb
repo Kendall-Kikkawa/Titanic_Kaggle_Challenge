{
 "cells": [
  {
   "cell_type": "code",
   "execution_count": 1,
   "metadata": {},
   "outputs": [],
   "source": [
    "# Standard\n",
    "import pandas as pd\n",
    "import numpy as np\n",
    "import matplotlib.pyplot as plt\n",
    "import seaborn as sns\n",
    "\n",
    "# Modeling\n",
    "from sklearn.linear_model import LogisticRegression\n",
    "from sklearn.ensemble import RandomForestClassifier\n",
    "from sklearn.neighbors import KNeighborsClassifier\n",
    "from sklearn.model_selection import KFold\n",
    "from sklearn.model_selection import GridSearchCV\n",
    "from sklearn.pipeline import Pipeline\n",
    "from sklearn import metrics\n",
    "from sklearn.metrics import confusion_matrix\n",
    "from sklearn.ensemble import VotingClassifier"
   ]
  },
  {
   "cell_type": "markdown",
   "metadata": {},
   "source": [
    "# Titanic Competition\n",
    "\n",
    "0. Loading in the data\n",
    "1. EDA\n",
    "2. Preprocessing and Feature Engineering\n",
    "3. Modeling\n",
    "4. Final Model Diagnostics and Predictions"
   ]
  },
  {
   "cell_type": "markdown",
   "metadata": {},
   "source": [
    "## 0: Loading in the data"
   ]
  },
  {
   "cell_type": "code",
   "execution_count": 2,
   "metadata": {},
   "outputs": [
    {
     "data": {
      "text/html": [
       "<div>\n",
       "<style scoped>\n",
       "    .dataframe tbody tr th:only-of-type {\n",
       "        vertical-align: middle;\n",
       "    }\n",
       "\n",
       "    .dataframe tbody tr th {\n",
       "        vertical-align: top;\n",
       "    }\n",
       "\n",
       "    .dataframe thead th {\n",
       "        text-align: right;\n",
       "    }\n",
       "</style>\n",
       "<table border=\"1\" class=\"dataframe\">\n",
       "  <thead>\n",
       "    <tr style=\"text-align: right;\">\n",
       "      <th></th>\n",
       "      <th>PassengerId</th>\n",
       "      <th>Survived</th>\n",
       "      <th>Pclass</th>\n",
       "      <th>Name</th>\n",
       "      <th>Sex</th>\n",
       "      <th>Age</th>\n",
       "      <th>SibSp</th>\n",
       "      <th>Parch</th>\n",
       "      <th>Ticket</th>\n",
       "      <th>Fare</th>\n",
       "      <th>Cabin</th>\n",
       "      <th>Embarked</th>\n",
       "    </tr>\n",
       "  </thead>\n",
       "  <tbody>\n",
       "    <tr>\n",
       "      <th>0</th>\n",
       "      <td>1</td>\n",
       "      <td>0</td>\n",
       "      <td>3</td>\n",
       "      <td>Braund, Mr. Owen Harris</td>\n",
       "      <td>male</td>\n",
       "      <td>22.0</td>\n",
       "      <td>1</td>\n",
       "      <td>0</td>\n",
       "      <td>A/5 21171</td>\n",
       "      <td>7.2500</td>\n",
       "      <td>NaN</td>\n",
       "      <td>S</td>\n",
       "    </tr>\n",
       "    <tr>\n",
       "      <th>1</th>\n",
       "      <td>2</td>\n",
       "      <td>1</td>\n",
       "      <td>1</td>\n",
       "      <td>Cumings, Mrs. John Bradley (Florence Briggs Th...</td>\n",
       "      <td>female</td>\n",
       "      <td>38.0</td>\n",
       "      <td>1</td>\n",
       "      <td>0</td>\n",
       "      <td>PC 17599</td>\n",
       "      <td>71.2833</td>\n",
       "      <td>C85</td>\n",
       "      <td>C</td>\n",
       "    </tr>\n",
       "    <tr>\n",
       "      <th>2</th>\n",
       "      <td>3</td>\n",
       "      <td>1</td>\n",
       "      <td>3</td>\n",
       "      <td>Heikkinen, Miss. Laina</td>\n",
       "      <td>female</td>\n",
       "      <td>26.0</td>\n",
       "      <td>0</td>\n",
       "      <td>0</td>\n",
       "      <td>STON/O2. 3101282</td>\n",
       "      <td>7.9250</td>\n",
       "      <td>NaN</td>\n",
       "      <td>S</td>\n",
       "    </tr>\n",
       "    <tr>\n",
       "      <th>3</th>\n",
       "      <td>4</td>\n",
       "      <td>1</td>\n",
       "      <td>1</td>\n",
       "      <td>Futrelle, Mrs. Jacques Heath (Lily May Peel)</td>\n",
       "      <td>female</td>\n",
       "      <td>35.0</td>\n",
       "      <td>1</td>\n",
       "      <td>0</td>\n",
       "      <td>113803</td>\n",
       "      <td>53.1000</td>\n",
       "      <td>C123</td>\n",
       "      <td>S</td>\n",
       "    </tr>\n",
       "    <tr>\n",
       "      <th>4</th>\n",
       "      <td>5</td>\n",
       "      <td>0</td>\n",
       "      <td>3</td>\n",
       "      <td>Allen, Mr. William Henry</td>\n",
       "      <td>male</td>\n",
       "      <td>35.0</td>\n",
       "      <td>0</td>\n",
       "      <td>0</td>\n",
       "      <td>373450</td>\n",
       "      <td>8.0500</td>\n",
       "      <td>NaN</td>\n",
       "      <td>S</td>\n",
       "    </tr>\n",
       "  </tbody>\n",
       "</table>\n",
       "</div>"
      ],
      "text/plain": [
       "   PassengerId  Survived  Pclass  \\\n",
       "0            1         0       3   \n",
       "1            2         1       1   \n",
       "2            3         1       3   \n",
       "3            4         1       1   \n",
       "4            5         0       3   \n",
       "\n",
       "                                                Name     Sex   Age  SibSp  \\\n",
       "0                            Braund, Mr. Owen Harris    male  22.0      1   \n",
       "1  Cumings, Mrs. John Bradley (Florence Briggs Th...  female  38.0      1   \n",
       "2                             Heikkinen, Miss. Laina  female  26.0      0   \n",
       "3       Futrelle, Mrs. Jacques Heath (Lily May Peel)  female  35.0      1   \n",
       "4                           Allen, Mr. William Henry    male  35.0      0   \n",
       "\n",
       "   Parch            Ticket     Fare Cabin Embarked  \n",
       "0      0         A/5 21171   7.2500   NaN        S  \n",
       "1      0          PC 17599  71.2833   C85        C  \n",
       "2      0  STON/O2. 3101282   7.9250   NaN        S  \n",
       "3      0            113803  53.1000  C123        S  \n",
       "4      0            373450   8.0500   NaN        S  "
      ]
     },
     "execution_count": 2,
     "metadata": {},
     "output_type": "execute_result"
    }
   ],
   "source": [
    "train = pd.read_csv('data/train.csv')\n",
    "test = pd.read_csv('data/test.csv')\n",
    "train.head()"
   ]
  },
  {
   "cell_type": "markdown",
   "metadata": {},
   "source": [
    "## 1. EDA\n",
    "\n",
    "Decided to investigate how each column related with respect to the target"
   ]
  },
  {
   "cell_type": "code",
   "execution_count": 3,
   "metadata": {},
   "outputs": [
    {
     "data": {
      "image/png": "[encoded data removed]",
      "text/plain": [
       "<Figure size 432x288 with 1 Axes>"
      ]
     },
     "metadata": {
      "needs_background": "light"
     },
     "output_type": "display_data"
    }
   ],
   "source": [
    "# Some class imbalance, but not extreme\n",
    "sns.countplot(x='Survived', data=train);"
   ]
  },
  {
   "cell_type": "markdown",
   "metadata": {},
   "source": [
    "### 1.2 Categorical Features"
   ]
  },
  {
   "cell_type": "code",
   "execution_count": 4,
   "metadata": {},
   "outputs": [
    {
     "data": {
      "image/png": "[encoded data removed]",
      "text/plain": [
       "<Figure size 864x720 with 6 Axes>"
      ]
     },
     "metadata": {
      "needs_background": "light"
     },
     "output_type": "display_data"
    }
   ],
   "source": [
    "fig, ax = plt.subplots(3, 2, figsize=(12, 10), sharex=False)\n",
    "sns.barplot(x='Pclass', y='Survived', data=train, ax=ax[0, 0]);\n",
    "sns.barplot(x='Sex', y='Survived', data=train, ax=ax[0, 1]);\n",
    "sns.barplot(x='SibSp', y='Survived', data=train, ax=ax[1, 0]);\n",
    "sns.barplot(x='Parch', y='Survived', data=train, ax=ax[1, 1]);\n",
    "sns.barplot(x='Embarked', y='Survived', data=train, ax=ax[2, 0]);\n",
    "fig.tight_layout()"
   ]
  },
  {
   "cell_type": "markdown",
   "metadata": {},
   "source": [
    "1. Higher classes more likely to survive\n",
    "2. Females much more likely to survive\n",
    "3. Passengers with 1 or 2 siblings or spouses more likely to survive\n",
    "4. Passengers with 1 2 or 3 parents or children more likely to survive\n",
    "5. Passengers from Cherbourg more likely to survive"
   ]
  },
  {
   "cell_type": "code",
   "execution_count": 5,
   "metadata": {
    "scrolled": false
   },
   "outputs": [
    {
     "name": "stdout",
     "output_type": "stream",
     "text": [
      "681\n"
     ]
    },
    {
     "data": {
      "text/plain": [
       "array(['A/5 21171', 'PC 17599', 'STON/O2. 3101282', '113803', '373450',\n",
       "       '330877', '17463', '349909', '347742', '237736'], dtype=object)"
      ]
     },
     "execution_count": 5,
     "metadata": {},
     "output_type": "execute_result"
    }
   ],
   "source": [
    "# Difficult to find pattern in ticket, but there are some repeats\n",
    "## Maybe due to families with young children?\n",
    "print(len(train['Ticket'].unique()))\n",
    "train['Ticket'].unique()[:10]"
   ]
  },
  {
   "cell_type": "code",
   "execution_count": 6,
   "metadata": {},
   "outputs": [
    {
     "name": "stdout",
     "output_type": "stream",
     "text": [
      "148\n"
     ]
    },
    {
     "data": {
      "text/plain": [
       "array([nan, 'C85', 'C123', 'E46', 'G6', 'C103', 'D56', 'A6',\n",
       "       'C23 C25 C27', 'B78'], dtype=object)"
      ]
     },
     "execution_count": 6,
     "metadata": {},
     "output_type": "execute_result"
    }
   ],
   "source": [
    "# First letter may give an indication of survival?\n",
    "print(len(train['Cabin'].unique()))\n",
    "train['Cabin'].unique()[:10]"
   ]
  },
  {
   "cell_type": "markdown",
   "metadata": {},
   "source": [
    "### 1.2 Continuous Features"
   ]
  },
  {
   "cell_type": "code",
   "execution_count": 7,
   "metadata": {},
   "outputs": [
    {
     "data": {
      "image/png": "[encoded data removed]",
      "text/plain": [
       "<Figure size 864x432 with 2 Axes>"
      ]
     },
     "metadata": {
      "needs_background": "light"
     },
     "output_type": "display_data"
    }
   ],
   "source": [
    "fig, ax = plt.subplots(1, 2, figsize=(12, 6), sharex=False)\n",
    "sns.boxplot(x='Survived', y='Age', data=train, ax=ax[0]);\n",
    "sns.boxplot(x='Survived', y='Fare', data=train, ax=ax[1]);\n",
    "plt.tight_layout();"
   ]
  },
  {
   "cell_type": "markdown",
   "metadata": {},
   "source": [
    "1. Not much differentiation, but appears that non-survivors were slightly older\n",
    "2. A good amount of outliers, but survivors had a higher fare"
   ]
  },
  {
   "cell_type": "markdown",
   "metadata": {},
   "source": [
    "### 1.3 Name"
   ]
  },
  {
   "cell_type": "code",
   "execution_count": 8,
   "metadata": {},
   "outputs": [
    {
     "data": {
      "text/plain": [
       "array(['Braund, Mr. Owen Harris',\n",
       "       'Cumings, Mrs. John Bradley (Florence Briggs Thayer)',\n",
       "       'Heikkinen, Miss. Laina',\n",
       "       'Futrelle, Mrs. Jacques Heath (Lily May Peel)',\n",
       "       'Allen, Mr. William Henry', 'Moran, Mr. James',\n",
       "       'McCarthy, Mr. Timothy J', 'Palsson, Master. Gosta Leonard',\n",
       "       'Johnson, Mrs. Oscar W (Elisabeth Vilhelmina Berg)',\n",
       "       'Nasser, Mrs. Nicholas (Adele Achem)',\n",
       "       'Sandstrom, Miss. Marguerite Rut', 'Bonnell, Miss. Elizabeth',\n",
       "       'Saundercock, Mr. William Henry', 'Andersson, Mr. Anders Johan',\n",
       "       'Vestrom, Miss. Hulda Amanda Adolfina',\n",
       "       'Hewlett, Mrs. (Mary D Kingcome) ', 'Rice, Master. Eugene',\n",
       "       'Williams, Mr. Charles Eugene',\n",
       "       'Vander Planke, Mrs. Julius (Emelia Maria Vandemoortele)',\n",
       "       'Masselmani, Mrs. Fatima'], dtype=object)"
      ]
     },
     "execution_count": 8,
     "metadata": {},
     "output_type": "execute_result"
    }
   ],
   "source": [
    "train['Name'].unique()[:20]"
   ]
  },
  {
   "cell_type": "markdown",
   "metadata": {},
   "source": [
    "## 2. Preproccessing and Feature Engineering"
   ]
  },
  {
   "cell_type": "markdown",
   "metadata": {},
   "source": [
    "### 2.1 Replacing Missing Data"
   ]
  },
  {
   "cell_type": "code",
   "execution_count": 70,
   "metadata": {},
   "outputs": [],
   "source": [
    "def replace_age(df):\n",
    "    \"\"\"\n",
    "    Replace missing ages with the Median amongst all passengers with the same title\n",
    "    - if subdf is empty, then replace with overall Median\n",
    "    \"\"\"\n",
    "    replaced = df.copy()\n",
    "    \n",
    "    replaced['Title'] = replaced['Name'].str.split(\", \").str[1].str.split(\" \").str[0]\n",
    "    for i in np.arange(len(replaced)):\n",
    "        age = replaced.loc[i, 'Age']\n",
    "        if pd.isnull(age):\n",
    "            title = replaced.loc[i, 'Title']\n",
    "            sub_df = replaced[replaced['Title'] == title]\n",
    "            if sum(~sub_df['Age'].isna()) == 0:\n",
    "                replaced.loc[i, 'Age'] = np.nanmedian(replaced['Age'])\n",
    "            else:\n",
    "                replaced.loc[i, 'Age'] = np.nanmedian(sub_df['Age'])\n",
    "    replaced = replaced.drop(['Title'], axis=1)\n",
    "    \n",
    "    return replaced"
   ]
  },
  {
   "cell_type": "code",
   "execution_count": 71,
   "metadata": {},
   "outputs": [],
   "source": [
    "def replace_face(df):\n",
    "    \"\"\"\n",
    "    Replace missing face with the Median amongst all passengers from the same class\n",
    "    \"\"\"\n",
    "    replaced = df.copy()\n",
    "\n",
    "    for i in np.arange(len(replaced)):\n",
    "        fare = replaced.loc[i, 'Fare']\n",
    "        if pd.isnull(fare):\n",
    "            pclass = replaced.loc[i, 'Pclass']\n",
    "            sub_df = replaced[replaced['Pclass'] == pclass]\n",
    "            replaced.loc[i, 'Fare'] = np.nanmedian(sub_df['Fare'])\n",
    "\n",
    "    return replaced"
   ]
  },
  {
   "cell_type": "markdown",
   "metadata": {},
   "source": [
    "### 2.2 New Features\n",
    "\n",
    "Additional features to be implemented:\n",
    "- Bin Age for kids\n",
    "- child, adult, senior (>= 65)"
   ]
  },
  {
   "cell_type": "code",
   "execution_count": 72,
   "metadata": {},
   "outputs": [],
   "source": [
    "# Noticed several titles in name column\n",
    "def ohe_names(df):\n",
    "    \"\"\"\n",
    "    Take in dataframe with Name column, extract titles as features\n",
    "    Return cleaned dataframe\n",
    "    \n",
    "    - ignored Dr., Rev., Master. to prevent overfitting\n",
    "    \"\"\"\n",
    "    cleaned = df.copy()\n",
    "    titles = ['Mr\\.', 'Mrs\\.', 'Miss\\.']\n",
    "    for title in titles:\n",
    "        cleaned[title] = cleaned['Name'].str.contains(title)\n",
    "        cleaned[title] = cleaned[title].fillna(0)\n",
    "        cleaned[title] = cleaned[title].astype(int)\n",
    "\n",
    "    # \".*\" indicates nickname\n",
    "    cleaned['nickname'] = cleaned['Name'].str.contains('\"')\n",
    "    cleaned['nickname'] = cleaned['nickname'].fillna(0)\n",
    "    cleaned['nickname'] = cleaned['nickname'].astype(int)\n",
    "    \n",
    "    cleaned = cleaned.drop(['Name'], axis=1)\n",
    "\n",
    "    return cleaned"
   ]
  },
  {
   "cell_type": "code",
   "execution_count": 73,
   "metadata": {},
   "outputs": [],
   "source": [
    "# Cabin letters may be some indication, so we extract first letter\n",
    "def add_cabin(df):\n",
    "    \"\"\"\n",
    "    Add feature called \"knownCabin\"\n",
    "    - binary that equals 1 if cabin is known\n",
    "    \n",
    "    Not going to use A-F because so many are missing - prevent overfitting\n",
    "    Return cleaned dataframe\n",
    "    \"\"\"\n",
    "    cleaned = df.copy()    \n",
    "    cleaned['knownCabin'] = cleaned['Cabin'].isna().astype(int)\n",
    "    cleaned = cleaned.drop(['Cabin'], axis=1)\n",
    "    \n",
    "    return cleaned"
   ]
  },
  {
   "cell_type": "code",
   "execution_count": 74,
   "metadata": {},
   "outputs": [],
   "source": [
    "def encode_ticket(df):\n",
    "    \"\"\"\n",
    "    Tickets are either integers or have letters/numbers at the beginning\n",
    "    Denote pure integer tickets as \"normal\" and denote others as \"special\"\n",
    "    \"\"\"\n",
    "    cleaned = df.copy()\n",
    "    cleaned['specialTicket'] = cleaned['Ticket'].str.contains(\" \")\n",
    "    cleaned['specialTicket'] = cleaned['specialTicket'].fillna(0)\n",
    "    cleaned['specialTicket'] = cleaned['specialTicket'].astype(int)\n",
    "    cleaned = cleaned.drop(['Ticket'], axis=1)\n",
    "    \n",
    "    return cleaned"
   ]
  },
  {
   "cell_type": "code",
   "execution_count": 75,
   "metadata": {},
   "outputs": [],
   "source": [
    "def add_familysize_and_alone(df):\n",
    "    \"\"\"\n",
    "    Researched that passengers who traveled alone were less likely to survive\n",
    "    Create binary variable that denotes \"Alone\"\n",
    "    Also combined Sibsp and Parch to create \"family size\" variable\n",
    "        - drop Sibsp and Parch after\n",
    "    \"\"\"\n",
    "    cleaned = df.copy()\n",
    "    cleaned['familySize'] = cleaned['SibSp'] + cleaned['Parch']\n",
    "    # Alone Column - no sibsp and no parch\n",
    "    cleaned['Alone'] = [1 if x == 0 else 0 for x in cleaned['familySize']]\n",
    "    \n",
    "    cleaned = cleaned.drop(['SibSp', 'Parch'], axis=1)\n",
    "    \n",
    "    return cleaned"
   ]
  },
  {
   "cell_type": "markdown",
   "metadata": {},
   "source": [
    "### 2.3 Interactions"
   ]
  },
  {
   "cell_type": "code",
   "execution_count": 76,
   "metadata": {},
   "outputs": [],
   "source": [
    "# Create intermediate dataframe to look at interaction with Alone\n",
    "train_with_alone = add_familysize_and_alone(train)"
   ]
  },
  {
   "cell_type": "code",
   "execution_count": 77,
   "metadata": {},
   "outputs": [
    {
     "data": {
      "image/png": "[encoded data removed]",
      "text/plain": [
       "<Figure size 864x288 with 2 Axes>"
      ]
     },
     "metadata": {
      "needs_background": "light"
     },
     "output_type": "display_data"
    }
   ],
   "source": [
    "fig, ax = plt.subplots(1, 2, figsize=(12, 4), sharex=False)\n",
    "sns.barplot(x='Pclass', y='Survived', hue='Embarked', data=train_with_alone, ax=ax[0]);\n",
    "sns.barplot(x='Sex', y='Survived', hue='Alone', data=train_with_alone, ax=ax[1]);\n",
    "fig.tight_layout()"
   ]
  },
  {
   "cell_type": "markdown",
   "metadata": {},
   "source": [
    "1. Survival proportion varies by class and embarkation\n",
    "2. Males who were alone much less likely to survive compared to females who were alone."
   ]
  },
  {
   "cell_type": "code",
   "execution_count": 78,
   "metadata": {},
   "outputs": [],
   "source": [
    "def sex_alone_interaction(df):\n",
    "    \"\"\"\n",
    "    Add interaction between sex and alone variables\n",
    "    - Handles OHE of Sex\n",
    "    \"\"\"\n",
    "    cleaned = df.copy()\n",
    "    \n",
    "    sex_dummies = pd.get_dummies(cleaned['Sex'], prefix='Sex', prefix_sep='_')\n",
    "    cleaned = cleaned.join(sex_dummies)\n",
    "    cleaned = cleaned.drop(['Sex'], axis=1)\n",
    "    cleaned['male:Alone'] = cleaned['Sex_male'] * cleaned['Alone']\n",
    "    \n",
    "    return cleaned"
   ]
  },
  {
   "cell_type": "code",
   "execution_count": 79,
   "metadata": {},
   "outputs": [],
   "source": [
    "def add_pclass_embarked(df):\n",
    "    \"\"\"\n",
    "    Add interaction between Pclass and Embarked variables\n",
    "    - Handles OHE of Pclass, Embarked\n",
    "    \"\"\"\n",
    "    df['Pclass'] = df['Pclass'].astype(str)\n",
    "    cleaned = df.copy()\n",
    "    \n",
    "    # OHE\n",
    "    features = ['Pclass', 'Embarked']\n",
    "    for feature in features:\n",
    "        dummies = pd.get_dummies(cleaned[feature], prefix=feature, prefix_sep='_')\n",
    "        cleaned = cleaned.join(dummies)\n",
    "        cleaned = cleaned.drop([feature], axis=1)\n",
    "    \n",
    "    # Embarked:Pclass\n",
    "    for pclass in df['Pclass'].unique():\n",
    "         for embark in df['Embarked'].unique():\n",
    "            embark_colName = 'Embarked_' + embark\n",
    "            pclass_colName = 'Pclass_' + pclass\n",
    "            new_colName = embark_colName + ':' + pclass_colName\n",
    "            cleaned[new_colName] = cleaned[pclass_colName] * cleaned[embark_colName]    \n",
    "    \n",
    "    return cleaned"
   ]
  },
  {
   "cell_type": "markdown",
   "metadata": {},
   "source": [
    "### 2.3 Preprocessing"
   ]
  },
  {
   "cell_type": "code",
   "execution_count": 80,
   "metadata": {},
   "outputs": [],
   "source": [
    "def preProcess(df):\n",
    "    \"\"\"\n",
    "    Preprocess Raw Dataframe into design matrix (w/ response column)\n",
    "    \"\"\"\n",
    "    processed = df.copy()\n",
    "    processed = processed.drop(['PassengerId'], axis=1)\n",
    "    \n",
    "    # Fill age, fare with Median\n",
    "#     processed['Age'] = processed['Age'].fillna(np.nanmedian(processed['Age']))\n",
    "    processed = replace_age(processed)\n",
    "#     processed['Fare'] = processed['Fare'].fillna(np.nanmedian(processed['Fare']))\n",
    "    processed = replace_face(processed)\n",
    "    # Fill embarked with majority class (only two NA)\n",
    "    processed['Embarked'] = processed['Embarked'].fillna('S')\n",
    "    \n",
    "    # New Features\n",
    "    processed = ohe_names(processed)\n",
    "    processed = add_cabin(processed)\n",
    "    processed = encode_ticket(processed)\n",
    "    processed = add_familysize_and_alone(processed)\n",
    "    \n",
    "    # Interactions - OHE of Sex, Pclass, Embark\n",
    "    processed = sex_alone_interaction(processed)\n",
    "    processed = add_pclass_embarked(processed)\n",
    "    \n",
    "    # Convert Parch to 6 if value 6 or more (outliers between train and test)\n",
    "#     processed['Parch'] = [x if x < 6 else 6 for x in processed['Parch']]\n",
    "    \n",
    "#     # OHE other categorical Features\n",
    "#     processed['SibSp'] = processed['SibSp'].astype(str)\n",
    "#     processed['Parch'] = processed['Parch'].astype(str)\n",
    "#     categorical_features = ['SibSp', 'Parch']\n",
    "#     for feature in categorical_features:\n",
    "#         dummies = pd.get_dummies(processed[feature], prefix=feature, prefix_sep='_')\n",
    "#         processed = processed.join(dummies)\n",
    "#         processed = processed.drop([feature], axis=1)\n",
    "    \n",
    "    # Standardize Continuous Features\n",
    "    def norm(vec):\n",
    "        return (vec - np.mean(vec)) / np.std(vec)\n",
    "    \n",
    "    processed['Age'] = norm(processed['Age'])\n",
    "    processed['Fare'] = norm(processed['Fare'])\n",
    "    \n",
    "    return processed"
   ]
  },
  {
   "cell_type": "code",
   "execution_count": 81,
   "metadata": {
    "scrolled": false
   },
   "outputs": [
    {
     "data": {
      "text/html": [
       "<div>\n",
       "<style scoped>\n",
       "    .dataframe tbody tr th:only-of-type {\n",
       "        vertical-align: middle;\n",
       "    }\n",
       "\n",
       "    .dataframe tbody tr th {\n",
       "        vertical-align: top;\n",
       "    }\n",
       "\n",
       "    .dataframe thead th {\n",
       "        text-align: right;\n",
       "    }\n",
       "</style>\n",
       "<table border=\"1\" class=\"dataframe\">\n",
       "  <thead>\n",
       "    <tr style=\"text-align: right;\">\n",
       "      <th></th>\n",
       "      <th>Survived</th>\n",
       "      <th>Age</th>\n",
       "      <th>Fare</th>\n",
       "      <th>Mr\\.</th>\n",
       "      <th>Mrs\\.</th>\n",
       "      <th>Miss\\.</th>\n",
       "      <th>nickname</th>\n",
       "      <th>knownCabin</th>\n",
       "      <th>specialTicket</th>\n",
       "      <th>familySize</th>\n",
       "      <th>...</th>\n",
       "      <th>Embarked_S</th>\n",
       "      <th>Embarked_S:Pclass_3</th>\n",
       "      <th>Embarked_C:Pclass_3</th>\n",
       "      <th>Embarked_Q:Pclass_3</th>\n",
       "      <th>Embarked_S:Pclass_1</th>\n",
       "      <th>Embarked_C:Pclass_1</th>\n",
       "      <th>Embarked_Q:Pclass_1</th>\n",
       "      <th>Embarked_S:Pclass_2</th>\n",
       "      <th>Embarked_C:Pclass_2</th>\n",
       "      <th>Embarked_Q:Pclass_2</th>\n",
       "    </tr>\n",
       "  </thead>\n",
       "  <tbody>\n",
       "    <tr>\n",
       "      <th>0</th>\n",
       "      <td>0</td>\n",
       "      <td>-0.557420</td>\n",
       "      <td>-0.502445</td>\n",
       "      <td>1</td>\n",
       "      <td>0</td>\n",
       "      <td>0</td>\n",
       "      <td>0</td>\n",
       "      <td>1</td>\n",
       "      <td>1</td>\n",
       "      <td>1</td>\n",
       "      <td>...</td>\n",
       "      <td>1</td>\n",
       "      <td>1</td>\n",
       "      <td>0</td>\n",
       "      <td>0</td>\n",
       "      <td>0</td>\n",
       "      <td>0</td>\n",
       "      <td>0</td>\n",
       "      <td>0</td>\n",
       "      <td>0</td>\n",
       "      <td>0</td>\n",
       "    </tr>\n",
       "    <tr>\n",
       "      <th>1</th>\n",
       "      <td>1</td>\n",
       "      <td>0.649410</td>\n",
       "      <td>0.786845</td>\n",
       "      <td>0</td>\n",
       "      <td>1</td>\n",
       "      <td>0</td>\n",
       "      <td>0</td>\n",
       "      <td>0</td>\n",
       "      <td>1</td>\n",
       "      <td>1</td>\n",
       "      <td>...</td>\n",
       "      <td>0</td>\n",
       "      <td>0</td>\n",
       "      <td>0</td>\n",
       "      <td>0</td>\n",
       "      <td>0</td>\n",
       "      <td>1</td>\n",
       "      <td>0</td>\n",
       "      <td>0</td>\n",
       "      <td>0</td>\n",
       "      <td>0</td>\n",
       "    </tr>\n",
       "    <tr>\n",
       "      <th>2</th>\n",
       "      <td>1</td>\n",
       "      <td>-0.255712</td>\n",
       "      <td>-0.488854</td>\n",
       "      <td>0</td>\n",
       "      <td>0</td>\n",
       "      <td>1</td>\n",
       "      <td>0</td>\n",
       "      <td>1</td>\n",
       "      <td>1</td>\n",
       "      <td>0</td>\n",
       "      <td>...</td>\n",
       "      <td>1</td>\n",
       "      <td>1</td>\n",
       "      <td>0</td>\n",
       "      <td>0</td>\n",
       "      <td>0</td>\n",
       "      <td>0</td>\n",
       "      <td>0</td>\n",
       "      <td>0</td>\n",
       "      <td>0</td>\n",
       "      <td>0</td>\n",
       "    </tr>\n",
       "    <tr>\n",
       "      <th>3</th>\n",
       "      <td>1</td>\n",
       "      <td>0.423129</td>\n",
       "      <td>0.420730</td>\n",
       "      <td>0</td>\n",
       "      <td>1</td>\n",
       "      <td>0</td>\n",
       "      <td>0</td>\n",
       "      <td>0</td>\n",
       "      <td>0</td>\n",
       "      <td>1</td>\n",
       "      <td>...</td>\n",
       "      <td>1</td>\n",
       "      <td>0</td>\n",
       "      <td>0</td>\n",
       "      <td>0</td>\n",
       "      <td>1</td>\n",
       "      <td>0</td>\n",
       "      <td>0</td>\n",
       "      <td>0</td>\n",
       "      <td>0</td>\n",
       "      <td>0</td>\n",
       "    </tr>\n",
       "    <tr>\n",
       "      <th>4</th>\n",
       "      <td>0</td>\n",
       "      <td>0.423129</td>\n",
       "      <td>-0.486337</td>\n",
       "      <td>1</td>\n",
       "      <td>0</td>\n",
       "      <td>0</td>\n",
       "      <td>0</td>\n",
       "      <td>1</td>\n",
       "      <td>0</td>\n",
       "      <td>0</td>\n",
       "      <td>...</td>\n",
       "      <td>1</td>\n",
       "      <td>1</td>\n",
       "      <td>0</td>\n",
       "      <td>0</td>\n",
       "      <td>0</td>\n",
       "      <td>0</td>\n",
       "      <td>0</td>\n",
       "      <td>0</td>\n",
       "      <td>0</td>\n",
       "      <td>0</td>\n",
       "    </tr>\n",
       "  </tbody>\n",
       "</table>\n",
       "<p>5 rows × 29 columns</p>\n",
       "</div>"
      ],
      "text/plain": [
       "   Survived       Age      Fare  Mr\\.  Mrs\\.  Miss\\.  nickname  knownCabin  \\\n",
       "0         0 -0.557420 -0.502445     1      0       0         0           1   \n",
       "1         1  0.649410  0.786845     0      1       0         0           0   \n",
       "2         1 -0.255712 -0.488854     0      0       1         0           1   \n",
       "3         1  0.423129  0.420730     0      1       0         0           0   \n",
       "4         0  0.423129 -0.486337     1      0       0         0           1   \n",
       "\n",
       "   specialTicket  familySize  ...  Embarked_S  Embarked_S:Pclass_3  \\\n",
       "0              1           1  ...           1                    1   \n",
       "1              1           1  ...           0                    0   \n",
       "2              1           0  ...           1                    1   \n",
       "3              0           1  ...           1                    0   \n",
       "4              0           0  ...           1                    1   \n",
       "\n",
       "   Embarked_C:Pclass_3  Embarked_Q:Pclass_3  Embarked_S:Pclass_1  \\\n",
       "0                    0                    0                    0   \n",
       "1                    0                    0                    0   \n",
       "2                    0                    0                    0   \n",
       "3                    0                    0                    1   \n",
       "4                    0                    0                    0   \n",
       "\n",
       "   Embarked_C:Pclass_1  Embarked_Q:Pclass_1  Embarked_S:Pclass_2  \\\n",
       "0                    0                    0                    0   \n",
       "1                    1                    0                    0   \n",
       "2                    0                    0                    0   \n",
       "3                    0                    0                    0   \n",
       "4                    0                    0                    0   \n",
       "\n",
       "   Embarked_C:Pclass_2  Embarked_Q:Pclass_2  \n",
       "0                    0                    0  \n",
       "1                    0                    0  \n",
       "2                    0                    0  \n",
       "3                    0                    0  \n",
       "4                    0                    0  \n",
       "\n",
       "[5 rows x 29 columns]"
      ]
     },
     "execution_count": 81,
     "metadata": {},
     "output_type": "execute_result"
    }
   ],
   "source": [
    "trainClean = preProcess(train)\n",
    "testClean = preProcess(test)\n",
    "trainClean.head()"
   ]
  },
  {
   "cell_type": "code",
   "execution_count": 82,
   "metadata": {},
   "outputs": [
    {
     "name": "stdout",
     "output_type": "stream",
     "text": [
      "Features: ['Survived' 'Age' 'Fare' 'Mr\\\\.' 'Mrs\\\\.' 'Miss\\\\.' 'nickname'\n",
      " 'knownCabin' 'specialTicket' 'familySize' 'Alone' 'Sex_female' 'Sex_male'\n",
      " 'male:Alone' 'Pclass_1' 'Pclass_2' 'Pclass_3' 'Embarked_C' 'Embarked_Q'\n",
      " 'Embarked_S' 'Embarked_S:Pclass_3' 'Embarked_C:Pclass_3'\n",
      " 'Embarked_Q:Pclass_3' 'Embarked_S:Pclass_1' 'Embarked_C:Pclass_1'\n",
      " 'Embarked_Q:Pclass_1' 'Embarked_S:Pclass_2' 'Embarked_C:Pclass_2'\n",
      " 'Embarked_Q:Pclass_2']\n"
     ]
    }
   ],
   "source": [
    "print(f'Features: {trainClean.columns.values}')"
   ]
  },
  {
   "cell_type": "markdown",
   "metadata": {},
   "source": [
    "## 3. Modeling\n",
    "\n",
    "Because the training data contains only 891 rows, I decided to avoid more complex models, such as neural networks. Without extensive tuning, they would be very prone to overfitting on a small dataset. Simpler models, such as Logistic Regression, Random Forest, and K Nearest Neighbor models can be more easily optimized, and are less prone to overfitting."
   ]
  },
  {
   "cell_type": "code",
   "execution_count": 25,
   "metadata": {},
   "outputs": [],
   "source": [
    "Y_train = trainClean['Survived']\n",
    "X_train = trainClean.drop(['Survived'], axis=1)"
   ]
  },
  {
   "cell_type": "code",
   "execution_count": 26,
   "metadata": {},
   "outputs": [],
   "source": [
    "def cross_val_acc(model, X_train, Y_train, k):\n",
    "    '''\n",
    "    Compute k-fold Cross Validation accuracy\n",
    "\n",
    "    Inputs:\n",
    "        model: an sklearn model with fit and predict functions \n",
    "        X_train: Design Matrix\n",
    "        Y_train: Response Vector\n",
    "    Outputs:\n",
    "        the average validation MSE for the k splits.\n",
    "    '''\n",
    "    kf = KFold(n_splits=k, shuffle=True, random_state=0)\n",
    "    validation_accuracies = []\n",
    "    \n",
    "    for train_idx, valid_idx in kf.split(X_train):\n",
    "        # split data\n",
    "        split_X_train, split_X_valid = X_train.iloc[train_idx], X_train.iloc[valid_idx]\n",
    "        split_Y_train, split_Y_valid = Y_train.iloc[train_idx], Y_train.iloc[valid_idx]\n",
    "\n",
    "        # Fit model\n",
    "        model.fit(split_X_train, split_Y_train)\n",
    "        \n",
    "        # Compute Accuracy on the validation split\n",
    "        acc = model.score(split_X_valid, split_Y_valid)\n",
    "        validation_accuracies.append(acc)\n",
    "        \n",
    "    return np.mean(validation_accuracies)"
   ]
  },
  {
   "cell_type": "code",
   "execution_count": 27,
   "metadata": {},
   "outputs": [],
   "source": [
    "# Initialize\n",
    "K = 5\n",
    "RANDOM_STATE = 42"
   ]
  },
  {
   "cell_type": "markdown",
   "metadata": {},
   "source": [
    "### 3.1 Logistic Regression\n",
    "\n",
    "Investigate Baseline Model without Tuning"
   ]
  },
  {
   "cell_type": "code",
   "execution_count": 28,
   "metadata": {
    "scrolled": true
   },
   "outputs": [
    {
     "name": "stdout",
     "output_type": "stream",
     "text": [
      "Logistic Regression 5 Fold CV Accuracy = 0.8215554579122465\n",
      "Logistic Regression Training Accuracy = 0.8372615039281706\n"
     ]
    }
   ],
   "source": [
    "logreg = LogisticRegression(random_state=RANDOM_STATE)\n",
    "\n",
    "cv_acc = cross_val_acc(logreg, X_train, Y_train, K)\n",
    "print(f'Logistic Regression {K} Fold CV Accuracy = {cv_acc}')\n",
    "\n",
    "logreg.fit(X_train, Y_train)\n",
    "print(f'Logistic Regression Training Accuracy = {logreg.score(X_train, Y_train)}')"
   ]
  },
  {
   "cell_type": "markdown",
   "metadata": {},
   "source": [
    "### 3.2 Random Forest"
   ]
  },
  {
   "cell_type": "code",
   "execution_count": 29,
   "metadata": {},
   "outputs": [
    {
     "name": "stdout",
     "output_type": "stream",
     "text": [
      "Random Forest 5 Fold CV Accuracy = 0.8091707990709937\n",
      "Random Forest Training Accuracy = 0.9876543209876543\n"
     ]
    }
   ],
   "source": [
    "rf = RandomForestClassifier(random_state=RANDOM_STATE)\n",
    "\n",
    "cv_acc = cross_val_acc(rf, X_train, Y_train, K)\n",
    "print(f'Random Forest {K} Fold CV Accuracy = {cv_acc}')\n",
    "\n",
    "rf.fit(X_train, Y_train)\n",
    "print(f'Random Forest Training Accuracy = {rf.score(X_train, Y_train)}')"
   ]
  },
  {
   "cell_type": "markdown",
   "metadata": {},
   "source": [
    "### 3.3 K Nearest Neighbors"
   ]
  },
  {
   "cell_type": "code",
   "execution_count": 87,
   "metadata": {},
   "outputs": [
    {
     "name": "stdout",
     "output_type": "stream",
     "text": [
      "K-Nearest Neighbors 5 Fold CV Accuracy = 0.8002196974452327\n",
      "K-Nearest Neighbors  Training Accuracy = 0.8608305274971941\n"
     ]
    }
   ],
   "source": [
    "knn = KNeighborsClassifier(n_neighbors=5)\n",
    "cv_acc = cross_val_acc(knn, X_train, Y_train, K)\n",
    "print(f'K-Nearest Neighbors {K} Fold CV Accuracy = {cv_acc}')\n",
    "\n",
    "knn.fit(X_train, Y_train)\n",
    "print(f'K-Nearest Neighbors  Training Accuracy = {knn.score(X_train, Y_train)}')"
   ]
  },
  {
   "cell_type": "markdown",
   "metadata": {},
   "source": [
    "### 3.4 Hyperparameter Tuning"
   ]
  },
  {
   "cell_type": "markdown",
   "metadata": {},
   "source": [
    "There is overfitting in all cases with the baseline models, so we will perform hyperparameter tuning"
   ]
  },
  {
   "cell_type": "code",
   "execution_count": 88,
   "metadata": {},
   "outputs": [],
   "source": [
    "def gridSearch(pipe, param_grid, X_train, Y_train, K):\n",
    "    \"\"\"\n",
    "    Returns best hyperparameters for a particular model based on training data\n",
    "    \"\"\"\n",
    "    # Create grid search object\n",
    "    clf = GridSearchCV(pipe, param_grid=param_grid, cv=K, verbose=True, n_jobs=-1)\n",
    "    # Fit on data\n",
    "    best_model = clf.fit(X_train, Y_train)\n",
    "    \n",
    "    return best_model"
   ]
  },
  {
   "cell_type": "code",
   "execution_count": 89,
   "metadata": {
    "scrolled": false
   },
   "outputs": [
    {
     "name": "stdout",
     "output_type": "stream",
     "text": [
      "Fitting 5 folds for each of 60 candidates, totalling 300 fits\n"
     ]
    },
    {
     "name": "stderr",
     "output_type": "stream",
     "text": [
      "[Parallel(n_jobs=-1)]: Using backend LokyBackend with 4 concurrent workers.\n",
      "[Parallel(n_jobs=-1)]: Done  68 tasks      | elapsed:    2.4s\n",
      "[Parallel(n_jobs=-1)]: Done 300 out of 300 | elapsed:   10.9s finished\n"
     ]
    }
   ],
   "source": [
    "# Find Best Logistic Regression\n",
    "pipe = Pipeline([('classifier' , LogisticRegression(random_state=RANDOM_STATE, \n",
    "                                                    max_iter=500))])\n",
    "\n",
    "# Create param grid.\n",
    "param_grid = [\n",
    "    {'classifier' : [LogisticRegression(random_state=RANDOM_STATE, max_iter=500)],\n",
    "     'classifier__penalty' : ['l1', 'l2', 'elasticnet'],\n",
    "    'classifier__C' : np.logspace(-4, 4, 20),\n",
    "    'classifier__solver' : ['saga']}\n",
    "]\n",
    "\n",
    "# Fit on data\n",
    "best_logreg = gridSearch(pipe, param_grid, X_train, Y_train, K)"
   ]
  },
  {
   "cell_type": "code",
   "execution_count": 90,
   "metadata": {},
   "outputs": [
    {
     "data": {
      "text/plain": [
       "LogisticRegression(C=0.23357214690901212, class_weight=None, dual=False,\n",
       "                   fit_intercept=True, intercept_scaling=1, l1_ratio=None,\n",
       "                   max_iter=500, multi_class='auto', n_jobs=None, penalty='l1',\n",
       "                   random_state=42, solver='saga', tol=0.0001, verbose=0,\n",
       "                   warm_start=False)"
      ]
     },
     "execution_count": 90,
     "metadata": {},
     "output_type": "execute_result"
    }
   ],
   "source": [
    "best_logreg.best_estimator_.get_params()['classifier']"
   ]
  },
  {
   "cell_type": "code",
   "execution_count": 91,
   "metadata": {},
   "outputs": [
    {
     "name": "stdout",
     "output_type": "stream",
     "text": [
      "Best Logistic Regression Accuracy =  0.8271483271608814\n"
     ]
    },
    {
     "data": {
      "image/png": "[encoded data removed]",
      "text/plain": [
       "<Figure size 432x288 with 2 Axes>"
      ]
     },
     "metadata": {
      "needs_background": "light"
     },
     "output_type": "display_data"
    }
   ],
   "source": [
    "# Confusion Matrix for Training Data\n",
    "print('Best Logistic Regression Accuracy = ', best_logreg.best_score_)\n",
    "## Have more False Positives that False Negatives\n",
    "y_pred = best_logreg.predict(X_train)\n",
    "sns.heatmap(confusion_matrix(Y_train, y_pred), annot=True);\n",
    "plt.ylabel('Predicted');\n",
    "plt.xlabel('Actual');"
   ]
  },
  {
   "cell_type": "code",
   "execution_count": 92,
   "metadata": {},
   "outputs": [
    {
     "name": "stdout",
     "output_type": "stream",
     "text": [
      "Fitting 5 folds for each of 1890 candidates, totalling 9450 fits\n"
     ]
    },
    {
     "name": "stderr",
     "output_type": "stream",
     "text": [
      "[Parallel(n_jobs=-1)]: Using backend LokyBackend with 4 concurrent workers.\n",
      "[Parallel(n_jobs=-1)]: Done  76 tasks      | elapsed:    3.4s\n",
      "[Parallel(n_jobs=-1)]: Done 376 tasks      | elapsed:   19.5s\n",
      "[Parallel(n_jobs=-1)]: Done 876 tasks      | elapsed:   46.9s\n",
      "[Parallel(n_jobs=-1)]: Done 1576 tasks      | elapsed:  1.5min\n",
      "[Parallel(n_jobs=-1)]: Done 2476 tasks      | elapsed:  2.4min\n",
      "[Parallel(n_jobs=-1)]: Done 3036 tasks      | elapsed:  3.2min\n",
      "[Parallel(n_jobs=-1)]: Done 3686 tasks      | elapsed:  3.8min\n",
      "[Parallel(n_jobs=-1)]: Done 4436 tasks      | elapsed:  4.6min\n",
      "[Parallel(n_jobs=-1)]: Done 5286 tasks      | elapsed:  5.5min\n",
      "[Parallel(n_jobs=-1)]: Done 6236 tasks      | elapsed:  6.5min\n",
      "[Parallel(n_jobs=-1)]: Done 7286 tasks      | elapsed:  7.6min\n",
      "[Parallel(n_jobs=-1)]: Done 8436 tasks      | elapsed:  8.8min\n",
      "[Parallel(n_jobs=-1)]: Done 9450 out of 9450 | elapsed: 10.0min finished\n"
     ]
    }
   ],
   "source": [
    "# Find Best Random Forest\n",
    "pipe = Pipeline([('classifier' , RandomForestClassifier(random_state=RANDOM_STATE))])\n",
    "\n",
    "# Create param grid.\n",
    "param_grid = [\n",
    "    {'classifier' : [RandomForestClassifier(random_state=RANDOM_STATE)],\n",
    "    'classifier__n_estimators' : np.arange(30, 101, 5),\n",
    "    'classifier__max_features' : ['sqrt', 'log2', None],\n",
    "    'classifier__max_depth' : np.arange(4, 11),\n",
    "    'classifier__min_samples_leaf' : np.arange(1, 4),\n",
    "    'classifier__oob_score' : [False, True]}\n",
    "]\n",
    "\n",
    "# Fit on data\n",
    "best_rf = gridSearch(pipe, param_grid, X_train, Y_train, K)"
   ]
  },
  {
   "cell_type": "code",
   "execution_count": 99,
   "metadata": {},
   "outputs": [
    {
     "data": {
      "text/plain": [
       "RandomForestClassifier(bootstrap=True, ccp_alpha=0.0, class_weight=None,\n",
       "                       criterion='gini', max_depth=10, max_features=None,\n",
       "                       max_leaf_nodes=None, max_samples=None,\n",
       "                       min_impurity_decrease=0.0, min_impurity_split=None,\n",
       "                       min_samples_leaf=3, min_samples_split=2,\n",
       "                       min_weight_fraction_leaf=0.0, n_estimators=65,\n",
       "                       n_jobs=None, oob_score=False, random_state=42, verbose=0,\n",
       "                       warm_start=False)"
      ]
     },
     "execution_count": 99,
     "metadata": {},
     "output_type": "execute_result"
    }
   ],
   "source": [
    "best_rf.best_estimator_.get_params()['classifier']"
   ]
  },
  {
   "cell_type": "code",
   "execution_count": 100,
   "metadata": {},
   "outputs": [
    {
     "name": "stdout",
     "output_type": "stream",
     "text": [
      "Best Random Forest Accuracy =  0.8406063649488418\n"
     ]
    },
    {
     "data": {
      "image/png": "[encoded data removed]",
      "text/plain": [
       "<Figure size 432x288 with 2 Axes>"
      ]
     },
     "metadata": {
      "needs_background": "light"
     },
     "output_type": "display_data"
    }
   ],
   "source": [
    "# Confusion Matrix for Training Data\n",
    "print('Best Random Forest Accuracy = ', best_rf.best_score_)\n",
    "## Have more False Positives that False Negatives\n",
    "y_pred = best_rf.predict(X_train)\n",
    "sns.heatmap(confusion_matrix(Y_train, y_pred), annot=True);\n",
    "plt.ylabel('Predicted');\n",
    "plt.xlabel('Actual');"
   ]
  },
  {
   "cell_type": "code",
   "execution_count": 101,
   "metadata": {},
   "outputs": [
    {
     "name": "stdout",
     "output_type": "stream",
     "text": [
      "Fitting 5 folds for each of 28 candidates, totalling 140 fits\n"
     ]
    },
    {
     "name": "stderr",
     "output_type": "stream",
     "text": [
      "[Parallel(n_jobs=-1)]: Using backend LokyBackend with 4 concurrent workers.\n",
      "[Parallel(n_jobs=-1)]: Done 130 tasks      | elapsed:    0.7s\n",
      "[Parallel(n_jobs=-1)]: Done 140 out of 140 | elapsed:    0.7s finished\n"
     ]
    }
   ],
   "source": [
    "# Find Best KNN\n",
    "pipe = Pipeline([('classifier' , KNeighborsClassifier())])\n",
    "\n",
    "# Create param grid.\n",
    "param_grid = [\n",
    "    {'classifier' : [KNeighborsClassifier()],\n",
    "    'classifier__n_neighbors' : np.arange(3, 30, 2),\n",
    "    'classifier__weights' : ['uniform', 'distance']}\n",
    "]\n",
    "\n",
    "# Fit on data\n",
    "best_knn = gridSearch(pipe, param_grid, X_train, Y_train, K)"
   ]
  },
  {
   "cell_type": "code",
   "execution_count": 102,
   "metadata": {},
   "outputs": [
    {
     "data": {
      "text/plain": [
       "KNeighborsClassifier(algorithm='auto', leaf_size=30, metric='minkowski',\n",
       "                     metric_params=None, n_jobs=None, n_neighbors=15, p=2,\n",
       "                     weights='uniform')"
      ]
     },
     "execution_count": 102,
     "metadata": {},
     "output_type": "execute_result"
    }
   ],
   "source": [
    "best_knn.best_estimator_.get_params()['classifier']"
   ]
  },
  {
   "cell_type": "code",
   "execution_count": 103,
   "metadata": {},
   "outputs": [
    {
     "name": "stdout",
     "output_type": "stream",
     "text": [
      "Best K Nearest Neighbors Accuracy =  0.8148389931579938\n"
     ]
    },
    {
     "data": {
      "image/png": "[encoded data removed]",
      "text/plain": [
       "<Figure size 432x288 with 2 Axes>"
      ]
     },
     "metadata": {
      "needs_background": "light"
     },
     "output_type": "display_data"
    }
   ],
   "source": [
    "# Confusion Matrix for Training Data\n",
    "print('Best K Nearest Neighbors Accuracy = ', best_knn.best_score_)\n",
    "## Have more False Positives that False Negatives\n",
    "y_pred = best_knn.predict(X_train)\n",
    "sns.heatmap(confusion_matrix(Y_train, y_pred), annot=True);\n",
    "plt.ylabel('Predicted');\n",
    "plt.xlabel('Actual');"
   ]
  },
  {
   "cell_type": "markdown",
   "metadata": {},
   "source": [
    "## 4. Final Model Diagnostics and Predictions\n",
    "\n",
    "All 3 models have a few more false positives, but splits are slightly different. Will Use voting classifier to utilize all 3 models."
   ]
  },
  {
   "cell_type": "code",
   "execution_count": 105,
   "metadata": {
    "scrolled": false
   },
   "outputs": [],
   "source": [
    "lr = best_logreg.best_estimator_.get_params()['classifier']\n",
    "rf = best_rf.best_estimator_.get_params()['classifier']\n",
    "knn = best_knn.best_estimator_.get_params()['classifier']\n",
    "\n",
    "eclf = VotingClassifier(estimators=[\n",
    "    ('lr', lr), ('rf', rf), ('knn', knn)], voting='hard')"
   ]
  },
  {
   "cell_type": "code",
   "execution_count": 106,
   "metadata": {},
   "outputs": [
    {
     "name": "stdout",
     "output_type": "stream",
     "text": [
      "Voting Model 5 Fold CV Accuracy = 0.8305191136777352\n",
      "Voting Model Training Accuracy = 0.8619528619528619\n"
     ]
    }
   ],
   "source": [
    "cv_acc = cross_val_acc(eclf, X_train, Y_train, K)\n",
    "print(f'Voting Model {K} Fold CV Accuracy = {cv_acc}')\n",
    "\n",
    "eclf = eclf.fit(X_train, Y_train)\n",
    "print(f'Voting Model Training Accuracy = {eclf.score(X_train, Y_train)}')"
   ]
  },
  {
   "cell_type": "code",
   "execution_count": 107,
   "metadata": {},
   "outputs": [
    {
     "data": {
      "image/png": "[encoded data removed]",
      "text/plain": [
       "<Figure size 432x288 with 2 Axes>"
      ]
     },
     "metadata": {
      "needs_background": "light"
     },
     "output_type": "display_data"
    }
   ],
   "source": [
    "# Confusion Matrix for Voting model on Training Data\n",
    "## Have more False Positives that False Negatives\n",
    "y_pred = eclf.predict(X_train)\n",
    "sns.heatmap(confusion_matrix(Y_train, y_pred), annot=True);\n",
    "plt.ylabel('Predicted');\n",
    "plt.xlabel('Actual');"
   ]
  },
  {
   "cell_type": "code",
   "execution_count": 108,
   "metadata": {},
   "outputs": [],
   "source": [
    "# Make Final Predictions\n",
    "test_preds = eclf.predict(testClean)\n",
    "submission = pd.DataFrame({'PassengerId': test['PassengerId'],\n",
    "                          'Survived': test_preds})\n",
    "submission.to_csv('data/submission.csv', index=False)"
   ]
  },
  {
   "cell_type": "markdown",
   "metadata": {},
   "source": [
    "**Final Results**\n",
    "\n",
    "77.751% Accuracy on Kaggle Public Leaderboard"
   ]
  }
 ],
 "metadata": {
  "kernelspec": {
   "display_name": "Python 3",
   "language": "python",
   "name": "python3"
  },
  "language_info": {
   "codemirror_mode": {
    "name": "ipython",
    "version": 3
   },
   "file_extension": ".py",
   "mimetype": "text/x-python",
   "name": "python",
   "nbconvert_exporter": "python",
   "pygments_lexer": "ipython3",
   "version": "3.8.3"
  }
 },
 "nbformat": 4,
 "nbformat_minor": 4
}
