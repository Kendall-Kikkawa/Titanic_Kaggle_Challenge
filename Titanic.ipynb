{
 "cells": [
  {
   "cell_type": "code",
   "execution_count": 1,
   "metadata": {},
   "outputs": [],
   "source": [
    "# Standard\n",
    "import pandas as pd\n",
    "import numpy as np\n",
    "import matplotlib.pyplot as plt\n",
    "import seaborn as sns\n",
    "\n",
    "# Modeling\n",
    "from sklearn.preprocessing import StandardScaler\n",
    "from sklearn.linear_model import LogisticRegression\n",
    "from sklearn.ensemble import RandomForestClassifier\n",
    "from sklearn.neighbors import KNeighborsClassifier\n",
    "from sklearn.naive_bayes import GaussianNB\n",
    "from sklearn.svm import SVC\n",
    "from sklearn.model_selection import KFold\n",
    "from sklearn.model_selection import GridSearchCV\n",
    "from sklearn.pipeline import Pipeline, make_pipeline\n",
    "from sklearn import metrics\n",
    "from sklearn.metrics import confusion_matrix\n",
    "from sklearn.ensemble import VotingClassifier"
   ]
  },
  {
   "cell_type": "markdown",
   "metadata": {},
   "source": [
    "# Titanic Competition\n",
    "\n",
    "0. Loading in the data\n",
    "1. EDA\n",
    "2. Preprocessing and Feature Engineering\n",
    "3. Modeling\n",
    "4. Final Model Diagnostics and Predictions"
   ]
  },
  {
   "cell_type": "markdown",
   "metadata": {},
   "source": [
    "## 0: Loading in the data"
   ]
  },
  {
   "cell_type": "code",
   "execution_count": 2,
   "metadata": {},
   "outputs": [
    {
     "data": {
      "text/html": [
       "<div>\n",
       "<style scoped>\n",
       "    .dataframe tbody tr th:only-of-type {\n",
       "        vertical-align: middle;\n",
       "    }\n",
       "\n",
       "    .dataframe tbody tr th {\n",
       "        vertical-align: top;\n",
       "    }\n",
       "\n",
       "    .dataframe thead th {\n",
       "        text-align: right;\n",
       "    }\n",
       "</style>\n",
       "<table border=\"1\" class=\"dataframe\">\n",
       "  <thead>\n",
       "    <tr style=\"text-align: right;\">\n",
       "      <th></th>\n",
       "      <th>PassengerId</th>\n",
       "      <th>Survived</th>\n",
       "      <th>Pclass</th>\n",
       "      <th>Name</th>\n",
       "      <th>Sex</th>\n",
       "      <th>Age</th>\n",
       "      <th>SibSp</th>\n",
       "      <th>Parch</th>\n",
       "      <th>Ticket</th>\n",
       "      <th>Fare</th>\n",
       "      <th>Cabin</th>\n",
       "      <th>Embarked</th>\n",
       "    </tr>\n",
       "  </thead>\n",
       "  <tbody>\n",
       "    <tr>\n",
       "      <th>0</th>\n",
       "      <td>1</td>\n",
       "      <td>0</td>\n",
       "      <td>3</td>\n",
       "      <td>Braund, Mr. Owen Harris</td>\n",
       "      <td>male</td>\n",
       "      <td>22.0</td>\n",
       "      <td>1</td>\n",
       "      <td>0</td>\n",
       "      <td>A/5 21171</td>\n",
       "      <td>7.2500</td>\n",
       "      <td>NaN</td>\n",
       "      <td>S</td>\n",
       "    </tr>\n",
       "    <tr>\n",
       "      <th>1</th>\n",
       "      <td>2</td>\n",
       "      <td>1</td>\n",
       "      <td>1</td>\n",
       "      <td>Cumings, Mrs. John Bradley (Florence Briggs Th...</td>\n",
       "      <td>female</td>\n",
       "      <td>38.0</td>\n",
       "      <td>1</td>\n",
       "      <td>0</td>\n",
       "      <td>PC 17599</td>\n",
       "      <td>71.2833</td>\n",
       "      <td>C85</td>\n",
       "      <td>C</td>\n",
       "    </tr>\n",
       "    <tr>\n",
       "      <th>2</th>\n",
       "      <td>3</td>\n",
       "      <td>1</td>\n",
       "      <td>3</td>\n",
       "      <td>Heikkinen, Miss. Laina</td>\n",
       "      <td>female</td>\n",
       "      <td>26.0</td>\n",
       "      <td>0</td>\n",
       "      <td>0</td>\n",
       "      <td>STON/O2. 3101282</td>\n",
       "      <td>7.9250</td>\n",
       "      <td>NaN</td>\n",
       "      <td>S</td>\n",
       "    </tr>\n",
       "    <tr>\n",
       "      <th>3</th>\n",
       "      <td>4</td>\n",
       "      <td>1</td>\n",
       "      <td>1</td>\n",
       "      <td>Futrelle, Mrs. Jacques Heath (Lily May Peel)</td>\n",
       "      <td>female</td>\n",
       "      <td>35.0</td>\n",
       "      <td>1</td>\n",
       "      <td>0</td>\n",
       "      <td>113803</td>\n",
       "      <td>53.1000</td>\n",
       "      <td>C123</td>\n",
       "      <td>S</td>\n",
       "    </tr>\n",
       "    <tr>\n",
       "      <th>4</th>\n",
       "      <td>5</td>\n",
       "      <td>0</td>\n",
       "      <td>3</td>\n",
       "      <td>Allen, Mr. William Henry</td>\n",
       "      <td>male</td>\n",
       "      <td>35.0</td>\n",
       "      <td>0</td>\n",
       "      <td>0</td>\n",
       "      <td>373450</td>\n",
       "      <td>8.0500</td>\n",
       "      <td>NaN</td>\n",
       "      <td>S</td>\n",
       "    </tr>\n",
       "  </tbody>\n",
       "</table>\n",
       "</div>"
      ],
      "text/plain": [
       "   PassengerId  Survived  Pclass  \\\n",
       "0            1         0       3   \n",
       "1            2         1       1   \n",
       "2            3         1       3   \n",
       "3            4         1       1   \n",
       "4            5         0       3   \n",
       "\n",
       "                                                Name     Sex   Age  SibSp  \\\n",
       "0                            Braund, Mr. Owen Harris    male  22.0      1   \n",
       "1  Cumings, Mrs. John Bradley (Florence Briggs Th...  female  38.0      1   \n",
       "2                             Heikkinen, Miss. Laina  female  26.0      0   \n",
       "3       Futrelle, Mrs. Jacques Heath (Lily May Peel)  female  35.0      1   \n",
       "4                           Allen, Mr. William Henry    male  35.0      0   \n",
       "\n",
       "   Parch            Ticket     Fare Cabin Embarked  \n",
       "0      0         A/5 21171   7.2500   NaN        S  \n",
       "1      0          PC 17599  71.2833   C85        C  \n",
       "2      0  STON/O2. 3101282   7.9250   NaN        S  \n",
       "3      0            113803  53.1000  C123        S  \n",
       "4      0            373450   8.0500   NaN        S  "
      ]
     },
     "execution_count": 2,
     "metadata": {},
     "output_type": "execute_result"
    }
   ],
   "source": [
    "train = pd.read_csv('data/train.csv')\n",
    "test = pd.read_csv('data/test.csv')\n",
    "train.head()"
   ]
  },
  {
   "cell_type": "code",
   "execution_count": 3,
   "metadata": {},
   "outputs": [
    {
     "name": "stdout",
     "output_type": "stream",
     "text": [
      "<class 'pandas.core.frame.DataFrame'>\n",
      "RangeIndex: 891 entries, 0 to 890\n",
      "Data columns (total 12 columns):\n",
      " #   Column       Non-Null Count  Dtype  \n",
      "---  ------       --------------  -----  \n",
      " 0   PassengerId  891 non-null    int64  \n",
      " 1   Survived     891 non-null    int64  \n",
      " 2   Pclass       891 non-null    int64  \n",
      " 3   Name         891 non-null    object \n",
      " 4   Sex          891 non-null    object \n",
      " 5   Age          714 non-null    float64\n",
      " 6   SibSp        891 non-null    int64  \n",
      " 7   Parch        891 non-null    int64  \n",
      " 8   Ticket       891 non-null    object \n",
      " 9   Fare         891 non-null    float64\n",
      " 10  Cabin        204 non-null    object \n",
      " 11  Embarked     889 non-null    object \n",
      "dtypes: float64(2), int64(5), object(5)\n",
      "memory usage: 83.7+ KB\n"
     ]
    }
   ],
   "source": [
    "train.info()"
   ]
  },
  {
   "cell_type": "code",
   "execution_count": 4,
   "metadata": {},
   "outputs": [
    {
     "name": "stdout",
     "output_type": "stream",
     "text": [
      "<class 'pandas.core.frame.DataFrame'>\n",
      "RangeIndex: 418 entries, 0 to 417\n",
      "Data columns (total 11 columns):\n",
      " #   Column       Non-Null Count  Dtype  \n",
      "---  ------       --------------  -----  \n",
      " 0   PassengerId  418 non-null    int64  \n",
      " 1   Pclass       418 non-null    int64  \n",
      " 2   Name         418 non-null    object \n",
      " 3   Sex          418 non-null    object \n",
      " 4   Age          332 non-null    float64\n",
      " 5   SibSp        418 non-null    int64  \n",
      " 6   Parch        418 non-null    int64  \n",
      " 7   Ticket       418 non-null    object \n",
      " 8   Fare         417 non-null    float64\n",
      " 9   Cabin        91 non-null     object \n",
      " 10  Embarked     418 non-null    object \n",
      "dtypes: float64(2), int64(4), object(5)\n",
      "memory usage: 36.0+ KB\n"
     ]
    }
   ],
   "source": [
    "test.info()"
   ]
  },
  {
   "cell_type": "markdown",
   "metadata": {},
   "source": [
    "## 1. EDA"
   ]
  },
  {
   "cell_type": "code",
   "execution_count": 5,
   "metadata": {},
   "outputs": [
    {
     "data": {
      "image/png": "[encoded data removed]",
      "text/plain": [
       "<Figure size 432x288 with 1 Axes>"
      ]
     },
     "metadata": {
      "needs_background": "light"
     },
     "output_type": "display_data"
    }
   ],
   "source": [
    "# Some class imbalance, but not extreme\n",
    "sns.countplot(x='Survived', data=train);"
   ]
  },
  {
   "cell_type": "markdown",
   "metadata": {},
   "source": [
    "### 1.2 Categorical Features\n",
    "\n",
    "Relationship between categorical features and the binary response variable"
   ]
  },
  {
   "cell_type": "code",
   "execution_count": 6,
   "metadata": {},
   "outputs": [
    {
     "data": {
      "image/png": "[encoded data removed]",
      "text/plain": [
       "<Figure size 864x720 with 6 Axes>"
      ]
     },
     "metadata": {
      "needs_background": "light"
     },
     "output_type": "display_data"
    }
   ],
   "source": [
    "fig, ax = plt.subplots(3, 2, figsize=(12, 10), sharex=False)\n",
    "sns.barplot(x='Pclass', y='Survived', data=train, ax=ax[0, 0]);\n",
    "sns.barplot(x='Sex', y='Survived', data=train, ax=ax[0, 1]);\n",
    "sns.barplot(x='SibSp', y='Survived', data=train, ax=ax[1, 0]);\n",
    "sns.barplot(x='Parch', y='Survived', data=train, ax=ax[1, 1]);\n",
    "sns.barplot(x='Embarked', y='Survived', data=train, ax=ax[2, 0]);\n",
    "fig.tight_layout()"
   ]
  },
  {
   "cell_type": "markdown",
   "metadata": {},
   "source": [
    "1. Higher classes more likely to survive\n",
    "2. Females much more likely to survive\n",
    "3. Passengers with 1 or 2 siblings or spouses more likely to survive\n",
    "4. Passengers with 1 2 or 3 parents or children more likely to survive\n",
    "5. Passengers from Cherbourg more likely to survive"
   ]
  },
  {
   "cell_type": "code",
   "execution_count": 7,
   "metadata": {
    "scrolled": false
   },
   "outputs": [
    {
     "name": "stdout",
     "output_type": "stream",
     "text": [
      "681\n"
     ]
    },
    {
     "data": {
      "text/plain": [
       "CA. 2343      7\n",
       "347082        7\n",
       "1601          7\n",
       "CA 2144       6\n",
       "347088        6\n",
       "             ..\n",
       "PC 17585      1\n",
       "113043        1\n",
       "C.A. 17248    1\n",
       "28424         1\n",
       "349240        1\n",
       "Name: Ticket, Length: 681, dtype: int64"
      ]
     },
     "execution_count": 7,
     "metadata": {},
     "output_type": "execute_result"
    }
   ],
   "source": [
    "# Repeat tickets for same family\n",
    "print(len(train['Ticket'].unique()))\n",
    "train['Ticket'].value_counts()"
   ]
  },
  {
   "cell_type": "code",
   "execution_count": 8,
   "metadata": {},
   "outputs": [
    {
     "name": "stdout",
     "output_type": "stream",
     "text": [
      "148\n"
     ]
    },
    {
     "data": {
      "text/plain": [
       "array([nan, 'C85', 'C123', 'E46', 'G6', 'C103', 'D56', 'A6',\n",
       "       'C23 C25 C27', 'B78'], dtype=object)"
      ]
     },
     "execution_count": 8,
     "metadata": {},
     "output_type": "execute_result"
    }
   ],
   "source": [
    "# First letter may give an indication of survival?\n",
    "print(len(train['Cabin'].unique()))\n",
    "train['Cabin'].unique()[:10]"
   ]
  },
  {
   "cell_type": "markdown",
   "metadata": {},
   "source": [
    "### 1.2 Continuous Features\n",
    "\n",
    "Relationship between continuous features and the binary response variable"
   ]
  },
  {
   "cell_type": "code",
   "execution_count": 9,
   "metadata": {},
   "outputs": [
    {
     "data": {
      "image/png": "[encoded data removed]",
      "text/plain": [
       "<Figure size 864x432 with 2 Axes>"
      ]
     },
     "metadata": {
      "needs_background": "light"
     },
     "output_type": "display_data"
    }
   ],
   "source": [
    "fig, ax = plt.subplots(1, 2, figsize=(12, 6), sharex=False)\n",
    "sns.boxplot(x='Survived', y='Age', data=train, ax=ax[0]);\n",
    "sns.boxplot(x='Survived', y='Fare', data=train, ax=ax[1]);\n",
    "plt.tight_layout();"
   ]
  },
  {
   "cell_type": "markdown",
   "metadata": {},
   "source": [
    "1. Not much differentiation, but appears that non-survivors were slightly older\n",
    "2. A good amount of outliers, but survivors had a higher fare"
   ]
  },
  {
   "cell_type": "markdown",
   "metadata": {},
   "source": [
    "### 1.3 Name"
   ]
  },
  {
   "cell_type": "code",
   "execution_count": 10,
   "metadata": {},
   "outputs": [
    {
     "data": {
      "text/plain": [
       "array(['Braund, Mr. Owen Harris',\n",
       "       'Cumings, Mrs. John Bradley (Florence Briggs Thayer)',\n",
       "       'Heikkinen, Miss. Laina',\n",
       "       'Futrelle, Mrs. Jacques Heath (Lily May Peel)',\n",
       "       'Allen, Mr. William Henry', 'Moran, Mr. James',\n",
       "       'McCarthy, Mr. Timothy J', 'Palsson, Master. Gosta Leonard',\n",
       "       'Johnson, Mrs. Oscar W (Elisabeth Vilhelmina Berg)',\n",
       "       'Nasser, Mrs. Nicholas (Adele Achem)',\n",
       "       'Sandstrom, Miss. Marguerite Rut', 'Bonnell, Miss. Elizabeth',\n",
       "       'Saundercock, Mr. William Henry', 'Andersson, Mr. Anders Johan',\n",
       "       'Vestrom, Miss. Hulda Amanda Adolfina',\n",
       "       'Hewlett, Mrs. (Mary D Kingcome) ', 'Rice, Master. Eugene',\n",
       "       'Williams, Mr. Charles Eugene',\n",
       "       'Vander Planke, Mrs. Julius (Emelia Maria Vandemoortele)',\n",
       "       'Masselmani, Mrs. Fatima'], dtype=object)"
      ]
     },
     "execution_count": 10,
     "metadata": {},
     "output_type": "execute_result"
    }
   ],
   "source": [
    "train['Name'].unique()[:20]"
   ]
  },
  {
   "cell_type": "markdown",
   "metadata": {},
   "source": [
    "## 2. Preproccessing and Feature Engineering"
   ]
  },
  {
   "cell_type": "markdown",
   "metadata": {},
   "source": [
    "### 2.1 Replacing Missing Data"
   ]
  },
  {
   "cell_type": "code",
   "execution_count": 11,
   "metadata": {},
   "outputs": [],
   "source": [
    "def replace_age(df):\n",
    "    \"\"\"\n",
    "    Replace missing ages with the Median amongst all passengers with the same title\n",
    "    - if subdf is empty, then replace with overall Median\n",
    "    \"\"\"\n",
    "    replaced = df.copy()\n",
    "    \n",
    "    replaced['Title'] = replaced['Name'].str.split(\", \").str[1].str.split(\" \").str[0]\n",
    "    for i in np.arange(len(replaced)):\n",
    "        age = replaced.loc[i, 'Age']\n",
    "        if pd.isnull(age):\n",
    "            title = replaced.loc[i, 'Title']\n",
    "            sub_df = replaced[replaced['Title'] == title]\n",
    "            if sum(~sub_df['Age'].isna()) == 0:\n",
    "                replaced.loc[i, 'Age'] = np.nanmedian(replaced['Age'])\n",
    "            else:\n",
    "                replaced.loc[i, 'Age'] = np.nanmedian(sub_df['Age'])\n",
    "    replaced = replaced.drop(['Title'], axis=1)\n",
    "    \n",
    "    return replaced"
   ]
  },
  {
   "cell_type": "code",
   "execution_count": 12,
   "metadata": {},
   "outputs": [],
   "source": [
    "def replace_fare(df):\n",
    "    \"\"\"\n",
    "    Replace missing fare with the Median amongst all passengers from the same class\n",
    "    \"\"\"\n",
    "    replaced = df.copy()\n",
    "\n",
    "    for i in np.arange(len(replaced)):\n",
    "        fare = replaced.loc[i, 'Fare']\n",
    "        if pd.isnull(fare):\n",
    "            pclass = replaced.loc[i, 'Pclass']\n",
    "            sub_df = replaced[replaced['Pclass'] == pclass]\n",
    "            replaced.loc[i, 'Fare'] = np.nanmedian(sub_df['Fare'])\n",
    "\n",
    "    return replaced"
   ]
  },
  {
   "cell_type": "markdown",
   "metadata": {},
   "source": [
    "### 2.2 New Features\n",
    "\n",
    "- Title\n",
    "- Known vs Unknown Cabin\n",
    "- Family Size, Alone\n",
    "- Binned Age"
   ]
  },
  {
   "cell_type": "code",
   "execution_count": 13,
   "metadata": {},
   "outputs": [
    {
     "data": {
      "text/plain": [
       "Mr          517\n",
       "Miss        182\n",
       "Mrs         125\n",
       "Master       40\n",
       "Dr            7\n",
       "Rev           6\n",
       "Col           2\n",
       "Major         2\n",
       "Mlle          2\n",
       "Capt          1\n",
       "Mme           1\n",
       "Don           1\n",
       "Lady          1\n",
       "Countess      1\n",
       "Sir           1\n",
       "Jonkheer      1\n",
       "Ms            1\n",
       "Name: Name, dtype: int64"
      ]
     },
     "execution_count": 13,
     "metadata": {},
     "output_type": "execute_result"
    }
   ],
   "source": [
    "train_titles = train['Name'].str.extract(' ([A-Za-z]+)\\.', expand=False)\n",
    "train_titles.value_counts()"
   ]
  },
  {
   "cell_type": "code",
   "execution_count": 14,
   "metadata": {},
   "outputs": [],
   "source": [
    "# Noticed several titles in name column\n",
    "def ohe_names(df):\n",
    "    \"\"\"\n",
    "    Take in dataframe with Name column, extract titles as features\n",
    "    Return cleaned dataframe\n",
    "    \n",
    "    - OHE Mr., Miss., Mrs., and Master\n",
    "    - denote other titles with the title \"Rare\"\n",
    "    \"\"\"\n",
    "    cleaned = df.copy()\n",
    "    cleaned['Title'] = cleaned['Name'].str.extract(' ([A-Za-z]+)\\.', expand=False)\n",
    "    common_names = ['Mr', 'Miss', 'Mrs', 'Master']\n",
    "    cleaned['Title'] = [x if x in common_names else 'Rare' for x in cleaned['Title']]\n",
    "    \n",
    "    title_dummies = pd.get_dummies(cleaned['Title'], prefix='Title', prefix_sep='_')\n",
    "    cleaned = cleaned.join(title_dummies)    \n",
    "    \n",
    "    return cleaned"
   ]
  },
  {
   "cell_type": "code",
   "execution_count": 15,
   "metadata": {},
   "outputs": [
    {
     "data": {
      "image/png": "[encoded data removed]",
      "text/plain": [
       "<Figure size 432x288 with 1 Axes>"
      ]
     },
     "metadata": {
      "needs_background": "light"
     },
     "output_type": "display_data"
    }
   ],
   "source": [
    "# Evidence that survival probability differs with title\n",
    "train_withName = ohe_names(train)\n",
    "sns.barplot(x='Title', y='Survived', data=train_withName);"
   ]
  },
  {
   "cell_type": "code",
   "execution_count": 39,
   "metadata": {},
   "outputs": [],
   "source": [
    "# Cabin letters may be some indication, so we extract first letter\n",
    "def add_cabin(df):\n",
    "    \"\"\"\n",
    "    Add feature denoting Cabins A-G, T\n",
    "    - Use \"U\" to denote Unknown cabin\n",
    "    - binary that equals 1 if cabin is known\n",
    "    \n",
    "    Return cleaned dataframe\n",
    "    \"\"\"\n",
    "    cleaned = df.copy()   \n",
    "    cleaned['Cabin'] = cleaned['Cabin'].str[0]\n",
    "    cleaned['Cabin'] = cleaned['Cabin'].fillna(\"U\")\n",
    "    \n",
    "    cabin_dummies = pd.get_dummies(cleaned['Cabin'], prefix='Cabin', prefix_sep='_')\n",
    "    cleaned = cleaned.join(cabin_dummies) \n",
    "    \n",
    "    return cleaned"
   ]
  },
  {
   "cell_type": "code",
   "execution_count": 40,
   "metadata": {},
   "outputs": [
    {
     "data": {
      "image/png": "[encoded data removed]",
      "text/plain": [
       "<Figure size 432x288 with 1 Axes>"
      ]
     },
     "metadata": {
      "needs_background": "light"
     },
     "output_type": "display_data"
    }
   ],
   "source": [
    "# Evidence that survival probability differs with Cabin\n",
    "train_withCabin = add_cabin(train)\n",
    "sns.barplot(x='Cabin', y='Survived', data=train_withCabin);"
   ]
  },
  {
   "cell_type": "code",
   "execution_count": 18,
   "metadata": {},
   "outputs": [],
   "source": [
    "def add_alone(df):\n",
    "    \"\"\"\n",
    "    Researched that passengers who traveled alone were less likely to survive\n",
    "    Create binary variable that denotes \"Alone\"\n",
    "    \"\"\"\n",
    "    cleaned = df.copy()\n",
    "    cleaned['familySize'] = cleaned['SibSp'] + cleaned['Parch']\n",
    "    # Alone Column - no sibsp and no parch\n",
    "    cleaned['Alone'] = [1 if x == 0 else 0 for x in cleaned['familySize']]\n",
    "    \n",
    "    return cleaned"
   ]
  },
  {
   "cell_type": "code",
   "execution_count": 19,
   "metadata": {},
   "outputs": [
    {
     "data": {
      "image/png": "[encoded data removed]",
      "text/plain": [
       "<Figure size 432x288 with 1 Axes>"
      ]
     },
     "metadata": {
      "needs_background": "light"
     },
     "output_type": "display_data"
    }
   ],
   "source": [
    "# Evidence that survival probability differs by Alone\n",
    "train_withAlone = add_alone(train)\n",
    "sns.barplot(x='Alone', y='Survived', data=train_withAlone);"
   ]
  },
  {
   "cell_type": "code",
   "execution_count": 20,
   "metadata": {},
   "outputs": [],
   "source": [
    "def age_groups(df):\n",
    "    \"\"\"\n",
    "    Bin passengers into different age groups \n",
    "    \"\"\"\n",
    "    cleaned = df.copy()\n",
    "    \n",
    "    cleaned['Age'] = cleaned['Age'].astype(int)\n",
    "    cleaned.loc[ cleaned['Age'] <= 11, 'Age'] = 0\n",
    "    cleaned.loc[(cleaned['Age'] > 11) & (cleaned['Age'] <= 18), 'Age'] = 1\n",
    "    cleaned.loc[(cleaned['Age'] > 18) & (cleaned['Age'] <= 23), 'Age'] = 2\n",
    "    cleaned.loc[(cleaned['Age'] > 23) & (cleaned['Age'] <= 28), 'Age'] = 3\n",
    "    cleaned.loc[(cleaned['Age'] > 28) & (cleaned['Age'] <= 33), 'Age'] = 4\n",
    "    cleaned.loc[(cleaned['Age'] > 33) & (cleaned['Age'] <= 40), 'Age'] = 5\n",
    "    cleaned.loc[(cleaned['Age'] > 40) & (cleaned['Age'] <= 66), 'Age'] = 6\n",
    "    cleaned.loc[ cleaned['Age'] > 66, 'Age'] = 7\n",
    "    \n",
    "    cleaned['Age'] = cleaned['Age'].astype(str)\n",
    "    cleaned.loc[ cleaned['Age'] == '0', 'Age'] = \"Children\"\n",
    "    cleaned.loc[ cleaned['Age'] == '1', 'Age'] = \"Adolescents\"\n",
    "    cleaned.loc[ cleaned['Age'] == '2', 'Age'] = \"Young Adults\"\n",
    "    cleaned.loc[ cleaned['Age'] == '3', 'Age'] = \"Adults\"\n",
    "    cleaned.loc[ cleaned['Age'] == '4', 'Age'] = \"Middle Age\"\n",
    "    cleaned.loc[ cleaned['Age'] == '5', 'Age'] = \"Older Adults\"\n",
    "    cleaned.loc[ cleaned['Age'] == '6', 'Age'] = \"Senior\"\n",
    "    cleaned.loc[ cleaned['Age'] == '7', 'Age'] = \"Elderly\"\n",
    "    \n",
    "    age_dummies = pd.get_dummies(cleaned['Age'], prefix='Age', prefix_sep='_')\n",
    "    cleaned = cleaned.join(age_dummies)  \n",
    "    \n",
    "    return cleaned"
   ]
  },
  {
   "cell_type": "code",
   "execution_count": 21,
   "metadata": {},
   "outputs": [
    {
     "data": {
      "image/png": "[encoded data removed]",
      "text/plain": [
       "<Figure size 864x360 with 1 Axes>"
      ]
     },
     "metadata": {
      "needs_background": "light"
     },
     "output_type": "display_data"
    }
   ],
   "source": [
    "# Evidence that survival probability differs by Age group\n",
    "train_withAge = replace_age(train)\n",
    "train_withAge = age_groups(train_withAge)\n",
    "fig, ax = plt.subplots(figsize=(12, 5))\n",
    "sns.barplot(x='Age', y='Survived', data=train_withAge, ax=ax);\n",
    "fig.tight_layout()"
   ]
  },
  {
   "cell_type": "markdown",
   "metadata": {},
   "source": [
    "### 2.3 Interactions"
   ]
  },
  {
   "cell_type": "code",
   "execution_count": 41,
   "metadata": {},
   "outputs": [
    {
     "data": {
      "image/png": "[encoded data removed]",
      "text/plain": [
       "<Figure size 864x288 with 2 Axes>"
      ]
     },
     "metadata": {
      "needs_background": "light"
     },
     "output_type": "display_data"
    }
   ],
   "source": [
    "# Create intermediate dataframe to look at interaction with Alone\n",
    "train_with_alone = add_alone(train)\n",
    "\n",
    "fig, ax = plt.subplots(1, 2, figsize=(12, 4), sharex=False)\n",
    "sns.barplot(x='Pclass', y='Survived', hue='Embarked', data=train_with_alone, ax=ax[0]);\n",
    "sns.barplot(x='Sex', y='Survived', hue='Alone', data=train_with_alone, ax=ax[1]);\n",
    "fig.tight_layout()"
   ]
  },
  {
   "cell_type": "markdown",
   "metadata": {},
   "source": [
    "1. Survival proportion varies by class and embarkation\n",
    "2. Males who were alone much less likely to survive compared to females who were alone."
   ]
  },
  {
   "cell_type": "code",
   "execution_count": 42,
   "metadata": {},
   "outputs": [],
   "source": [
    "def sex_alone_interaction(df):\n",
    "    \"\"\"\n",
    "    Add interaction between sex and alone variables\n",
    "    - Handles OHE of Sex\n",
    "    \"\"\"\n",
    "    cleaned = df.copy()\n",
    "    \n",
    "    sex_dummies = pd.get_dummies(cleaned['Sex'], prefix='Sex', prefix_sep='_')\n",
    "    cleaned = cleaned.join(sex_dummies)\n",
    "    cleaned = cleaned.drop(['Sex'], axis=1)\n",
    "    cleaned['male:Alone'] = cleaned['Sex_male'] * cleaned['Alone']\n",
    "    \n",
    "    return cleaned"
   ]
  },
  {
   "cell_type": "code",
   "execution_count": 63,
   "metadata": {},
   "outputs": [],
   "source": [
    "def add_pclass_embarked(df):\n",
    "    \"\"\"\n",
    "    Add interaction between Pclass and Embarked variables\n",
    "    - Handles OHE of Pclass, Embarked\n",
    "    \"\"\"\n",
    "    df['Pclass'] = df['Pclass'].astype(str)\n",
    "    cleaned = df.copy()\n",
    "    \n",
    "    # Embarked:Pclass\n",
    "    for pclass in df['Pclass'].unique():\n",
    "         for embark in df['Embarked'].unique():\n",
    "            embark_colName = 'Embarked_' + embark\n",
    "            pclass_colName = 'Pclass_' + pclass\n",
    "            new_colName = embark_colName + ':' + pclass_colName\n",
    "            cleaned[new_colName] = cleaned[pclass_colName] * cleaned[embark_colName]    \n",
    "    \n",
    "    return cleaned"
   ]
  },
  {
   "cell_type": "markdown",
   "metadata": {},
   "source": [
    "### 2.3 Preprocessing"
   ]
  },
  {
   "cell_type": "code",
   "execution_count": 132,
   "metadata": {},
   "outputs": [],
   "source": [
    "def preProcess(train, test):\n",
    "    \"\"\"\n",
    "    Preprocess Raw Dataframe into design matrix (w/ response column)\n",
    "    - pass in train and test as joint dataframe to scale across all passengers\n",
    "    \"\"\"\n",
    "    y_train = train['Survived']\n",
    "    train = train.drop(['Survived'], axis=1)\n",
    "    train_ids = train['PassengerId']\n",
    "    \n",
    "    processed = pd.concat([train, test])\n",
    "    processed = processed.reset_index()\n",
    "    processed = processed.drop(['index'], axis=1)\n",
    "\n",
    "    processed = replace_age(processed)\n",
    "    processed = replace_fare(processed)\n",
    "    # Fill embarked with majority class (only two NA)\n",
    "    processed['Embarked'] = processed['Embarked'].fillna('S')\n",
    "    \n",
    "    # New Features\n",
    "    processed = ohe_names(processed)\n",
    "    processed = add_cabin(processed)\n",
    "    processed = add_alone(processed)\n",
    "    processed = age_groups(processed)\n",
    "    \n",
    "    # OHE\n",
    "    features = ['Pclass', 'Embarked']\n",
    "    for feature in features:\n",
    "        dummies = pd.get_dummies(processed[feature], prefix=feature, prefix_sep='_')\n",
    "        processed = processed.join(dummies)\n",
    "        \n",
    "    # Interactions - OHE of Sex, Pclass, Embark    \n",
    "    processed = sex_alone_interaction(processed)\n",
    "    processed = add_pclass_embarked(processed)\n",
    "    \n",
    "    # Scale Fare by family size to get cost per ticket\n",
    "    processed['Fare_per_person'] = processed['Fare'] / (processed['familySize'] + 1)\n",
    "    \n",
    "    # Drop Unecessary columns\n",
    "    # Drop Ticket to avoid overfitting\n",
    "    # Drop familysize since it is linear combination of SibSp, Parch\n",
    "    processed = processed.drop(['Ticket', 'Name', 'Age', 'Title', 'familySize', \n",
    "                                'Cabin', 'Pclass', 'Embarked'], axis=1)\n",
    "        \n",
    "    # Standardize Continuous Features\n",
    "    standard_scaler = StandardScaler()\n",
    "    numerical_features = ['SibSp', 'Parch', 'Fare', 'Fare_per_person']\n",
    "    processed[numerical_features] = standard_scaler.fit_transform(\n",
    "                                            processed[numerical_features])\n",
    "    \n",
    "    \n",
    "    \"\"\"\n",
    "    Separate back into train and test\n",
    "    \"\"\"\n",
    "    train_df = processed[processed['PassengerId'].isin(train_ids)]\n",
    "    train_df = train_df.drop(['PassengerId'], axis=1)\n",
    "    train_df['Survived'] = y_train\n",
    "    \n",
    "    test_df = processed[~processed['PassengerId'].isin(train_ids)]\n",
    "    test_df = test_df.drop(['PassengerId'], axis=1)\n",
    "    \n",
    "    return train_df, test_df"
   ]
  },
  {
   "cell_type": "code",
   "execution_count": 133,
   "metadata": {
    "scrolled": false
   },
   "outputs": [
    {
     "data": {
      "text/html": [
       "<div>\n",
       "<style scoped>\n",
       "    .dataframe tbody tr th:only-of-type {\n",
       "        vertical-align: middle;\n",
       "    }\n",
       "\n",
       "    .dataframe tbody tr th {\n",
       "        vertical-align: top;\n",
       "    }\n",
       "\n",
       "    .dataframe thead th {\n",
       "        text-align: right;\n",
       "    }\n",
       "</style>\n",
       "<table border=\"1\" class=\"dataframe\">\n",
       "  <thead>\n",
       "    <tr style=\"text-align: right;\">\n",
       "      <th></th>\n",
       "      <th>SibSp</th>\n",
       "      <th>Parch</th>\n",
       "      <th>Fare</th>\n",
       "      <th>Title_Master</th>\n",
       "      <th>Title_Miss</th>\n",
       "      <th>Title_Mr</th>\n",
       "      <th>Title_Mrs</th>\n",
       "      <th>Title_Rare</th>\n",
       "      <th>Cabin_A</th>\n",
       "      <th>Cabin_B</th>\n",
       "      <th>...</th>\n",
       "      <th>Embarked_C:Pclass_3</th>\n",
       "      <th>Embarked_Q:Pclass_3</th>\n",
       "      <th>Embarked_S:Pclass_1</th>\n",
       "      <th>Embarked_C:Pclass_1</th>\n",
       "      <th>Embarked_Q:Pclass_1</th>\n",
       "      <th>Embarked_S:Pclass_2</th>\n",
       "      <th>Embarked_C:Pclass_2</th>\n",
       "      <th>Embarked_Q:Pclass_2</th>\n",
       "      <th>Fare_per_person</th>\n",
       "      <th>Survived</th>\n",
       "    </tr>\n",
       "  </thead>\n",
       "  <tbody>\n",
       "    <tr>\n",
       "      <th>0</th>\n",
       "      <td>0.481288</td>\n",
       "      <td>-0.445</td>\n",
       "      <td>-0.503176</td>\n",
       "      <td>0</td>\n",
       "      <td>0</td>\n",
       "      <td>1</td>\n",
       "      <td>0</td>\n",
       "      <td>0</td>\n",
       "      <td>0</td>\n",
       "      <td>0</td>\n",
       "      <td>...</td>\n",
       "      <td>0</td>\n",
       "      <td>0</td>\n",
       "      <td>0</td>\n",
       "      <td>0</td>\n",
       "      <td>0</td>\n",
       "      <td>0</td>\n",
       "      <td>0</td>\n",
       "      <td>0</td>\n",
       "      <td>-0.472289</td>\n",
       "      <td>0</td>\n",
       "    </tr>\n",
       "    <tr>\n",
       "      <th>1</th>\n",
       "      <td>0.481288</td>\n",
       "      <td>-0.445</td>\n",
       "      <td>0.734809</td>\n",
       "      <td>0</td>\n",
       "      <td>0</td>\n",
       "      <td>0</td>\n",
       "      <td>1</td>\n",
       "      <td>0</td>\n",
       "      <td>0</td>\n",
       "      <td>0</td>\n",
       "      <td>...</td>\n",
       "      <td>0</td>\n",
       "      <td>0</td>\n",
       "      <td>0</td>\n",
       "      <td>1</td>\n",
       "      <td>0</td>\n",
       "      <td>0</td>\n",
       "      <td>0</td>\n",
       "      <td>0</td>\n",
       "      <td>0.423315</td>\n",
       "      <td>1</td>\n",
       "    </tr>\n",
       "    <tr>\n",
       "      <th>2</th>\n",
       "      <td>-0.479087</td>\n",
       "      <td>-0.445</td>\n",
       "      <td>-0.490126</td>\n",
       "      <td>0</td>\n",
       "      <td>1</td>\n",
       "      <td>0</td>\n",
       "      <td>0</td>\n",
       "      <td>0</td>\n",
       "      <td>0</td>\n",
       "      <td>0</td>\n",
       "      <td>...</td>\n",
       "      <td>0</td>\n",
       "      <td>0</td>\n",
       "      <td>0</td>\n",
       "      <td>0</td>\n",
       "      <td>0</td>\n",
       "      <td>0</td>\n",
       "      <td>0</td>\n",
       "      <td>0</td>\n",
       "      <td>-0.352005</td>\n",
       "      <td>1</td>\n",
       "    </tr>\n",
       "    <tr>\n",
       "      <th>3</th>\n",
       "      <td>0.481288</td>\n",
       "      <td>-0.445</td>\n",
       "      <td>0.383263</td>\n",
       "      <td>0</td>\n",
       "      <td>0</td>\n",
       "      <td>0</td>\n",
       "      <td>1</td>\n",
       "      <td>0</td>\n",
       "      <td>0</td>\n",
       "      <td>0</td>\n",
       "      <td>...</td>\n",
       "      <td>0</td>\n",
       "      <td>0</td>\n",
       "      <td>1</td>\n",
       "      <td>0</td>\n",
       "      <td>0</td>\n",
       "      <td>0</td>\n",
       "      <td>0</td>\n",
       "      <td>0</td>\n",
       "      <td>0.168994</td>\n",
       "      <td>1</td>\n",
       "    </tr>\n",
       "    <tr>\n",
       "      <th>4</th>\n",
       "      <td>-0.479087</td>\n",
       "      <td>-0.445</td>\n",
       "      <td>-0.487709</td>\n",
       "      <td>0</td>\n",
       "      <td>0</td>\n",
       "      <td>1</td>\n",
       "      <td>0</td>\n",
       "      <td>0</td>\n",
       "      <td>0</td>\n",
       "      <td>0</td>\n",
       "      <td>...</td>\n",
       "      <td>0</td>\n",
       "      <td>0</td>\n",
       "      <td>0</td>\n",
       "      <td>0</td>\n",
       "      <td>0</td>\n",
       "      <td>0</td>\n",
       "      <td>0</td>\n",
       "      <td>0</td>\n",
       "      <td>-0.348508</td>\n",
       "      <td>0</td>\n",
       "    </tr>\n",
       "  </tbody>\n",
       "</table>\n",
       "<p>5 rows × 46 columns</p>\n",
       "</div>"
      ],
      "text/plain": [
       "      SibSp  Parch      Fare  Title_Master  Title_Miss  Title_Mr  Title_Mrs  \\\n",
       "0  0.481288 -0.445 -0.503176             0           0         1          0   \n",
       "1  0.481288 -0.445  0.734809             0           0         0          1   \n",
       "2 -0.479087 -0.445 -0.490126             0           1         0          0   \n",
       "3  0.481288 -0.445  0.383263             0           0         0          1   \n",
       "4 -0.479087 -0.445 -0.487709             0           0         1          0   \n",
       "\n",
       "   Title_Rare  Cabin_A  Cabin_B  ...  Embarked_C:Pclass_3  \\\n",
       "0           0        0        0  ...                    0   \n",
       "1           0        0        0  ...                    0   \n",
       "2           0        0        0  ...                    0   \n",
       "3           0        0        0  ...                    0   \n",
       "4           0        0        0  ...                    0   \n",
       "\n",
       "   Embarked_Q:Pclass_3  Embarked_S:Pclass_1  Embarked_C:Pclass_1  \\\n",
       "0                    0                    0                    0   \n",
       "1                    0                    0                    1   \n",
       "2                    0                    0                    0   \n",
       "3                    0                    1                    0   \n",
       "4                    0                    0                    0   \n",
       "\n",
       "   Embarked_Q:Pclass_1  Embarked_S:Pclass_2  Embarked_C:Pclass_2  \\\n",
       "0                    0                    0                    0   \n",
       "1                    0                    0                    0   \n",
       "2                    0                    0                    0   \n",
       "3                    0                    0                    0   \n",
       "4                    0                    0                    0   \n",
       "\n",
       "   Embarked_Q:Pclass_2  Fare_per_person  Survived  \n",
       "0                    0        -0.472289         0  \n",
       "1                    0         0.423315         1  \n",
       "2                    0        -0.352005         1  \n",
       "3                    0         0.168994         1  \n",
       "4                    0        -0.348508         0  \n",
       "\n",
       "[5 rows x 46 columns]"
      ]
     },
     "execution_count": 133,
     "metadata": {},
     "output_type": "execute_result"
    }
   ],
   "source": [
    "trainClean, testClean = preProcess(train, test)\n",
    "trainClean.head()"
   ]
  },
  {
   "cell_type": "code",
   "execution_count": 134,
   "metadata": {
    "scrolled": true
   },
   "outputs": [
    {
     "name": "stdout",
     "output_type": "stream",
     "text": [
      "Features: ['SibSp' 'Parch' 'Fare' 'Title_Master' 'Title_Miss' 'Title_Mr' 'Title_Mrs'\n",
      " 'Title_Rare' 'Cabin_A' 'Cabin_B' 'Cabin_C' 'Cabin_D' 'Cabin_E' 'Cabin_F'\n",
      " 'Cabin_G' 'Cabin_T' 'Cabin_U' 'Alone' 'Age_Adolescents' 'Age_Adults'\n",
      " 'Age_Children' 'Age_Elderly' 'Age_Middle Age' 'Age_Older Adults'\n",
      " 'Age_Senior' 'Age_Young Adults' 'Pclass_1' 'Pclass_2' 'Pclass_3'\n",
      " 'Embarked_C' 'Embarked_Q' 'Embarked_S' 'Sex_female' 'Sex_male'\n",
      " 'male:Alone' 'Embarked_S:Pclass_3' 'Embarked_C:Pclass_3'\n",
      " 'Embarked_Q:Pclass_3' 'Embarked_S:Pclass_1' 'Embarked_C:Pclass_1'\n",
      " 'Embarked_Q:Pclass_1' 'Embarked_S:Pclass_2' 'Embarked_C:Pclass_2'\n",
      " 'Embarked_Q:Pclass_2' 'Fare_per_person' 'Survived']\n"
     ]
    }
   ],
   "source": [
    "print(f'Features: {trainClean.columns.values}')"
   ]
  },
  {
   "cell_type": "markdown",
   "metadata": {},
   "source": [
    "## 3. Modeling\n",
    "\n",
    "Because the training data contains only 891 rows, I decided to avoid more complex models, such as neural networks. Without extensive tuning, they would be very prone to overfitting on a small dataset. Simpler models, such as Logistic Regression, Random Forest, and K Nearest Neighbor models can be more easily optimized, and are less prone to overfitting."
   ]
  },
  {
   "cell_type": "code",
   "execution_count": 103,
   "metadata": {},
   "outputs": [],
   "source": [
    "Y_train = trainClean['Survived']\n",
    "X_train = trainClean.drop(['Survived'], axis=1)"
   ]
  },
  {
   "cell_type": "code",
   "execution_count": 104,
   "metadata": {},
   "outputs": [],
   "source": [
    "def cross_val_acc(model, X_train, Y_train, k):\n",
    "    '''\n",
    "    Compute k-fold Cross Validation accuracy\n",
    "\n",
    "    Inputs:\n",
    "        model: an sklearn model with fit and predict functions \n",
    "        X_train: Design Matrix\n",
    "        Y_train: Response Vector\n",
    "    Outputs:\n",
    "        the average validation MSE for the k splits.\n",
    "    '''\n",
    "    kf = KFold(n_splits=k, shuffle=True, random_state=0)\n",
    "    validation_accuracies = []\n",
    "    \n",
    "    for train_idx, valid_idx in kf.split(X_train):\n",
    "        # split data\n",
    "        split_X_train, split_X_valid = X_train.iloc[train_idx], X_train.iloc[valid_idx]\n",
    "        split_Y_train, split_Y_valid = Y_train.iloc[train_idx], Y_train.iloc[valid_idx]\n",
    "\n",
    "        # Fit model\n",
    "        model.fit(split_X_train, split_Y_train)\n",
    "        \n",
    "        # Compute Accuracy on the validation split\n",
    "        acc = model.score(split_X_valid, split_Y_valid)\n",
    "        validation_accuracies.append(acc)\n",
    "        \n",
    "    return np.mean(validation_accuracies)"
   ]
  },
  {
   "cell_type": "code",
   "execution_count": 105,
   "metadata": {},
   "outputs": [],
   "source": [
    "# Initialize\n",
    "K = 5\n",
    "RANDOM_STATE = 42"
   ]
  },
  {
   "cell_type": "markdown",
   "metadata": {},
   "source": [
    "### 3.1 Logistic Regression\n",
    "\n",
    "Investigate Baseline Model without Tuning"
   ]
  },
  {
   "cell_type": "code",
   "execution_count": 106,
   "metadata": {
    "scrolled": true
   },
   "outputs": [
    {
     "name": "stdout",
     "output_type": "stream",
     "text": [
      "Logistic Regression 5 Fold CV Accuracy = 0.8226727763480006\n",
      "Logistic Regression Training Accuracy = 0.8406285072951739\n"
     ]
    }
   ],
   "source": [
    "logreg = LogisticRegression(random_state=RANDOM_STATE)\n",
    "\n",
    "cv_acc = cross_val_acc(logreg, X_train, Y_train, K)\n",
    "print(f'Logistic Regression {K} Fold CV Accuracy = {cv_acc}')\n",
    "\n",
    "logreg.fit(X_train, Y_train)\n",
    "print(f'Logistic Regression Training Accuracy = {logreg.score(X_train, Y_train)}')"
   ]
  },
  {
   "cell_type": "markdown",
   "metadata": {},
   "source": [
    "### 3.2 Random Forest"
   ]
  },
  {
   "cell_type": "code",
   "execution_count": 107,
   "metadata": {},
   "outputs": [
    {
     "name": "stdout",
     "output_type": "stream",
     "text": [
      "Random Forest 5 Fold CV Accuracy = 0.801324461741259\n",
      "Random Forest Training Accuracy = 0.9618406285072951\n"
     ]
    }
   ],
   "source": [
    "rf = RandomForestClassifier(random_state=RANDOM_STATE)\n",
    "\n",
    "cv_acc = cross_val_acc(rf, X_train, Y_train, K)\n",
    "print(f'Random Forest {K} Fold CV Accuracy = {cv_acc}')\n",
    "\n",
    "rf.fit(X_train, Y_train)\n",
    "print(f'Random Forest Training Accuracy = {rf.score(X_train, Y_train)}')"
   ]
  },
  {
   "cell_type": "markdown",
   "metadata": {},
   "source": [
    "### 3.3 K Nearest Neighbors"
   ]
  },
  {
   "cell_type": "code",
   "execution_count": 108,
   "metadata": {},
   "outputs": [
    {
     "name": "stdout",
     "output_type": "stream",
     "text": [
      "K-Nearest Neighbors 5 Fold CV Accuracy = 0.7979536752244053\n",
      "K-Nearest Neighbors Training Accuracy = 0.8540965207631874\n"
     ]
    }
   ],
   "source": [
    "knn = KNeighborsClassifier(n_neighbors=5)\n",
    "cv_acc = cross_val_acc(knn, X_train, Y_train, K)\n",
    "print(f'K-Nearest Neighbors {K} Fold CV Accuracy = {cv_acc}')\n",
    "\n",
    "knn.fit(X_train, Y_train)\n",
    "print(f'K-Nearest Neighbors Training Accuracy = {knn.score(X_train, Y_train)}')"
   ]
  },
  {
   "cell_type": "markdown",
   "metadata": {},
   "source": [
    "### 3.4 Support Vector Classifier"
   ]
  },
  {
   "cell_type": "code",
   "execution_count": 109,
   "metadata": {},
   "outputs": [
    {
     "name": "stdout",
     "output_type": "stream",
     "text": [
      "Support Vector Classifier 5 Fold CV Accuracy = 0.8226727763480006\n",
      "Support Vector Classifier Training Accuracy = 0.8417508417508418\n"
     ]
    }
   ],
   "source": [
    "svc = SVC(random_state=RANDOM_STATE)\n",
    "\n",
    "cv_acc = cross_val_acc(svc, X_train, Y_train, K)\n",
    "print(f'Support Vector Classifier {K} Fold CV Accuracy = {cv_acc}')\n",
    "\n",
    "svc.fit(X_train, Y_train)\n",
    "print(f'Support Vector Classifier Training Accuracy = {svc.score(X_train, Y_train)}')"
   ]
  },
  {
   "cell_type": "markdown",
   "metadata": {},
   "source": [
    "### 3.5 Naive Bayes"
   ]
  },
  {
   "cell_type": "code",
   "execution_count": 110,
   "metadata": {},
   "outputs": [
    {
     "name": "stdout",
     "output_type": "stream",
     "text": [
      "Naive Bayes 5 Fold CV Accuracy = 0.7486786767936727\n",
      "Naive Bayes Training Accuracy = 0.7598204264870931\n"
     ]
    }
   ],
   "source": [
    "gnb = GaussianNB()\n",
    "cv_acc = cross_val_acc(gnb, X_train, Y_train, K)\n",
    "print(f'Naive Bayes {K} Fold CV Accuracy = {cv_acc}')\n",
    "\n",
    "gnb.fit(X_train, Y_train)\n",
    "print(f'Naive Bayes Training Accuracy = {gnb.score(X_train, Y_train)}')"
   ]
  },
  {
   "cell_type": "markdown",
   "metadata": {},
   "source": [
    "### 3.6 Hyperparameter Tuning"
   ]
  },
  {
   "cell_type": "markdown",
   "metadata": {},
   "source": [
    "There is overfitting in all cases with the baseline models, so we will perform hyperparameter tuning"
   ]
  },
  {
   "cell_type": "code",
   "execution_count": 111,
   "metadata": {},
   "outputs": [],
   "source": [
    "def gridSearch(pipe, param_grid, X_train, Y_train, K):\n",
    "    \"\"\"\n",
    "    Returns best hyperparameters for a particular model based on training data\n",
    "    \"\"\"\n",
    "    # Create grid search object\n",
    "    clf = GridSearchCV(pipe, param_grid=param_grid, cv=K, \n",
    "                       scoring='accuracy', verbose=True, n_jobs=-1)\n",
    "    # Fit on data\n",
    "    best_model = clf.fit(X_train, Y_train)\n",
    "    \n",
    "    return best_model"
   ]
  },
  {
   "cell_type": "code",
   "execution_count": 112,
   "metadata": {
    "scrolled": false
   },
   "outputs": [
    {
     "name": "stdout",
     "output_type": "stream",
     "text": [
      "Fitting 5 folds for each of 60 candidates, totalling 300 fits\n"
     ]
    },
    {
     "name": "stderr",
     "output_type": "stream",
     "text": [
      "[Parallel(n_jobs=-1)]: Using backend LokyBackend with 4 concurrent workers.\n",
      "[Parallel(n_jobs=-1)]: Done  48 tasks      | elapsed:    3.2s\n",
      "[Parallel(n_jobs=-1)]: Done 300 out of 300 | elapsed:   31.3s finished\n"
     ]
    }
   ],
   "source": [
    "# Find Best Logistic Regression\n",
    "pipe = Pipeline([('classifier' , LogisticRegression(random_state=RANDOM_STATE, \n",
    "                                                    max_iter=1000))])\n",
    "\n",
    "# Create param grid.\n",
    "param_grid = [\n",
    "    {'classifier' : [LogisticRegression(random_state=RANDOM_STATE, max_iter=1000)],\n",
    "     'classifier__penalty' : ['l1', 'l2', 'elasticnet'],\n",
    "    'classifier__C' : np.logspace(-4, 4, 20),\n",
    "    'classifier__solver' : ['saga']}\n",
    "]\n",
    "\n",
    "# Fit on data\n",
    "best_logreg = gridSearch(pipe, param_grid, X_train, Y_train, K)"
   ]
  },
  {
   "cell_type": "code",
   "execution_count": 113,
   "metadata": {},
   "outputs": [
    {
     "data": {
      "text/plain": [
       "LogisticRegression(C=1.623776739188721, class_weight=None, dual=False,\n",
       "                   fit_intercept=True, intercept_scaling=1, l1_ratio=None,\n",
       "                   max_iter=1000, multi_class='auto', n_jobs=None, penalty='l1',\n",
       "                   random_state=42, solver='saga', tol=0.0001, verbose=0,\n",
       "                   warm_start=False)"
      ]
     },
     "execution_count": 113,
     "metadata": {},
     "output_type": "execute_result"
    }
   ],
   "source": [
    "best_logreg.best_estimator_.get_params()['classifier']"
   ]
  },
  {
   "cell_type": "code",
   "execution_count": 114,
   "metadata": {},
   "outputs": [],
   "source": [
    "def display_results(model, name):\n",
    "    \"\"\"\n",
    "    Show confusion matrix for tuned model\n",
    "    \"\"\"\n",
    "    # Confusion Matrix for Logistic Regression on Training Data\n",
    "    print(f'Best {name} Accuracy = ', model.best_score_)\n",
    "    ## Have more False Positives that False Negatives\n",
    "    y_pred = best_logreg.predict(X_train)\n",
    "    sns.heatmap(confusion_matrix(Y_train, y_pred), annot=True);\n",
    "    plt.ylabel('Predicted');\n",
    "    plt.xlabel('Actual');\n",
    "    plt.title(f'{name} Confusion Matrix on Training Data')"
   ]
  },
  {
   "cell_type": "code",
   "execution_count": 115,
   "metadata": {},
   "outputs": [
    {
     "name": "stdout",
     "output_type": "stream",
     "text": [
      "Best Logistic Regression Accuracy =  0.8271671583704727\n"
     ]
    },
    {
     "data": {
      "image/png": "[encoded data removed]",
      "text/plain": [
       "<Figure size 432x288 with 2 Axes>"
      ]
     },
     "metadata": {
      "needs_background": "light"
     },
     "output_type": "display_data"
    }
   ],
   "source": [
    "display_results(best_logreg, \"Logistic Regression\")"
   ]
  },
  {
   "cell_type": "code",
   "execution_count": 117,
   "metadata": {},
   "outputs": [
    {
     "name": "stdout",
     "output_type": "stream",
     "text": [
      "Fitting 5 folds for each of 1404 candidates, totalling 7020 fits\n"
     ]
    },
    {
     "name": "stderr",
     "output_type": "stream",
     "text": [
      "[Parallel(n_jobs=-1)]: Using backend LokyBackend with 4 concurrent workers.\n",
      "[Parallel(n_jobs=-1)]: Done  42 tasks      | elapsed:    4.3s\n",
      "[Parallel(n_jobs=-1)]: Done 192 tasks      | elapsed:   17.1s\n",
      "[Parallel(n_jobs=-1)]: Done 442 tasks      | elapsed:   36.7s\n",
      "[Parallel(n_jobs=-1)]: Done 792 tasks      | elapsed:  1.1min\n",
      "[Parallel(n_jobs=-1)]: Done 1242 tasks      | elapsed:  1.8min\n",
      "[Parallel(n_jobs=-1)]: Done 1792 tasks      | elapsed:  2.4min\n",
      "[Parallel(n_jobs=-1)]: Done 2442 tasks      | elapsed:  3.3min\n",
      "[Parallel(n_jobs=-1)]: Done 3192 tasks      | elapsed:  4.3min\n",
      "[Parallel(n_jobs=-1)]: Done 4042 tasks      | elapsed:  5.6min\n",
      "[Parallel(n_jobs=-1)]: Done 4992 tasks      | elapsed:  7.0min\n",
      "[Parallel(n_jobs=-1)]: Done 6042 tasks      | elapsed:  8.6min\n",
      "[Parallel(n_jobs=-1)]: Done 7020 out of 7020 | elapsed: 10.4min finished\n"
     ]
    }
   ],
   "source": [
    "# Find Best Random Forest\n",
    "pipe = Pipeline([('classifier' , RandomForestClassifier(random_state=RANDOM_STATE))])\n",
    "\n",
    "# Create param grid.\n",
    "param_grid = [\n",
    "    {'classifier' : [RandomForestClassifier(random_state=RANDOM_STATE)],\n",
    "    'classifier__n_estimators' : np.arange(40, 101, 5),\n",
    "    'classifier__max_features' : ['sqrt', 'log2', None],\n",
    "    'classifier__max_depth' : np.arange(5, 11),\n",
    "    'classifier__min_samples_leaf' : np.arange(1, 4),\n",
    "    'classifier__oob_score' : [False, True]}\n",
    "]\n",
    "\n",
    "# Fit on data\n",
    "best_rf = gridSearch(pipe, param_grid, X_train, Y_train, K)"
   ]
  },
  {
   "cell_type": "code",
   "execution_count": 118,
   "metadata": {},
   "outputs": [
    {
     "data": {
      "text/plain": [
       "RandomForestClassifier(bootstrap=True, ccp_alpha=0.0, class_weight=None,\n",
       "                       criterion='gini', max_depth=10, max_features=None,\n",
       "                       max_leaf_nodes=None, max_samples=None,\n",
       "                       min_impurity_decrease=0.0, min_impurity_split=None,\n",
       "                       min_samples_leaf=3, min_samples_split=2,\n",
       "                       min_weight_fraction_leaf=0.0, n_estimators=100,\n",
       "                       n_jobs=None, oob_score=False, random_state=42, verbose=0,\n",
       "                       warm_start=False)"
      ]
     },
     "execution_count": 118,
     "metadata": {},
     "output_type": "execute_result"
    }
   ],
   "source": [
    "best_rf.best_estimator_.get_params()['classifier']"
   ]
  },
  {
   "cell_type": "code",
   "execution_count": 119,
   "metadata": {},
   "outputs": [
    {
     "name": "stdout",
     "output_type": "stream",
     "text": [
      "Best Random Forest Accuracy =  0.8372606867114432\n"
     ]
    },
    {
     "data": {
      "image/png": "[encoded data removed]",
      "text/plain": [
       "<Figure size 432x288 with 2 Axes>"
      ]
     },
     "metadata": {
      "needs_background": "light"
     },
     "output_type": "display_data"
    }
   ],
   "source": [
    "display_results(best_rf, \"Random Forest\")"
   ]
  },
  {
   "cell_type": "code",
   "execution_count": 120,
   "metadata": {},
   "outputs": [
    {
     "name": "stdout",
     "output_type": "stream",
     "text": [
      "Fitting 5 folds for each of 48 candidates, totalling 240 fits\n"
     ]
    },
    {
     "name": "stderr",
     "output_type": "stream",
     "text": [
      "[Parallel(n_jobs=-1)]: Using backend LokyBackend with 4 concurrent workers.\n",
      "[Parallel(n_jobs=-1)]: Done 193 tasks      | elapsed:    1.6s\n",
      "[Parallel(n_jobs=-1)]: Done 240 out of 240 | elapsed:    2.0s finished\n"
     ]
    }
   ],
   "source": [
    "# Find Best KNN\n",
    "pipe = Pipeline([('classifier' , KNeighborsClassifier())])\n",
    "\n",
    "# Create param grid.\n",
    "param_grid = [\n",
    "    {'classifier' : [KNeighborsClassifier()],\n",
    "    'classifier__n_neighbors' : np.arange(3, 50, 2),\n",
    "    'classifier__weights' : ['uniform', 'distance']}\n",
    "]\n",
    "\n",
    "# Fit on data\n",
    "best_knn = gridSearch(pipe, param_grid, X_train, Y_train, K)"
   ]
  },
  {
   "cell_type": "code",
   "execution_count": 121,
   "metadata": {},
   "outputs": [
    {
     "data": {
      "text/plain": [
       "KNeighborsClassifier(algorithm='auto', leaf_size=30, metric='minkowski',\n",
       "                     metric_params=None, n_jobs=None, n_neighbors=15, p=2,\n",
       "                     weights='uniform')"
      ]
     },
     "execution_count": 121,
     "metadata": {},
     "output_type": "execute_result"
    }
   ],
   "source": [
    "best_knn.best_estimator_.get_params()['classifier']"
   ]
  },
  {
   "cell_type": "code",
   "execution_count": 122,
   "metadata": {},
   "outputs": [
    {
     "name": "stdout",
     "output_type": "stream",
     "text": [
      "Best K Nearest Neighbors Accuracy =  0.8204318624066286\n"
     ]
    },
    {
     "data": {
      "image/png": "[encoded data removed]",
      "text/plain": [
       "<Figure size 432x288 with 2 Axes>"
      ]
     },
     "metadata": {
      "needs_background": "light"
     },
     "output_type": "display_data"
    }
   ],
   "source": [
    "display_results(best_knn, \"K Nearest Neighbors\")"
   ]
  },
  {
   "cell_type": "code",
   "execution_count": 123,
   "metadata": {
    "scrolled": false
   },
   "outputs": [
    {
     "name": "stdout",
     "output_type": "stream",
     "text": [
      "Fitting 5 folds for each of 320 candidates, totalling 1600 fits\n"
     ]
    },
    {
     "name": "stderr",
     "output_type": "stream",
     "text": [
      "[Parallel(n_jobs=-1)]: Using backend LokyBackend with 4 concurrent workers.\n",
      "[Parallel(n_jobs=-1)]: Done  76 tasks      | elapsed:    1.3s\n",
      "[Parallel(n_jobs=-1)]: Done 664 tasks      | elapsed:   12.0s\n",
      "[Parallel(n_jobs=-1)]: Done 1593 out of 1600 | elapsed:   25.6s remaining:    0.1s\n",
      "[Parallel(n_jobs=-1)]: Done 1600 out of 1600 | elapsed:   25.7s finished\n",
      "/Library/Frameworks/Python.framework/Versions/3.8/lib/python3.8/site-packages/sklearn/svm/_base.py:228: ConvergenceWarning: Solver terminated early (max_iter=1000).  Consider pre-processing your data with StandardScaler or MinMaxScaler.\n",
      "  warnings.warn('Solver terminated early (max_iter=%i).'\n"
     ]
    }
   ],
   "source": [
    "# Find Best Support Vector Machine Regression\n",
    "pipe = Pipeline([('classifier' , SVC(random_state=RANDOM_STATE, \n",
    "                                                    max_iter=1000))])\n",
    "\n",
    "# Create param grid.\n",
    "param_grid = [{\n",
    "    'classifier' : [SVC(random_state=RANDOM_STATE, max_iter=1000)],\n",
    "    'classifier__kernel' : ['linear', 'poly', 'rbf', 'sigmoid'],\n",
    "    'classifier__C' : np.logspace(-4, 4, 20),\n",
    "    'classifier__gamma' : ['scale', 'auto'],\n",
    "    'classifier__class_weight' : ['balanced', None]\n",
    "}]\n",
    "\n",
    "# Fit on data\n",
    "best_svc = gridSearch(pipe, param_grid, X_train, Y_train, K)"
   ]
  },
  {
   "cell_type": "code",
   "execution_count": 124,
   "metadata": {},
   "outputs": [
    {
     "data": {
      "text/plain": [
       "SVC(C=4.281332398719396, break_ties=False, cache_size=200, class_weight=None,\n",
       "    coef0=0.0, decision_function_shape='ovr', degree=3, gamma='auto',\n",
       "    kernel='rbf', max_iter=1000, probability=False, random_state=42,\n",
       "    shrinking=True, tol=0.001, verbose=False)"
      ]
     },
     "execution_count": 124,
     "metadata": {},
     "output_type": "execute_result"
    }
   ],
   "source": [
    "best_svc.best_estimator_.get_params()['classifier']"
   ]
  },
  {
   "cell_type": "code",
   "execution_count": 125,
   "metadata": {},
   "outputs": [
    {
     "name": "stdout",
     "output_type": "stream",
     "text": [
      "Best Support Vector Classifier Accuracy =  0.8350009415604797\n"
     ]
    },
    {
     "data": {
      "image/png": "[encoded data removed]",
      "text/plain": [
       "<Figure size 432x288 with 2 Axes>"
      ]
     },
     "metadata": {
      "needs_background": "light"
     },
     "output_type": "display_data"
    }
   ],
   "source": [
    "display_results(best_svc, \"Support Vector Classifier\")"
   ]
  },
  {
   "cell_type": "code",
   "execution_count": 126,
   "metadata": {},
   "outputs": [
    {
     "name": "stdout",
     "output_type": "stream",
     "text": [
      "Best Naive Bayes Accuracy =  0.7598204264870931\n"
     ]
    },
    {
     "data": {
      "image/png": "[encoded data removed]",
      "text/plain": [
       "<Figure size 432x288 with 2 Axes>"
      ]
     },
     "metadata": {
      "needs_background": "light"
     },
     "output_type": "display_data"
    }
   ],
   "source": [
    "# Confusion Matrix for Naive Bayes Training Data\n",
    "## No tuning to do - difficult to set priors\n",
    "\n",
    "print('Best Naive Bayes Accuracy = ', gnb.score(X_train, Y_train))\n",
    "## Have more False Positives that False Negatives\n",
    "y_pred = gnb.predict(X_train)\n",
    "sns.heatmap(confusion_matrix(Y_train, y_pred), annot=True);\n",
    "plt.ylabel('Predicted');\n",
    "plt.xlabel('Actual');"
   ]
  },
  {
   "cell_type": "markdown",
   "metadata": {},
   "source": [
    "### 3.7 Neural Network"
   ]
  },
  {
   "cell_type": "code",
   "execution_count": 135,
   "metadata": {
    "scrolled": false
   },
   "outputs": [
    {
     "name": "stdout",
     "output_type": "stream",
     "text": [
      "Epoch 1/100\n",
      "11/11 [==============================] - 0s 26ms/step - loss: 0.5581 - accuracy: 0.7231 - val_loss: 0.4289 - val_accuracy: 0.8206\n",
      "Epoch 2/100\n",
      "11/11 [==============================] - 0s 7ms/step - loss: 0.4671 - accuracy: 0.8144 - val_loss: 0.3452 - val_accuracy: 0.8565\n",
      "Epoch 3/100\n",
      "11/11 [==============================] - 0s 9ms/step - loss: 0.4255 - accuracy: 0.8338 - val_loss: 0.3547 - val_accuracy: 0.8610\n",
      "Epoch 4/100\n",
      "11/11 [==============================] - 0s 9ms/step - loss: 0.3952 - accuracy: 0.8338 - val_loss: 0.3546 - val_accuracy: 0.8520\n",
      "Epoch 5/100\n",
      "11/11 [==============================] - 0s 8ms/step - loss: 0.3819 - accuracy: 0.8533 - val_loss: 0.3582 - val_accuracy: 0.8655\n",
      "Epoch 6/100\n",
      "11/11 [==============================] - 0s 10ms/step - loss: 0.3565 - accuracy: 0.8608 - val_loss: 0.4624 - val_accuracy: 0.8475\n",
      "Epoch 7/100\n",
      "11/11 [==============================] - 0s 14ms/step - loss: 0.3794 - accuracy: 0.8428 - val_loss: 0.3852 - val_accuracy: 0.8610\n",
      "Epoch 8/100\n",
      "11/11 [==============================] - 0s 8ms/step - loss: 0.3779 - accuracy: 0.8653 - val_loss: 0.3782 - val_accuracy: 0.8520\n",
      "Epoch 9/100\n",
      "11/11 [==============================] - 0s 9ms/step - loss: 0.3681 - accuracy: 0.8608 - val_loss: 0.4030 - val_accuracy: 0.8610\n",
      "Epoch 10/100\n",
      "11/11 [==============================] - 0s 6ms/step - loss: 0.3485 - accuracy: 0.8548 - val_loss: 0.3714 - val_accuracy: 0.8565\n",
      "Epoch 11/100\n",
      "11/11 [==============================] - 0s 14ms/step - loss: 0.3432 - accuracy: 0.8683 - val_loss: 0.3880 - val_accuracy: 0.8520\n",
      "Epoch 12/100\n",
      "11/11 [==============================] - 0s 13ms/step - loss: 0.3307 - accuracy: 0.8533 - val_loss: 0.4272 - val_accuracy: 0.8520\n",
      "Epoch 13/100\n",
      "11/11 [==============================] - 0s 9ms/step - loss: 0.3110 - accuracy: 0.8817 - val_loss: 0.4068 - val_accuracy: 0.8386\n",
      "Epoch 14/100\n",
      "11/11 [==============================] - 0s 10ms/step - loss: 0.3165 - accuracy: 0.8743 - val_loss: 0.3918 - val_accuracy: 0.8386\n",
      "Epoch 15/100\n",
      "11/11 [==============================] - 0s 15ms/step - loss: 0.3085 - accuracy: 0.8757 - val_loss: 0.4217 - val_accuracy: 0.8341\n",
      "Epoch 16/100\n",
      "11/11 [==============================] - 0s 12ms/step - loss: 0.3163 - accuracy: 0.8772 - val_loss: 0.4697 - val_accuracy: 0.8341\n",
      "Epoch 17/100\n",
      "11/11 [==============================] - 0s 12ms/step - loss: 0.3134 - accuracy: 0.8757 - val_loss: 0.4764 - val_accuracy: 0.8341\n",
      "Epoch 18/100\n",
      "11/11 [==============================] - 0s 19ms/step - loss: 0.3155 - accuracy: 0.8757 - val_loss: 0.4129 - val_accuracy: 0.8520\n",
      "Epoch 19/100\n",
      "11/11 [==============================] - 0s 34ms/step - loss: 0.2950 - accuracy: 0.8862 - val_loss: 0.4767 - val_accuracy: 0.8430\n",
      "Epoch 20/100\n",
      "11/11 [==============================] - 0s 29ms/step - loss: 0.2968 - accuracy: 0.8802 - val_loss: 0.5055 - val_accuracy: 0.8430\n",
      "Epoch 21/100\n",
      "11/11 [==============================] - 0s 32ms/step - loss: 0.3233 - accuracy: 0.8698 - val_loss: 0.5406 - val_accuracy: 0.8386\n",
      "Epoch 22/100\n",
      "11/11 [==============================] - 0s 20ms/step - loss: 0.3159 - accuracy: 0.8772 - val_loss: 0.4779 - val_accuracy: 0.8520\n",
      "Epoch 23/100\n",
      "11/11 [==============================] - 0s 15ms/step - loss: 0.2923 - accuracy: 0.8907 - val_loss: 0.5407 - val_accuracy: 0.8341\n",
      "Epoch 24/100\n",
      "11/11 [==============================] - 0s 17ms/step - loss: 0.2985 - accuracy: 0.8787 - val_loss: 0.4230 - val_accuracy: 0.8386\n",
      "Epoch 25/100\n",
      "11/11 [==============================] - 0s 32ms/step - loss: 0.2961 - accuracy: 0.8907 - val_loss: 0.4419 - val_accuracy: 0.8386\n",
      "Epoch 26/100\n",
      "11/11 [==============================] - 0s 16ms/step - loss: 0.2920 - accuracy: 0.8832 - val_loss: 0.4256 - val_accuracy: 0.8520\n",
      "Epoch 27/100\n",
      "11/11 [==============================] - 0s 20ms/step - loss: 0.2927 - accuracy: 0.8877 - val_loss: 0.4261 - val_accuracy: 0.8341\n",
      "Epoch 28/100\n",
      "11/11 [==============================] - 0s 10ms/step - loss: 0.2673 - accuracy: 0.8922 - val_loss: 0.5369 - val_accuracy: 0.8296\n"
     ]
    }
   ],
   "source": [
    "from tensorflow.keras.models import Sequential\n",
    "from tensorflow.keras.layers import Dense, Dropout\n",
    "from tensorflow.keras.optimizers import Adam\n",
    "from numpy.random import seed\n",
    "seed(42)\n",
    "import tensorflow\n",
    "tensorflow.random.set_seed(42)\n",
    "from sklearn.metrics import accuracy_score\n",
    "\n",
    "from tensorflow.keras.callbacks import EarlyStopping\n",
    "\n",
    "seed(42)\n",
    "tensorflow.random.set_seed(42)\n",
    "\n",
    "# Model configuration\n",
    "batch_size = 64\n",
    "loss_function = 'binary_crossentropy'\n",
    "no_epochs = 100\n",
    "learning_rate = 0.01\n",
    "optimizer = Adam(lr=learning_rate)\n",
    "verbosity = 1\n",
    "VAL_SIZE = 0.25\n",
    "\n",
    "# Model Architecture\n",
    "model = Sequential()\n",
    "model.add(Dense(128, input_dim=len(X_train.columns), activation='relu'))\n",
    "model.add(Dropout(.1))\n",
    "model.add(Dense(64))\n",
    "model.add(Dropout(.1))\n",
    "model.add(Dense(32))\n",
    "model.add(Dropout(.1))\n",
    "model.add(Dense(16))\n",
    "model.add(Dropout(.1))\n",
    "model.add(Dense(1, activation='sigmoid'))\n",
    "\n",
    "# Compile the model\n",
    "model.compile(loss=loss_function,\n",
    "                optimizer=optimizer,\n",
    "                metrics=['accuracy'])\n",
    "\n",
    "# Early Stopping\n",
    "early_stop = EarlyStopping(monitor='accuracy', \n",
    "                            patience=15,\n",
    "                            min_delta=0.015)\n",
    "\n",
    "\n",
    "# Fit data to model\n",
    "history = model.fit(X_train, Y_train,\n",
    "              batch_size=batch_size,\n",
    "              epochs=no_epochs,\n",
    "              verbose=verbosity, \n",
    "              callbacks=[early_stop],\n",
    "            validation_split=VAL_SIZE)"
   ]
  },
  {
   "cell_type": "code",
   "execution_count": 136,
   "metadata": {
    "scrolled": false
   },
   "outputs": [],
   "source": [
    "# Predict the Survived on the Test\n",
    "# Make Final Predictions\n",
    "test_preds = model.predict(testClean)[:,0]\n",
    "test_preds = (test_preds >= 0.5).astype(int)\n",
    "submission = pd.DataFrame({'PassengerId': test['PassengerId'],\n",
    "                          'Survived': test_preds})\n",
    "submission.to_csv('data/submission.csv', index=False)"
   ]
  },
  {
   "cell_type": "markdown",
   "metadata": {},
   "source": [
    "## 4. Final Model Diagnostics and Predictions\n",
    "\n",
    "All 3 models have a few more false positives, but splits are slightly different. Will Use voting classifier to utilize all 3 models."
   ]
  },
  {
   "cell_type": "code",
   "execution_count": 57,
   "metadata": {
    "scrolled": false
   },
   "outputs": [],
   "source": [
    "lr = best_logreg.best_estimator_.get_params()['classifier']\n",
    "rf = best_rf.best_estimator_.get_params()['classifier']\n",
    "knn = best_knn.best_estimator_.get_params()['classifier']\n",
    "svc = best_svc.best_estimator_.get_params()['classifier']\n",
    "gnb = gnb\n",
    "\n",
    "eclf = VotingClassifier(estimators=[\n",
    "    ('lr', lr), ('rf', rf), ('knn', knn), ('gnb', gnb), ('svc', svc)], \n",
    "                        voting='hard')"
   ]
  },
  {
   "cell_type": "code",
   "execution_count": 58,
   "metadata": {},
   "outputs": [
    {
     "name": "stdout",
     "output_type": "stream",
     "text": [
      "Voting Model 5 Fold CV Accuracy = 0.8294143493817087\n",
      "Voting Model Training Accuracy = 0.8496071829405163\n"
     ]
    }
   ],
   "source": [
    "cv_acc = cross_val_acc(eclf, X_train, Y_train, K)\n",
    "print(f'Voting Model {K} Fold CV Accuracy = {cv_acc}')\n",
    "\n",
    "eclf = eclf.fit(X_train, Y_train)\n",
    "print(f'Voting Model Training Accuracy = {eclf.score(X_train, Y_train)}')"
   ]
  },
  {
   "cell_type": "code",
   "execution_count": 62,
   "metadata": {},
   "outputs": [
    {
     "data": {
      "image/png": "[encoded data removed]",
      "text/plain": [
       "<Figure size 432x288 with 2 Axes>"
      ]
     },
     "metadata": {
      "needs_background": "light"
     },
     "output_type": "display_data"
    }
   ],
   "source": [
    "# Confusion Matrix for Voting model on Training Data\n",
    "## Have more False Positives that False Negatives\n",
    "y_pred = eclf.predict(X_train)\n",
    "sns.heatmap(confusion_matrix(Y_train, y_pred), annot=True);\n",
    "plt.ylabel('Predicted');\n",
    "plt.xlabel('Actual');\n",
    "plt.title('Confusion Matrix for Voting Classifier');"
   ]
  },
  {
   "cell_type": "code",
   "execution_count": 69,
   "metadata": {},
   "outputs": [],
   "source": [
    "# Make Final Predictions\n",
    "test_preds = eclf.predict(testClean)\n",
    "submission = pd.DataFrame({'PassengerId': test['PassengerId'],\n",
    "                          'Survived': test_preds})\n",
    "submission.to_csv('data/submission.csv', index=False)"
   ]
  },
  {
   "cell_type": "markdown",
   "metadata": {},
   "source": [
    "**Final Results**\n",
    "\n",
    "77.751% Accuracy on Kaggle Public Leaderboard"
   ]
  }
 ],
 "metadata": {
  "kernelspec": {
   "display_name": "Python 3",
   "language": "python",
   "name": "python3"
  },
  "language_info": {
   "codemirror_mode": {
    "name": "ipython",
    "version": 3
   },
   "file_extension": ".py",
   "mimetype": "text/x-python",
   "name": "python",
   "nbconvert_exporter": "python",
   "pygments_lexer": "ipython3",
   "version": "3.8.3"
  }
 },
 "nbformat": 4,
 "nbformat_minor": 4
}
